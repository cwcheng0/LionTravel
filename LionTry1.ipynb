{
  "nbformat": 4,
  "nbformat_minor": 0,
  "metadata": {
    "colab": {
      "name": "LionTry1.ipynb",
      "version": "0.3.2",
      "provenance": [],
      "include_colab_link": true
    },
    "kernelspec": {
      "name": "python3",
      "display_name": "Python 3"
    }
  },
  "cells": [
    {
      "cell_type": "markdown",
      "metadata": {
        "id": "view-in-github",
        "colab_type": "text"
      },
      "source": [
        "<a href=\"https://colab.research.google.com/github/cwcheng0/LionTravel/blob/master/LionTry1.ipynb\" target=\"_parent\"><img src=\"https://colab.research.google.com/assets/colab-badge.svg\" alt=\"Open In Colab\"/></a>"
      ]
    },
    {
      "metadata": {
        "id": "2YBo20dXtWmf",
        "colab_type": "code",
        "colab": {}
      },
      "cell_type": "code",
      "source": [
        "# 旅遊訂單成行預測\n",
        "# Source https://tbrain.trendmicro.com.tw/Competitions/Details/4\n",
        "# Filename: Lion Travel Try1\n",
        "# Load basic libraries\n",
        "# Reference Kaggle競賽-鐵達尼號生存預測 https://bit.ly/2EJubnu\n",
        "import pandas as pd\n",
        "import numpy as np\n",
        "from sklearn.model_selection import train_test_split\n",
        "from sklearn.ensemble import RandomForestClassifier\n",
        "from sklearn.metrics import confusion_matrix\n",
        "from sklearn.metrics import roc_curve\n",
        "from sklearn.metrics import mean_absolute_error as MAE\n",
        "import gc\n",
        "import matplotlib\n",
        "import matplotlib.pyplot as plt\n",
        "from IPython.display import display, HTML"
      ],
      "execution_count": 0,
      "outputs": []
    },
    {
      "metadata": {
        "id": "jsHWedtFtayH",
        "colab_type": "code",
        "outputId": "99ab5d7a-8ddb-4180-b5f4-fc65df1bfb1d",
        "colab": {
          "base_uri": "https://localhost:8080/",
          "height": 35
        }
      },
      "cell_type": "code",
      "source": [
        "# Mount personal Google Drive; all data files are in personal Google Drive\n",
        "from google.colab import drive\n",
        "drive.mount('/content/gdrive')"
      ],
      "execution_count": 18,
      "outputs": [
        {
          "output_type": "stream",
          "text": [
            "Drive already mounted at /content/gdrive; to attempt to forcibly remount, call drive.mount(\"/content/gdrive\", force_remount=True).\n"
          ],
          "name": "stdout"
        }
      ]
    },
    {
      "metadata": {
        "id": "Ly2Q-QgGteJQ",
        "colab_type": "code",
        "outputId": "9d6dd388-a315-44fa-929d-5f361e68d41e",
        "colab": {
          "base_uri": "https://localhost:8080/",
          "height": 35
        }
      },
      "cell_type": "code",
      "source": [
        "# Create a file to see if it works\n",
        "with open('/content/gdrive/My Drive/LionData/foo.txt', 'w') as f:\n",
        "  f.write('Hello Google Drive!')\n",
        "!cat /content/gdrive/My\\ Drive/LionData/foo.txt"
      ],
      "execution_count": 19,
      "outputs": [
        {
          "output_type": "stream",
          "text": [
            "Hello Google Drive!"
          ],
          "name": "stdout"
        }
      ]
    },
    {
      "metadata": {
        "id": "XqfarUTZ0p2G",
        "colab_type": "code",
        "colab": {}
      },
      "cell_type": "code",
      "source": [
        "# Use PDrive function\n",
        "!pip install -U -q PyDrive\n",
        "\n",
        "from pydrive.auth import GoogleAuth\n",
        "from pydrive.drive import GoogleDrive\n",
        "from google.colab import auth\n",
        "from oauth2client.client import GoogleCredentials\n",
        "\n",
        "# Authenticate and create the PyDrive client.\n",
        "auth.authenticate_user()\n",
        "gauth = GoogleAuth()\n",
        "gauth.credentials = GoogleCredentials.get_application_default()\n",
        "drive = GoogleDrive(gauth)"
      ],
      "execution_count": 0,
      "outputs": []
    },
    {
      "metadata": {
        "id": "Wt642l0qv_Xm",
        "colab_type": "code",
        "outputId": "0f066ec7-9226-483b-8268-9a6de693fa5c",
        "colab": {
          "base_uri": "https://localhost:8080/",
          "height": 233
        }
      },
      "cell_type": "code",
      "source": [
        "# List files in root directory\n",
        "file_list = drive.ListFile({'q': \"'root' in parents and trashed=false\"}).GetList()\n",
        "for file1 in file_list:\n",
        "  print('title: %s, id: %s' % (file1['title'], file1['id']))"
      ],
      "execution_count": 21,
      "outputs": [
        {
          "output_type": "stream",
          "text": [
            "title: LionData, id: 192h03HmhseVUECi1YL9BAH44nzOAOl99\n",
            "title: 高雄踩線_入境專門_201811, id: 1nbkFELE6rqen4yiz8zmGoSn_D7Bzxk0oEw7WB42SGY4\n",
            "title: APP Enhancement 20180922, id: 1_8eezq9xEYr-R6DdShE4qSK6jqn4DsBLSOGHCU4b4Zk\n",
            "title: 2018湖南考察通知, id: 1rg6F0QGyEyOtGA0hu2-iYyFrMbN5beHtaQaGejXZL0Y\n",
            "title: Colab Notebooks, id: 13yubYLLF_3_MObjXoj-K2aGo-_UFoQZo\n",
            "title: 2018臺中世界花卉博覽會資訊, id: 15EtnahX4qyclEPd7NnhOVmll3IM8EHuA\n",
            "title: 世紀遊輪說明會資料, id: 1KvUeeHoaP-s1wM2C9-Zr8WvdSXUjDEpc\n",
            "title: 人工智慧學校: 生成對抗網路, id: 1kcbSo9k_FEAjZLNqvkCJImnUXSJ83dgi3ZD8mCvnmeY\n",
            "title: Titanic.ipynb, id: 1OaUvIvIgk4kxybdORIkDbXsm-b_MMr_P\n",
            "title: Python测验20题（完整答案）.ipynb, id: 1U7ltREOUspPOSv0tvTzB7ltuXEtBMP1b\n",
            "title: 3.经典Kaggle案例_泰坦尼克号实战全解析.ipynb, id: 1-nVUTS-71lZjSIwK-NReb54ncYCE5HH5\n",
            "title: bnbdata, id: 1yWUzpFHcZDftSVqbCaepJVd9oGsm2pww\n"
          ],
          "name": "stdout"
        }
      ]
    },
    {
      "metadata": {
        "id": "vJJ79Ofrw9c8",
        "colab_type": "code",
        "outputId": "bf2f407e-f12f-41e2-c70a-0ccb85e00c71",
        "colab": {
          "base_uri": "https://localhost:8080/",
          "height": 204
        }
      },
      "cell_type": "code",
      "source": [
        "# Check first 5 rows in a csv\n",
        "df = pd.read_csv('/content/gdrive/My Drive/LionData/airline.csv')\n",
        "df.head()"
      ],
      "execution_count": 22,
      "outputs": [
        {
          "output_type": "execute_result",
          "data": {
            "text/html": [
              "<div>\n",
              "<style scoped>\n",
              "    .dataframe tbody tr th:only-of-type {\n",
              "        vertical-align: middle;\n",
              "    }\n",
              "\n",
              "    .dataframe tbody tr th {\n",
              "        vertical-align: top;\n",
              "    }\n",
              "\n",
              "    .dataframe thead th {\n",
              "        text-align: right;\n",
              "    }\n",
              "</style>\n",
              "<table border=\"1\" class=\"dataframe\">\n",
              "  <thead>\n",
              "    <tr style=\"text-align: right;\">\n",
              "      <th></th>\n",
              "      <th>group_id</th>\n",
              "      <th>go_back</th>\n",
              "      <th>fly_time</th>\n",
              "      <th>src_airport</th>\n",
              "      <th>arrive_time</th>\n",
              "      <th>dst_airport</th>\n",
              "    </tr>\n",
              "  </thead>\n",
              "  <tbody>\n",
              "    <tr>\n",
              "      <th>0</th>\n",
              "      <td>63695</td>\n",
              "      <td>去程</td>\n",
              "      <td>2017/3/22 23:30</td>\n",
              "      <td>TPE 桃園機場</td>\n",
              "      <td>2017/3/22 14:15</td>\n",
              "      <td>HNL 檀香山機場</td>\n",
              "    </tr>\n",
              "    <tr>\n",
              "      <th>1</th>\n",
              "      <td>63695</td>\n",
              "      <td>回程</td>\n",
              "      <td>2017/4/1 14:30</td>\n",
              "      <td>LAX 洛杉機機場</td>\n",
              "      <td>2017/4/2 21:00</td>\n",
              "      <td>TPE 桃園機場</td>\n",
              "    </tr>\n",
              "    <tr>\n",
              "      <th>2</th>\n",
              "      <td>53481</td>\n",
              "      <td>去程</td>\n",
              "      <td>2017/5/17 23:00</td>\n",
              "      <td>TPE 桃園機場</td>\n",
              "      <td>2017/5/17 14:45</td>\n",
              "      <td>HNL 檀香山機場</td>\n",
              "    </tr>\n",
              "    <tr>\n",
              "      <th>3</th>\n",
              "      <td>53481</td>\n",
              "      <td>回程</td>\n",
              "      <td>2017/5/27 16:00</td>\n",
              "      <td>LAX 洛杉機機場</td>\n",
              "      <td>2017/5/28 21:05</td>\n",
              "      <td>TPE 桃園機場</td>\n",
              "    </tr>\n",
              "    <tr>\n",
              "      <th>4</th>\n",
              "      <td>54305</td>\n",
              "      <td>去程</td>\n",
              "      <td>2017/6/21 23:30</td>\n",
              "      <td>TPE 桃園機場</td>\n",
              "      <td>2017/6/21 14:15</td>\n",
              "      <td>HNL 檀香山機場</td>\n",
              "    </tr>\n",
              "  </tbody>\n",
              "</table>\n",
              "</div>"
            ],
            "text/plain": [
              "   group_id go_back         fly_time src_airport      arrive_time dst_airport\n",
              "0     63695      去程  2017/3/22 23:30    TPE 桃園機場  2017/3/22 14:15   HNL 檀香山機場\n",
              "1     63695      回程   2017/4/1 14:30   LAX 洛杉機機場   2017/4/2 21:00    TPE 桃園機場\n",
              "2     53481      去程  2017/5/17 23:00    TPE 桃園機場  2017/5/17 14:45   HNL 檀香山機場\n",
              "3     53481      回程  2017/5/27 16:00   LAX 洛杉機機場  2017/5/28 21:05    TPE 桃園機場\n",
              "4     54305      去程  2017/6/21 23:30    TPE 桃園機場  2017/6/21 14:15   HNL 檀香山機場"
            ]
          },
          "metadata": {
            "tags": []
          },
          "execution_count": 22
        }
      ]
    },
    {
      "metadata": {
        "id": "cQX4FQ_i4NR5",
        "colab_type": "code",
        "outputId": "19a6316a-311e-4eeb-e6e0-9a749fde78c8",
        "colab": {
          "base_uri": "https://localhost:8080/",
          "height": 289
        }
      },
      "cell_type": "code",
      "source": [
        "# Check first 5 rows in a csv\n",
        "group = pd.read_csv('/content/gdrive/My Drive/LionData/group.csv')\n",
        "group.head()"
      ],
      "execution_count": 23,
      "outputs": [
        {
          "output_type": "execute_result",
          "data": {
            "text/html": [
              "<div>\n",
              "<style scoped>\n",
              "    .dataframe tbody tr th:only-of-type {\n",
              "        vertical-align: middle;\n",
              "    }\n",
              "\n",
              "    .dataframe tbody tr th {\n",
              "        vertical-align: top;\n",
              "    }\n",
              "\n",
              "    .dataframe thead th {\n",
              "        text-align: right;\n",
              "    }\n",
              "</style>\n",
              "<table border=\"1\" class=\"dataframe\">\n",
              "  <thead>\n",
              "    <tr style=\"text-align: right;\">\n",
              "      <th></th>\n",
              "      <th>group_id</th>\n",
              "      <th>sub_line</th>\n",
              "      <th>area</th>\n",
              "      <th>days</th>\n",
              "      <th>begin_date</th>\n",
              "      <th>price</th>\n",
              "      <th>product_name</th>\n",
              "      <th>promotion_prog</th>\n",
              "    </tr>\n",
              "  </thead>\n",
              "  <tbody>\n",
              "    <tr>\n",
              "      <th>0</th>\n",
              "      <td>63695</td>\n",
              "      <td>subline_value_1</td>\n",
              "      <td>area_value_1</td>\n",
              "      <td>12</td>\n",
              "      <td>22-Mar-17</td>\n",
              "      <td>106900</td>\n",
              "      <td>最高省8000》大美西～夏威夷、優勝美地、西峽天空步道、聖地牙哥、環球影城(哈利波特)12日</td>\n",
              "      <td>&amp;lt;B&amp;gt;[GG]《行銷活動》[//]&amp;lt;/B&amp;gt;&amp;lt;font face...</td>\n",
              "    </tr>\n",
              "    <tr>\n",
              "      <th>1</th>\n",
              "      <td>53481</td>\n",
              "      <td>subline_value_1</td>\n",
              "      <td>area_value_1</td>\n",
              "      <td>12</td>\n",
              "      <td>17-May-17</td>\n",
              "      <td>112900</td>\n",
              "      <td>《玩樂369》旗艦大美西12日～升等五星、優勝美地、西峽天空步道、卡利哥鬼鎮、環球影城大美西12日</td>\n",
              "      <td>&amp;lt;B&amp;gt;[GG]《行銷活動》[//]&amp;lt;/B&amp;gt;&amp;lt;font face...</td>\n",
              "    </tr>\n",
              "    <tr>\n",
              "      <th>2</th>\n",
              "      <td>54305</td>\n",
              "      <td>subline_value_1</td>\n",
              "      <td>area_value_1</td>\n",
              "      <td>12</td>\n",
              "      <td>21-Jun-17</td>\n",
              "      <td>115900</td>\n",
              "      <td>《玩樂369》旗艦大美西12日～升等五星、優勝美地、西峽天空步道、卡利哥鬼鎮、環球影城大美西12日</td>\n",
              "      <td>&amp;lt;B&amp;gt;[GG]《行銷活動》[//]&amp;lt;/B&amp;gt;&amp;lt;font face...</td>\n",
              "    </tr>\n",
              "    <tr>\n",
              "      <th>3</th>\n",
              "      <td>41766</td>\n",
              "      <td>subline_value_1</td>\n",
              "      <td>area_value_1</td>\n",
              "      <td>12</td>\n",
              "      <td>12-Jul-17</td>\n",
              "      <td>126900</td>\n",
              "      <td>《玩樂369》旗艦大美西12日～升等五星、優勝美地、西峽天空步道、卡利哥鬼鎮、環球影城大美西12日</td>\n",
              "      <td>&amp;lt;B&amp;gt;[GG]《行銷活動》[//]&amp;lt;/B&amp;gt;&amp;lt;font face...</td>\n",
              "    </tr>\n",
              "    <tr>\n",
              "      <th>4</th>\n",
              "      <td>32196</td>\n",
              "      <td>subline_value_1</td>\n",
              "      <td>area_value_1</td>\n",
              "      <td>12</td>\n",
              "      <td>9-Aug-17</td>\n",
              "      <td>126900</td>\n",
              "      <td>《玩樂369》旗艦大美西12日～升等五星、優勝美地、西峽天空步道、卡利哥鬼鎮、環球影城大美西12日</td>\n",
              "      <td>&amp;lt;B&amp;gt;[GG]《行銷活動》[//]&amp;lt;/B&amp;gt;&amp;lt;font face...</td>\n",
              "    </tr>\n",
              "  </tbody>\n",
              "</table>\n",
              "</div>"
            ],
            "text/plain": [
              "   group_id         sub_line          area  days begin_date   price  \\\n",
              "0     63695  subline_value_1  area_value_1    12  22-Mar-17  106900   \n",
              "1     53481  subline_value_1  area_value_1    12  17-May-17  112900   \n",
              "2     54305  subline_value_1  area_value_1    12  21-Jun-17  115900   \n",
              "3     41766  subline_value_1  area_value_1    12  12-Jul-17  126900   \n",
              "4     32196  subline_value_1  area_value_1    12   9-Aug-17  126900   \n",
              "\n",
              "                                        product_name  \\\n",
              "0     最高省8000》大美西～夏威夷、優勝美地、西峽天空步道、聖地牙哥、環球影城(哈利波特)12日   \n",
              "1  《玩樂369》旗艦大美西12日～升等五星、優勝美地、西峽天空步道、卡利哥鬼鎮、環球影城大美西12日   \n",
              "2  《玩樂369》旗艦大美西12日～升等五星、優勝美地、西峽天空步道、卡利哥鬼鎮、環球影城大美西12日   \n",
              "3  《玩樂369》旗艦大美西12日～升等五星、優勝美地、西峽天空步道、卡利哥鬼鎮、環球影城大美西12日   \n",
              "4  《玩樂369》旗艦大美西12日～升等五星、優勝美地、西峽天空步道、卡利哥鬼鎮、環球影城大美西12日   \n",
              "\n",
              "                                      promotion_prog  \n",
              "0  &lt;B&gt;[GG]《行銷活動》[//]&lt;/B&gt;&lt;font face...  \n",
              "1  &lt;B&gt;[GG]《行銷活動》[//]&lt;/B&gt;&lt;font face...  \n",
              "2  &lt;B&gt;[GG]《行銷活動》[//]&lt;/B&gt;&lt;font face...  \n",
              "3  &lt;B&gt;[GG]《行銷活動》[//]&lt;/B&gt;&lt;font face...  \n",
              "4  &lt;B&gt;[GG]《行銷活動》[//]&lt;/B&gt;&lt;font face...  "
            ]
          },
          "metadata": {
            "tags": []
          },
          "execution_count": 23
        }
      ]
    },
    {
      "metadata": {
        "id": "mL-ioev14X5k",
        "colab_type": "code",
        "outputId": "55f5d44d-62bf-4200-e94f-b446833a346f",
        "colab": {
          "base_uri": "https://localhost:8080/",
          "height": 204
        }
      },
      "cell_type": "code",
      "source": [
        "# Check first 5 rows in a csv\n",
        "dschedule = pd.read_csv('/content/gdrive/My Drive/LionData/day_schedule.csv')\n",
        "dschedule.head()"
      ],
      "execution_count": 24,
      "outputs": [
        {
          "output_type": "execute_result",
          "data": {
            "text/html": [
              "<div>\n",
              "<style scoped>\n",
              "    .dataframe tbody tr th:only-of-type {\n",
              "        vertical-align: middle;\n",
              "    }\n",
              "\n",
              "    .dataframe tbody tr th {\n",
              "        vertical-align: top;\n",
              "    }\n",
              "\n",
              "    .dataframe thead th {\n",
              "        text-align: right;\n",
              "    }\n",
              "</style>\n",
              "<table border=\"1\" class=\"dataframe\">\n",
              "  <thead>\n",
              "    <tr style=\"text-align: right;\">\n",
              "      <th></th>\n",
              "      <th>group_id</th>\n",
              "      <th>day</th>\n",
              "      <th>title</th>\n",
              "    </tr>\n",
              "  </thead>\n",
              "  <tbody>\n",
              "    <tr>\n",
              "      <th>0</th>\n",
              "      <td>63695</td>\n",
              "      <td>1.0</td>\n",
              "      <td>台北 [AIR]歐胡島市區觀光【州政府．皇宮．國王銅像．中國城】</td>\n",
              "    </tr>\n",
              "    <tr>\n",
              "      <th>1</th>\n",
              "      <td>63695</td>\n",
              "      <td>2.0</td>\n",
              "      <td>夏威夷小環島【鑽石頭山．恐龍灣．噴泉口】－珍珠港[BOATS]豪華愛之船Star of Ho...</td>\n",
              "    </tr>\n",
              "    <tr>\n",
              "      <th>2</th>\n",
              "      <td>63695</td>\n",
              "      <td>3.0</td>\n",
              "      <td>夏威夷 [AIR] 舊金山</td>\n",
              "    </tr>\n",
              "    <tr>\n",
              "      <th>3</th>\n",
              "      <td>63695</td>\n",
              "      <td>4.0</td>\n",
              "      <td>舊金山市區觀光【藝術宮．金門大橋．金門公園．漁人碼頭．金門灣遊船．市政廳．雙子峰．九曲花街】</td>\n",
              "    </tr>\n",
              "    <tr>\n",
              "      <th>4</th>\n",
              "      <td>63695</td>\n",
              "      <td>5.0</td>\n",
              "      <td>舊金山－300KM－優勝美地國家公園－100KM－佛雷斯諾</td>\n",
              "    </tr>\n",
              "  </tbody>\n",
              "</table>\n",
              "</div>"
            ],
            "text/plain": [
              "   group_id  day                                              title\n",
              "0     63695  1.0                   台北 [AIR]歐胡島市區觀光【州政府．皇宮．國王銅像．中國城】\n",
              "1     63695  2.0  夏威夷小環島【鑽石頭山．恐龍灣．噴泉口】－珍珠港[BOATS]豪華愛之船Star of Ho...\n",
              "2     63695  3.0                                      夏威夷 [AIR] 舊金山\n",
              "3     63695  4.0     舊金山市區觀光【藝術宮．金門大橋．金門公園．漁人碼頭．金門灣遊船．市政廳．雙子峰．九曲花街】\n",
              "4     63695  5.0                      舊金山－300KM－優勝美地國家公園－100KM－佛雷斯諾"
            ]
          },
          "metadata": {
            "tags": []
          },
          "execution_count": 24
        }
      ]
    },
    {
      "metadata": {
        "id": "0cIH10Xt4hJi",
        "colab_type": "code",
        "outputId": "50d711de-21c7-4dc5-b293-3a05dcb85f48",
        "colab": {
          "base_uri": "https://localhost:8080/",
          "height": 204
        }
      },
      "cell_type": "code",
      "source": [
        "# Check first 5 rows in a csv\n",
        "order = pd.read_csv('/content/gdrive/My Drive/LionData/order.csv')\n",
        "order.head()"
      ],
      "execution_count": 25,
      "outputs": [
        {
          "output_type": "execute_result",
          "data": {
            "text/html": [
              "<div>\n",
              "<style scoped>\n",
              "    .dataframe tbody tr th:only-of-type {\n",
              "        vertical-align: middle;\n",
              "    }\n",
              "\n",
              "    .dataframe tbody tr th {\n",
              "        vertical-align: top;\n",
              "    }\n",
              "\n",
              "    .dataframe thead th {\n",
              "        text-align: right;\n",
              "    }\n",
              "</style>\n",
              "<table border=\"1\" class=\"dataframe\">\n",
              "  <thead>\n",
              "    <tr style=\"text-align: right;\">\n",
              "      <th></th>\n",
              "      <th>order_id</th>\n",
              "      <th>group_id</th>\n",
              "      <th>order_date</th>\n",
              "      <th>source_1</th>\n",
              "      <th>source_2</th>\n",
              "      <th>unit</th>\n",
              "      <th>people_amount</th>\n",
              "    </tr>\n",
              "  </thead>\n",
              "  <tbody>\n",
              "    <tr>\n",
              "      <th>0</th>\n",
              "      <td>136100</td>\n",
              "      <td>63695</td>\n",
              "      <td>5-Jan-17</td>\n",
              "      <td>src1_value_1</td>\n",
              "      <td>src2_value_1</td>\n",
              "      <td>unit_value_1</td>\n",
              "      <td>2</td>\n",
              "    </tr>\n",
              "    <tr>\n",
              "      <th>1</th>\n",
              "      <td>140370</td>\n",
              "      <td>63695</td>\n",
              "      <td>9-Nov-16</td>\n",
              "      <td>src1_value_1</td>\n",
              "      <td>src2_value_1</td>\n",
              "      <td>unit_value_2</td>\n",
              "      <td>1</td>\n",
              "    </tr>\n",
              "    <tr>\n",
              "      <th>2</th>\n",
              "      <td>211009</td>\n",
              "      <td>63695</td>\n",
              "      <td>20-Jan-17</td>\n",
              "      <td>src1_value_1</td>\n",
              "      <td>src2_value_1</td>\n",
              "      <td>unit_value_3</td>\n",
              "      <td>2</td>\n",
              "    </tr>\n",
              "    <tr>\n",
              "      <th>3</th>\n",
              "      <td>41571</td>\n",
              "      <td>53481</td>\n",
              "      <td>14-Mar-17</td>\n",
              "      <td>src1_value_1</td>\n",
              "      <td>src2_value_1</td>\n",
              "      <td>unit_value_4</td>\n",
              "      <td>4</td>\n",
              "    </tr>\n",
              "    <tr>\n",
              "      <th>4</th>\n",
              "      <td>64125</td>\n",
              "      <td>53481</td>\n",
              "      <td>27-Mar-17</td>\n",
              "      <td>src1_value_2</td>\n",
              "      <td>src2_value_1</td>\n",
              "      <td>unit_value_5</td>\n",
              "      <td>1</td>\n",
              "    </tr>\n",
              "  </tbody>\n",
              "</table>\n",
              "</div>"
            ],
            "text/plain": [
              "   order_id  group_id order_date      source_1      source_2          unit  \\\n",
              "0    136100     63695   5-Jan-17  src1_value_1  src2_value_1  unit_value_1   \n",
              "1    140370     63695   9-Nov-16  src1_value_1  src2_value_1  unit_value_2   \n",
              "2    211009     63695  20-Jan-17  src1_value_1  src2_value_1  unit_value_3   \n",
              "3     41571     53481  14-Mar-17  src1_value_1  src2_value_1  unit_value_4   \n",
              "4     64125     53481  27-Mar-17  src1_value_2  src2_value_1  unit_value_5   \n",
              "\n",
              "   people_amount  \n",
              "0              2  \n",
              "1              1  \n",
              "2              2  \n",
              "3              4  \n",
              "4              1  "
            ]
          },
          "metadata": {
            "tags": []
          },
          "execution_count": 25
        }
      ]
    },
    {
      "metadata": {
        "id": "cB0IDCG44iYo",
        "colab_type": "code",
        "outputId": "0bc934f6-e63e-4af4-a0da-db1d4c270660",
        "colab": {
          "base_uri": "https://localhost:8080/",
          "height": 204
        }
      },
      "cell_type": "code",
      "source": [
        "# Check first 5 rows in a csv\n",
        "cache = pd.read_csv('/content/gdrive/My Drive/LionData/cache_map.csv')\n",
        "cache.head()"
      ],
      "execution_count": 26,
      "outputs": [
        {
          "output_type": "execute_result",
          "data": {
            "text/html": [
              "<div>\n",
              "<style scoped>\n",
              "    .dataframe tbody tr th:only-of-type {\n",
              "        vertical-align: middle;\n",
              "    }\n",
              "\n",
              "    .dataframe tbody tr th {\n",
              "        vertical-align: top;\n",
              "    }\n",
              "\n",
              "    .dataframe thead th {\n",
              "        text-align: right;\n",
              "    }\n",
              "</style>\n",
              "<table border=\"1\" class=\"dataframe\">\n",
              "  <thead>\n",
              "    <tr style=\"text-align: right;\">\n",
              "      <th></th>\n",
              "      <th>file_name</th>\n",
              "      <th>url</th>\n",
              "    </tr>\n",
              "  </thead>\n",
              "  <tbody>\n",
              "    <tr>\n",
              "      <th>0</th>\n",
              "      <td>lion_cache_1.jpg</td>\n",
              "      <td>https://www.liontravel.com/Comm/2TRS/HotSale/p...</td>\n",
              "    </tr>\n",
              "    <tr>\n",
              "      <th>1</th>\n",
              "      <td>lion_cache_2.jpg</td>\n",
              "      <td>https://www.liontravel.com/Comm/2TRS/HotSale/p...</td>\n",
              "    </tr>\n",
              "    <tr>\n",
              "      <th>2</th>\n",
              "      <td>lion_cache_3.jpg</td>\n",
              "      <td>https://www.liontravel.com/Comm/2trs/hotsale/p...</td>\n",
              "    </tr>\n",
              "    <tr>\n",
              "      <th>3</th>\n",
              "      <td>lion_cache_4.jpg</td>\n",
              "      <td>https://www.liontravel.com/Comm/2TRS/HotSale/p...</td>\n",
              "    </tr>\n",
              "    <tr>\n",
              "      <th>4</th>\n",
              "      <td>lion_cache_5.jpg</td>\n",
              "      <td>https://www.liontravel.com/Comm/2TRS/HotSale/p...</td>\n",
              "    </tr>\n",
              "  </tbody>\n",
              "</table>\n",
              "</div>"
            ],
            "text/plain": [
              "          file_name                                                url\n",
              "0  lion_cache_1.jpg  https://www.liontravel.com/Comm/2TRS/HotSale/p...\n",
              "1  lion_cache_2.jpg  https://www.liontravel.com/Comm/2TRS/HotSale/p...\n",
              "2  lion_cache_3.jpg  https://www.liontravel.com/Comm/2trs/hotsale/p...\n",
              "3  lion_cache_4.jpg  https://www.liontravel.com/Comm/2TRS/HotSale/p...\n",
              "4  lion_cache_5.jpg  https://www.liontravel.com/Comm/2TRS/HotSale/p..."
            ]
          },
          "metadata": {
            "tags": []
          },
          "execution_count": 26
        }
      ]
    },
    {
      "metadata": {
        "id": "m221YhXX4ja4",
        "colab_type": "code",
        "outputId": "be15f4d7-0e6e-487b-baae-69dc739a1c00",
        "colab": {
          "base_uri": "https://localhost:8080/",
          "height": 204
        }
      },
      "cell_type": "code",
      "source": [
        "# Check first 5 rows in a csv\n",
        "# Second column is the target we want to predict\n",
        "test = pd.read_csv('/content/gdrive/My Drive/LionData/testing-set.csv')\n",
        "test.head()"
      ],
      "execution_count": 27,
      "outputs": [
        {
          "output_type": "execute_result",
          "data": {
            "text/html": [
              "<div>\n",
              "<style scoped>\n",
              "    .dataframe tbody tr th:only-of-type {\n",
              "        vertical-align: middle;\n",
              "    }\n",
              "\n",
              "    .dataframe tbody tr th {\n",
              "        vertical-align: top;\n",
              "    }\n",
              "\n",
              "    .dataframe thead th {\n",
              "        text-align: right;\n",
              "    }\n",
              "</style>\n",
              "<table border=\"1\" class=\"dataframe\">\n",
              "  <thead>\n",
              "    <tr style=\"text-align: right;\">\n",
              "      <th></th>\n",
              "      <th>order_id</th>\n",
              "      <th>deal_or_not</th>\n",
              "    </tr>\n",
              "  </thead>\n",
              "  <tbody>\n",
              "    <tr>\n",
              "      <th>0</th>\n",
              "      <td>136100</td>\n",
              "      <td>NaN</td>\n",
              "    </tr>\n",
              "    <tr>\n",
              "      <th>1</th>\n",
              "      <td>140370</td>\n",
              "      <td>NaN</td>\n",
              "    </tr>\n",
              "    <tr>\n",
              "      <th>2</th>\n",
              "      <td>211009</td>\n",
              "      <td>NaN</td>\n",
              "    </tr>\n",
              "    <tr>\n",
              "      <th>3</th>\n",
              "      <td>5045</td>\n",
              "      <td>NaN</td>\n",
              "    </tr>\n",
              "    <tr>\n",
              "      <th>4</th>\n",
              "      <td>37230</td>\n",
              "      <td>NaN</td>\n",
              "    </tr>\n",
              "  </tbody>\n",
              "</table>\n",
              "</div>"
            ],
            "text/plain": [
              "   order_id  deal_or_not\n",
              "0    136100          NaN\n",
              "1    140370          NaN\n",
              "2    211009          NaN\n",
              "3      5045          NaN\n",
              "4     37230          NaN"
            ]
          },
          "metadata": {
            "tags": []
          },
          "execution_count": 27
        }
      ]
    },
    {
      "metadata": {
        "id": "LKUUvO6JL9JS",
        "colab_type": "code",
        "outputId": "f6617716-4150-4ea9-846a-9c1370923ad7",
        "colab": {
          "base_uri": "https://localhost:8080/",
          "height": 143
        }
      },
      "cell_type": "code",
      "source": [
        "# 使用info()函式觀察 test 資料是否有空值\n",
        "test.info()"
      ],
      "execution_count": 28,
      "outputs": [
        {
          "output_type": "stream",
          "text": [
            "<class 'pandas.core.frame.DataFrame'>\n",
            "RangeIndex: 150400 entries, 0 to 150399\n",
            "Data columns (total 2 columns):\n",
            "order_id       150400 non-null int64\n",
            "deal_or_not    0 non-null float64\n",
            "dtypes: float64(1), int64(1)\n",
            "memory usage: 2.3 MB\n"
          ],
          "name": "stdout"
        }
      ]
    },
    {
      "metadata": {
        "id": "DRnfMobs5gAi",
        "colab_type": "code",
        "outputId": "6c122033-8edd-427d-c174-dcf06b028db1",
        "colab": {
          "base_uri": "https://localhost:8080/",
          "height": 204
        }
      },
      "cell_type": "code",
      "source": [
        "# Check first 5 rows in a csv\n",
        "# This is the training file\n",
        "train = pd.read_csv('/content/gdrive/My Drive/LionData/training-set.csv')\n",
        "train.head()"
      ],
      "execution_count": 29,
      "outputs": [
        {
          "output_type": "execute_result",
          "data": {
            "text/html": [
              "<div>\n",
              "<style scoped>\n",
              "    .dataframe tbody tr th:only-of-type {\n",
              "        vertical-align: middle;\n",
              "    }\n",
              "\n",
              "    .dataframe tbody tr th {\n",
              "        vertical-align: top;\n",
              "    }\n",
              "\n",
              "    .dataframe thead th {\n",
              "        text-align: right;\n",
              "    }\n",
              "</style>\n",
              "<table border=\"1\" class=\"dataframe\">\n",
              "  <thead>\n",
              "    <tr style=\"text-align: right;\">\n",
              "      <th></th>\n",
              "      <th>order_id</th>\n",
              "      <th>deal_or_not</th>\n",
              "    </tr>\n",
              "  </thead>\n",
              "  <tbody>\n",
              "    <tr>\n",
              "      <th>0</th>\n",
              "      <td>41571</td>\n",
              "      <td>1</td>\n",
              "    </tr>\n",
              "    <tr>\n",
              "      <th>1</th>\n",
              "      <td>64125</td>\n",
              "      <td>1</td>\n",
              "    </tr>\n",
              "    <tr>\n",
              "      <th>2</th>\n",
              "      <td>76131</td>\n",
              "      <td>0</td>\n",
              "    </tr>\n",
              "    <tr>\n",
              "      <th>3</th>\n",
              "      <td>238671</td>\n",
              "      <td>0</td>\n",
              "    </tr>\n",
              "    <tr>\n",
              "      <th>4</th>\n",
              "      <td>93305</td>\n",
              "      <td>1</td>\n",
              "    </tr>\n",
              "  </tbody>\n",
              "</table>\n",
              "</div>"
            ],
            "text/plain": [
              "   order_id  deal_or_not\n",
              "0     41571            1\n",
              "1     64125            1\n",
              "2     76131            0\n",
              "3    238671            0\n",
              "4     93305            1"
            ]
          },
          "metadata": {
            "tags": []
          },
          "execution_count": 29
        }
      ]
    },
    {
      "metadata": {
        "id": "bFjQ6Ca45jpF",
        "colab_type": "code",
        "outputId": "3aa5df40-c2b9-4603-8184-702b412f44b7",
        "colab": {
          "base_uri": "https://localhost:8080/",
          "height": 143
        }
      },
      "cell_type": "code",
      "source": [
        "# 使用info()函式觀察 training 資料是否有空值\n",
        "train.info()"
      ],
      "execution_count": 30,
      "outputs": [
        {
          "output_type": "stream",
          "text": [
            "<class 'pandas.core.frame.DataFrame'>\n",
            "RangeIndex: 146620 entries, 0 to 146619\n",
            "Data columns (total 2 columns):\n",
            "order_id       146620 non-null int64\n",
            "deal_or_not    146620 non-null int64\n",
            "dtypes: int64(2)\n",
            "memory usage: 2.2 MB\n"
          ],
          "name": "stdout"
        }
      ]
    },
    {
      "metadata": {
        "id": "0LSAHL9tL1qh",
        "colab_type": "code",
        "outputId": "8ba6ca2e-02ec-4b94-d1e8-43781fb25604",
        "colab": {
          "base_uri": "https://localhost:8080/",
          "height": 297
        }
      },
      "cell_type": "code",
      "source": [
        "# 使用 Describe 來觀察 train 資料分布\n",
        "train.describe()"
      ],
      "execution_count": 31,
      "outputs": [
        {
          "output_type": "execute_result",
          "data": {
            "text/html": [
              "<div>\n",
              "<style scoped>\n",
              "    .dataframe tbody tr th:only-of-type {\n",
              "        vertical-align: middle;\n",
              "    }\n",
              "\n",
              "    .dataframe tbody tr th {\n",
              "        vertical-align: top;\n",
              "    }\n",
              "\n",
              "    .dataframe thead th {\n",
              "        text-align: right;\n",
              "    }\n",
              "</style>\n",
              "<table border=\"1\" class=\"dataframe\">\n",
              "  <thead>\n",
              "    <tr style=\"text-align: right;\">\n",
              "      <th></th>\n",
              "      <th>order_id</th>\n",
              "      <th>deal_or_not</th>\n",
              "    </tr>\n",
              "  </thead>\n",
              "  <tbody>\n",
              "    <tr>\n",
              "      <th>count</th>\n",
              "      <td>146620.000000</td>\n",
              "      <td>146620.000000</td>\n",
              "    </tr>\n",
              "    <tr>\n",
              "      <th>mean</th>\n",
              "      <td>156364.018067</td>\n",
              "      <td>0.199182</td>\n",
              "    </tr>\n",
              "    <tr>\n",
              "      <th>std</th>\n",
              "      <td>95558.835525</td>\n",
              "      <td>0.399386</td>\n",
              "    </tr>\n",
              "    <tr>\n",
              "      <th>min</th>\n",
              "      <td>1.000000</td>\n",
              "      <td>0.000000</td>\n",
              "    </tr>\n",
              "    <tr>\n",
              "      <th>25%</th>\n",
              "      <td>74837.750000</td>\n",
              "      <td>0.000000</td>\n",
              "    </tr>\n",
              "    <tr>\n",
              "      <th>50%</th>\n",
              "      <td>150172.000000</td>\n",
              "      <td>0.000000</td>\n",
              "    </tr>\n",
              "    <tr>\n",
              "      <th>75%</th>\n",
              "      <td>233551.000000</td>\n",
              "      <td>0.000000</td>\n",
              "    </tr>\n",
              "    <tr>\n",
              "      <th>max</th>\n",
              "      <td>340111.000000</td>\n",
              "      <td>1.000000</td>\n",
              "    </tr>\n",
              "  </tbody>\n",
              "</table>\n",
              "</div>"
            ],
            "text/plain": [
              "            order_id    deal_or_not\n",
              "count  146620.000000  146620.000000\n",
              "mean   156364.018067       0.199182\n",
              "std     95558.835525       0.399386\n",
              "min         1.000000       0.000000\n",
              "25%     74837.750000       0.000000\n",
              "50%    150172.000000       0.000000\n",
              "75%    233551.000000       0.000000\n",
              "max    340111.000000       1.000000"
            ]
          },
          "metadata": {
            "tags": []
          },
          "execution_count": 31
        }
      ]
    },
    {
      "metadata": {
        "id": "MCNUZ5M5Ncvt",
        "colab_type": "code",
        "colab": {}
      },
      "cell_type": "code",
      "source": [
        "# Data merge: merge data in the provided files\n",
        "# 查詢以下資料特徵:是否容易成團\n",
        "# 價錢高低/資料來源1或2/出團時間是否假日/出發機場是否跟成團有關/目的地area是否跟成團有關/天數是否跟成團有關/標題是否跟成團有關/圖片是否跟成團有關/目的地機場是否跟成團有關\n"
      ],
      "execution_count": 0,
      "outputs": []
    },
    {
      "metadata": {
        "id": "5v_jtOv7y_j1",
        "colab_type": "code",
        "outputId": "348f232e-cd90-4ed4-cc34-8a61e2de14c8",
        "colab": {
          "base_uri": "https://localhost:8080/",
          "height": 179
        }
      },
      "cell_type": "code",
      "source": [
        "group.iloc[0]"
      ],
      "execution_count": 32,
      "outputs": [
        {
          "output_type": "execute_result",
          "data": {
            "text/plain": [
              "group_id                                                      63695\n",
              "sub_line                                            subline_value_1\n",
              "area                                                   area_value_1\n",
              "days                                                             12\n",
              "begin_date                                                22-Mar-17\n",
              "price                                                        106900\n",
              "product_name         最高省8000》大美西～夏威夷、優勝美地、西峽天空步道、聖地牙哥、環球影城(哈利波特)12日\n",
              "promotion_prog    &lt;B&gt;[GG]《行銷活動》[//]&lt;/B&gt;&lt;font face...\n",
              "Name: 0, dtype: object"
            ]
          },
          "metadata": {
            "tags": []
          },
          "execution_count": 32
        }
      ]
    },
    {
      "metadata": {
        "id": "Oo7fNph_zALN",
        "colab_type": "code",
        "colab": {}
      },
      "cell_type": "code",
      "source": [
        "# Training-set中的資料將不進行調整，但是Testing-set中order_id > 204000之資料將不列入採計\n",
        "# Remove order_id > 204000\n"
      ],
      "execution_count": 0,
      "outputs": []
    }
  ]
}