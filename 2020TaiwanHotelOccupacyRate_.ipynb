{
  "nbformat": 4,
  "nbformat_minor": 0,
  "metadata": {
    "colab": {
      "name": "ReadTaiwanHotel-2.ipynb",
      "provenance": [],
      "collapsed_sections": [],
      "include_colab_link": true
    },
    "kernelspec": {
      "name": "python3",
      "display_name": "Python 3"
    }
  },
  "cells": [
    {
      "cell_type": "markdown",
      "metadata": {
        "id": "view-in-github",
        "colab_type": "text"
      },
      "source": [
        "<a href=\"https://colab.research.google.com/github/cwcheng0/Tourism/blob/master/2020TaiwanHotelOccupacyRate_.ipynb\" target=\"_parent\"><img src=\"https://colab.research.google.com/assets/colab-badge.svg\" alt=\"Open In Colab\"/></a>"
      ]
    },
    {
      "cell_type": "code",
      "metadata": {
        "id": "2YBo20dXtWmf"
      },
      "source": [
        "# Read Taiwan hotel data\n",
        "# Install extensions\n",
        "#import depencies\n",
        "import pandas as pd\n",
        "import numpy as np"
      ],
      "execution_count": 352,
      "outputs": []
    },
    {
      "cell_type": "code",
      "metadata": {
        "id": "jsHWedtFtayH",
        "outputId": "0137bba0-1b6b-43bf-a464-750dc5a73ccc",
        "colab": {
          "base_uri": "https://localhost:8080/",
          "height": 34
        }
      },
      "source": [
        "# Mount personal Google Drive; all data files are in personal Google Drive\n",
        "from google.colab import drive\n",
        "drive.mount('/content/gdrive')"
      ],
      "execution_count": 353,
      "outputs": [
        {
          "output_type": "stream",
          "text": [
            "Drive already mounted at /content/gdrive; to attempt to forcibly remount, call drive.mount(\"/content/gdrive\", force_remount=True).\n"
          ],
          "name": "stdout"
        }
      ]
    },
    {
      "cell_type": "code",
      "metadata": {
        "id": "Ly2Q-QgGteJQ",
        "outputId": "bfd23a98-53b9-4825-991b-a99c21f7a416",
        "colab": {
          "base_uri": "https://localhost:8080/",
          "height": 34
        }
      },
      "source": [
        "# Create a file to see if it works\n",
        "with open('/content/gdrive/My Drive/TourismData/foo.txt', 'w') as f:\n",
        "  f.write('Hello Google Drive!')\n",
        "!cat /content/gdrive/My\\ Drive/TourismData/foo.txt"
      ],
      "execution_count": 354,
      "outputs": [
        {
          "output_type": "stream",
          "text": [
            "Hello Google Drive!"
          ],
          "name": "stdout"
        }
      ]
    },
    {
      "cell_type": "code",
      "metadata": {
        "id": "XqfarUTZ0p2G"
      },
      "source": [
        "# Use PDrive function\n",
        "!pip install -U -q PyDrive\n",
        "\n",
        "from pydrive.auth import GoogleAuth\n",
        "from pydrive.drive import GoogleDrive\n",
        "from google.colab import auth\n",
        "from oauth2client.client import GoogleCredentials\n",
        "\n",
        "# Authenticate and create the PyDrive client.\n",
        "auth.authenticate_user()\n",
        "gauth = GoogleAuth()\n",
        "gauth.credentials = GoogleCredentials.get_application_default()\n",
        "drive = GoogleDrive(gauth)"
      ],
      "execution_count": 355,
      "outputs": []
    },
    {
      "cell_type": "code",
      "metadata": {
        "id": "Wt642l0qv_Xm",
        "outputId": "af2575f0-67e3-4a56-f132-129a58a79e94",
        "colab": {
          "base_uri": "https://localhost:8080/",
          "height": 168
        }
      },
      "source": [
        "# List files in root directory\n",
        "file_list = drive.ListFile({'q': \"'root' in parents and trashed=false\"}).GetList()\n",
        "for file1 in file_list:\n",
        "  print('title: %s, id: %s' % (file1['title'], file1['id']))"
      ],
      "execution_count": 356,
      "outputs": [
        {
          "output_type": "stream",
          "text": [
            "title: m0923023651gnt86866.pdf, id: 1ZRl2-DUcAhxmdivc6wiOPurQ6CgD5mt2\n",
            "title: Guidebook.pdf, id: 1VxPPDacSy5jzX45E40dYjCB5OqxEkwlG\n",
            "title: 20200912_agenda.pdf, id: 1OVa7XFIQWh2gQiL37xJiuC_H8vfoODlu\n",
            "title: PythonCode, id: 1dFGhOQOJ9t5x5bJUph24v_N-mnmBKsMZ\n",
            "title: ContestData, id: 1hjni0UnbkVPr81RPHgSyH74jqF3XT6PS\n",
            "title: TourismData, id: 1rl2L8Vxmj4mqqFNCa23NUaypbVKazJRD\n",
            "title: Pixnet整理_Mike_20190804, id: 163PlI9NvQ5wVl62z6Crp4jihVWA4nnABRnPS8tU9neY\n",
            "title: Colab Notebooks, id: 13yubYLLF_3_MObjXoj-K2aGo-_UFoQZo\n",
            "title: bnbdata, id: 1yWUzpFHcZDftSVqbCaepJVd9oGsm2pww\n"
          ],
          "name": "stdout"
        }
      ]
    },
    {
      "cell_type": "code",
      "metadata": {
        "id": "vJJ79Ofrw9c8",
        "outputId": "0f674dd1-1ceb-40f8-a06a-c06120b6679e",
        "colab": {
          "base_uri": "https://localhost:8080/",
          "height": 195
        }
      },
      "source": [
        "# Read a file\n",
        "df = pd.read_csv('/content/gdrive/My Drive/ContestData/HotelData/Hotel_2020_1-6_mod.csv',encoding='utf-8')\n",
        "\n",
        "# Notice datatypes changed in some columns.\n",
        "# Check first few rows.\n",
        "df.head()"
      ],
      "execution_count": 357,
      "outputs": [
        {
          "output_type": "execute_result",
          "data": {
            "text/html": [
              "<div>\n",
              "<style scoped>\n",
              "    .dataframe tbody tr th:only-of-type {\n",
              "        vertical-align: middle;\n",
              "    }\n",
              "\n",
              "    .dataframe tbody tr th {\n",
              "        vertical-align: top;\n",
              "    }\n",
              "\n",
              "    .dataframe thead th {\n",
              "        text-align: right;\n",
              "    }\n",
              "</style>\n",
              "<table border=\"1\" class=\"dataframe\">\n",
              "  <thead>\n",
              "    <tr style=\"text-align: right;\">\n",
              "      <th></th>\n",
              "      <th>旅館名稱Hotel Name</th>\n",
              "      <th>住⽤率\\nOccupancy Rate</th>\n",
              "      <th>平均房價Average Room Rate</th>\n",
              "    </tr>\n",
              "  </thead>\n",
              "  <tbody>\n",
              "    <tr>\n",
              "      <th>0</th>\n",
              "      <td>國聯⼤飯店\\nUnited Hotel</td>\n",
              "      <td>23.84%</td>\n",
              "      <td>1,516</td>\n",
              "    </tr>\n",
              "    <tr>\n",
              "      <th>1</th>\n",
              "      <td>台北寒舍喜來登⼤飯店\\nSheraton Grand Taipei Hotel</td>\n",
              "      <td>24.56%</td>\n",
              "      <td>4,151</td>\n",
              "    </tr>\n",
              "    <tr>\n",
              "      <th>2</th>\n",
              "      <td>老爺⼤酒店\\nHotel Royal-Nikko Taipei</td>\n",
              "      <td>35.37%</td>\n",
              "      <td>3,916</td>\n",
              "    </tr>\n",
              "    <tr>\n",
              "      <th>3</th>\n",
              "      <td>福華⼤飯店\\nHoward Plaza Hotel</td>\n",
              "      <td>18.31%</td>\n",
              "      <td>3,412</td>\n",
              "    </tr>\n",
              "    <tr>\n",
              "      <th>4</th>\n",
              "      <td>台北君悅酒店\\nGrand Hyatt Taipei</td>\n",
              "      <td>19.65%</td>\n",
              "      <td>5,494</td>\n",
              "    </tr>\n",
              "  </tbody>\n",
              "</table>\n",
              "</div>"
            ],
            "text/plain": [
              "                            旅館名稱Hotel Name  ... 平均房價Average Room Rate\n",
              "0                      國聯⼤飯店\\nUnited Hotel  ...                 1,516\n",
              "1  台北寒舍喜來登⼤飯店\\nSheraton Grand Taipei Hotel  ...                 4,151\n",
              "2          老爺⼤酒店\\nHotel Royal-Nikko Taipei  ...                 3,916\n",
              "3                福華⼤飯店\\nHoward Plaza Hotel  ...                 3,412\n",
              "4               台北君悅酒店\\nGrand Hyatt Taipei  ...                 5,494\n",
              "\n",
              "[5 rows x 3 columns]"
            ]
          },
          "metadata": {
            "tags": []
          },
          "execution_count": 357
        }
      ]
    },
    {
      "cell_type": "code",
      "metadata": {
        "id": "ixJA5zLAjkLH",
        "outputId": "0ca7c101-b46a-4120-d0a8-70a14e373ba3",
        "colab": {
          "base_uri": "https://localhost:8080/",
          "height": 195
        }
      },
      "source": [
        "# Change column names\n",
        "df.columns = ['旅館名稱', '住用率', '平均房價']\n",
        "df.head()"
      ],
      "execution_count": 358,
      "outputs": [
        {
          "output_type": "execute_result",
          "data": {
            "text/html": [
              "<div>\n",
              "<style scoped>\n",
              "    .dataframe tbody tr th:only-of-type {\n",
              "        vertical-align: middle;\n",
              "    }\n",
              "\n",
              "    .dataframe tbody tr th {\n",
              "        vertical-align: top;\n",
              "    }\n",
              "\n",
              "    .dataframe thead th {\n",
              "        text-align: right;\n",
              "    }\n",
              "</style>\n",
              "<table border=\"1\" class=\"dataframe\">\n",
              "  <thead>\n",
              "    <tr style=\"text-align: right;\">\n",
              "      <th></th>\n",
              "      <th>旅館名稱</th>\n",
              "      <th>住用率</th>\n",
              "      <th>平均房價</th>\n",
              "    </tr>\n",
              "  </thead>\n",
              "  <tbody>\n",
              "    <tr>\n",
              "      <th>0</th>\n",
              "      <td>國聯⼤飯店\\nUnited Hotel</td>\n",
              "      <td>23.84%</td>\n",
              "      <td>1,516</td>\n",
              "    </tr>\n",
              "    <tr>\n",
              "      <th>1</th>\n",
              "      <td>台北寒舍喜來登⼤飯店\\nSheraton Grand Taipei Hotel</td>\n",
              "      <td>24.56%</td>\n",
              "      <td>4,151</td>\n",
              "    </tr>\n",
              "    <tr>\n",
              "      <th>2</th>\n",
              "      <td>老爺⼤酒店\\nHotel Royal-Nikko Taipei</td>\n",
              "      <td>35.37%</td>\n",
              "      <td>3,916</td>\n",
              "    </tr>\n",
              "    <tr>\n",
              "      <th>3</th>\n",
              "      <td>福華⼤飯店\\nHoward Plaza Hotel</td>\n",
              "      <td>18.31%</td>\n",
              "      <td>3,412</td>\n",
              "    </tr>\n",
              "    <tr>\n",
              "      <th>4</th>\n",
              "      <td>台北君悅酒店\\nGrand Hyatt Taipei</td>\n",
              "      <td>19.65%</td>\n",
              "      <td>5,494</td>\n",
              "    </tr>\n",
              "  </tbody>\n",
              "</table>\n",
              "</div>"
            ],
            "text/plain": [
              "                                      旅館名稱     住用率   平均房價\n",
              "0                      國聯⼤飯店\\nUnited Hotel  23.84%  1,516\n",
              "1  台北寒舍喜來登⼤飯店\\nSheraton Grand Taipei Hotel  24.56%  4,151\n",
              "2          老爺⼤酒店\\nHotel Royal-Nikko Taipei  35.37%  3,916\n",
              "3                福華⼤飯店\\nHoward Plaza Hotel  18.31%  3,412\n",
              "4               台北君悅酒店\\nGrand Hyatt Taipei  19.65%  5,494"
            ]
          },
          "metadata": {
            "tags": []
          },
          "execution_count": 358
        }
      ]
    },
    {
      "cell_type": "code",
      "metadata": {
        "id": "PKVEB49UQ8d8",
        "outputId": "c74476fd-8a3f-4a98-a75a-c72be27b6990",
        "colab": {
          "base_uri": "https://localhost:8080/",
          "height": 195
        }
      },
      "source": [
        "# Remove English \n",
        "df['旅館名稱'] = df['旅館名稱'].str.replace('[\\nA-Za-z]', '')\n",
        "df.head()"
      ],
      "execution_count": 359,
      "outputs": [
        {
          "output_type": "execute_result",
          "data": {
            "text/html": [
              "<div>\n",
              "<style scoped>\n",
              "    .dataframe tbody tr th:only-of-type {\n",
              "        vertical-align: middle;\n",
              "    }\n",
              "\n",
              "    .dataframe tbody tr th {\n",
              "        vertical-align: top;\n",
              "    }\n",
              "\n",
              "    .dataframe thead th {\n",
              "        text-align: right;\n",
              "    }\n",
              "</style>\n",
              "<table border=\"1\" class=\"dataframe\">\n",
              "  <thead>\n",
              "    <tr style=\"text-align: right;\">\n",
              "      <th></th>\n",
              "      <th>旅館名稱</th>\n",
              "      <th>住用率</th>\n",
              "      <th>平均房價</th>\n",
              "    </tr>\n",
              "  </thead>\n",
              "  <tbody>\n",
              "    <tr>\n",
              "      <th>0</th>\n",
              "      <td>國聯⼤飯店</td>\n",
              "      <td>23.84%</td>\n",
              "      <td>1,516</td>\n",
              "    </tr>\n",
              "    <tr>\n",
              "      <th>1</th>\n",
              "      <td>台北寒舍喜來登⼤飯店</td>\n",
              "      <td>24.56%</td>\n",
              "      <td>4,151</td>\n",
              "    </tr>\n",
              "    <tr>\n",
              "      <th>2</th>\n",
              "      <td>老爺⼤酒店 -</td>\n",
              "      <td>35.37%</td>\n",
              "      <td>3,916</td>\n",
              "    </tr>\n",
              "    <tr>\n",
              "      <th>3</th>\n",
              "      <td>福華⼤飯店</td>\n",
              "      <td>18.31%</td>\n",
              "      <td>3,412</td>\n",
              "    </tr>\n",
              "    <tr>\n",
              "      <th>4</th>\n",
              "      <td>台北君悅酒店</td>\n",
              "      <td>19.65%</td>\n",
              "      <td>5,494</td>\n",
              "    </tr>\n",
              "  </tbody>\n",
              "</table>\n",
              "</div>"
            ],
            "text/plain": [
              "            旅館名稱     住用率   平均房價\n",
              "0         國聯⼤飯店   23.84%  1,516\n",
              "1  台北寒舍喜來登⼤飯店     24.56%  4,151\n",
              "2       老爺⼤酒店 -   35.37%  3,916\n",
              "3        福華⼤飯店    18.31%  3,412\n",
              "4       台北君悅酒店    19.65%  5,494"
            ]
          },
          "metadata": {
            "tags": []
          },
          "execution_count": 359
        }
      ]
    },
    {
      "cell_type": "code",
      "metadata": {
        "id": "dHTTtK8dqh1F"
      },
      "source": [
        "# Remove columns\n",
        "#df2.drop(columns=['level_0', 'index'], axis=1, inplace=True)\n",
        "#df2.head()"
      ],
      "execution_count": 360,
      "outputs": []
    },
    {
      "cell_type": "code",
      "metadata": {
        "id": "-R5ucTlfhX-u",
        "outputId": "57402c3a-614f-4fec-f310-c40aea87e000",
        "colab": {
          "base_uri": "https://localhost:8080/",
          "height": 84
        }
      },
      "source": [
        "# Check datatypes\n",
        "df.dtypes"
      ],
      "execution_count": 361,
      "outputs": [
        {
          "output_type": "execute_result",
          "data": {
            "text/plain": [
              "旅館名稱    object\n",
              "住用率     object\n",
              "平均房價    object\n",
              "dtype: object"
            ]
          },
          "metadata": {
            "tags": []
          },
          "execution_count": 361
        }
      ]
    },
    {
      "cell_type": "code",
      "metadata": {
        "id": "AB6ha3yLhYG1",
        "outputId": "e8b3a003-48d4-4a19-eb8e-9dad79325357",
        "colab": {
          "base_uri": "https://localhost:8080/",
          "height": 195
        }
      },
      "source": [
        "# Remove % and ,\n",
        "# Change datatype\n",
        "df['住用率'] = df['住用率'].str.replace('%', '').astype('float') / 100.0\n",
        "df['平均房價'] = df['平均房價'].str.replace(',', '').astype('int')\n",
        "\n",
        "df.head()"
      ],
      "execution_count": 362,
      "outputs": [
        {
          "output_type": "execute_result",
          "data": {
            "text/html": [
              "<div>\n",
              "<style scoped>\n",
              "    .dataframe tbody tr th:only-of-type {\n",
              "        vertical-align: middle;\n",
              "    }\n",
              "\n",
              "    .dataframe tbody tr th {\n",
              "        vertical-align: top;\n",
              "    }\n",
              "\n",
              "    .dataframe thead th {\n",
              "        text-align: right;\n",
              "    }\n",
              "</style>\n",
              "<table border=\"1\" class=\"dataframe\">\n",
              "  <thead>\n",
              "    <tr style=\"text-align: right;\">\n",
              "      <th></th>\n",
              "      <th>旅館名稱</th>\n",
              "      <th>住用率</th>\n",
              "      <th>平均房價</th>\n",
              "    </tr>\n",
              "  </thead>\n",
              "  <tbody>\n",
              "    <tr>\n",
              "      <th>0</th>\n",
              "      <td>國聯⼤飯店</td>\n",
              "      <td>0.2384</td>\n",
              "      <td>1516</td>\n",
              "    </tr>\n",
              "    <tr>\n",
              "      <th>1</th>\n",
              "      <td>台北寒舍喜來登⼤飯店</td>\n",
              "      <td>0.2456</td>\n",
              "      <td>4151</td>\n",
              "    </tr>\n",
              "    <tr>\n",
              "      <th>2</th>\n",
              "      <td>老爺⼤酒店 -</td>\n",
              "      <td>0.3537</td>\n",
              "      <td>3916</td>\n",
              "    </tr>\n",
              "    <tr>\n",
              "      <th>3</th>\n",
              "      <td>福華⼤飯店</td>\n",
              "      <td>0.1831</td>\n",
              "      <td>3412</td>\n",
              "    </tr>\n",
              "    <tr>\n",
              "      <th>4</th>\n",
              "      <td>台北君悅酒店</td>\n",
              "      <td>0.1965</td>\n",
              "      <td>5494</td>\n",
              "    </tr>\n",
              "  </tbody>\n",
              "</table>\n",
              "</div>"
            ],
            "text/plain": [
              "            旅館名稱     住用率  平均房價\n",
              "0         國聯⼤飯店   0.2384  1516\n",
              "1  台北寒舍喜來登⼤飯店     0.2456  4151\n",
              "2       老爺⼤酒店 -   0.3537  3916\n",
              "3        福華⼤飯店    0.1831  3412\n",
              "4       台北君悅酒店    0.1965  5494"
            ]
          },
          "metadata": {
            "tags": []
          },
          "execution_count": 362
        }
      ]
    },
    {
      "cell_type": "code",
      "metadata": {
        "id": "9JlGmq6OzJvh",
        "outputId": "ba9697e7-bf78-44d5-acdf-b41c50630fc2",
        "colab": {
          "base_uri": "https://localhost:8080/",
          "height": 84
        }
      },
      "source": [
        "# check datatype\n",
        "df.dtypes"
      ],
      "execution_count": 363,
      "outputs": [
        {
          "output_type": "execute_result",
          "data": {
            "text/plain": [
              "旅館名稱     object\n",
              "住用率     float64\n",
              "平均房價      int64\n",
              "dtype: object"
            ]
          },
          "metadata": {
            "tags": []
          },
          "execution_count": 363
        }
      ]
    },
    {
      "cell_type": "code",
      "metadata": {
        "id": "y7huhZuQ2G9s",
        "outputId": "69d52151-8d08-4495-e1d3-162c637276d7",
        "colab": {
          "base_uri": "https://localhost:8080/",
          "height": 639
        }
      },
      "source": [
        "# For convenient use\n",
        "df3=df\n",
        "\n",
        "# Change float to 住用率\n",
        "df3['住用率'] = df3['住用率'].multiply(100)\n",
        "\n",
        "# Sort data by 住用率\n",
        "df4 = df3.sort_values(by=['住用率'],ascending=False)\n",
        "\n",
        "# Add % to 住用率\n",
        "df4['住用率']=df4['住用率'].astype(str)+'%'\n",
        "\n",
        "# Add a comma into an integer column into 平均房價\n",
        "df4['平均房價'] = df4.apply(lambda x: \"{:,}\".format(x['平均房價']), axis=1)\n",
        "\n",
        "# reset index\n",
        "df4 = df4.reset_index()\n",
        "\n",
        "# Index to start with 1\n",
        "df4.index = df4.index + 1\n",
        "\n",
        "# Remove 2nd index\n",
        "df4=df4.drop(df4.columns[[0]],axis=1)\n",
        "\n",
        "df4.head(20)"
      ],
      "execution_count": 364,
      "outputs": [
        {
          "output_type": "execute_result",
          "data": {
            "text/html": [
              "<div>\n",
              "<style scoped>\n",
              "    .dataframe tbody tr th:only-of-type {\n",
              "        vertical-align: middle;\n",
              "    }\n",
              "\n",
              "    .dataframe tbody tr th {\n",
              "        vertical-align: top;\n",
              "    }\n",
              "\n",
              "    .dataframe thead th {\n",
              "        text-align: right;\n",
              "    }\n",
              "</style>\n",
              "<table border=\"1\" class=\"dataframe\">\n",
              "  <thead>\n",
              "    <tr style=\"text-align: right;\">\n",
              "      <th></th>\n",
              "      <th>旅館名稱</th>\n",
              "      <th>住用率</th>\n",
              "      <th>平均房價</th>\n",
              "    </tr>\n",
              "  </thead>\n",
              "  <tbody>\n",
              "    <tr>\n",
              "      <th>1</th>\n",
              "      <td>凱撒⼤飯店</td>\n",
              "      <td>80.98%</td>\n",
              "      <td>4,270</td>\n",
              "    </tr>\n",
              "    <tr>\n",
              "      <th>2</th>\n",
              "      <td>知本老爺⼤酒店</td>\n",
              "      <td>74.14%</td>\n",
              "      <td>4,216</td>\n",
              "    </tr>\n",
              "    <tr>\n",
              "      <th>3</th>\n",
              "      <td>太魯閣晶英酒店  ,</td>\n",
              "      <td>64.23%</td>\n",
              "      <td>7,941</td>\n",
              "    </tr>\n",
              "    <tr>\n",
              "      <th>4</th>\n",
              "      <td>礁溪老爺⼤酒店  -</td>\n",
              "      <td>63.55%</td>\n",
              "      <td>7,123</td>\n",
              "    </tr>\n",
              "    <tr>\n",
              "      <th>5</th>\n",
              "      <td>阿⾥⼭賓館新館</td>\n",
              "      <td>61.25000000000001%</td>\n",
              "      <td>5,212</td>\n",
              "    </tr>\n",
              "    <tr>\n",
              "      <th>6</th>\n",
              "      <td>涵碧樓⼤飯店</td>\n",
              "      <td>58.06%</td>\n",
              "      <td>13,917</td>\n",
              "    </tr>\n",
              "    <tr>\n",
              "      <th>7</th>\n",
              "      <td>花蓮翰品酒店</td>\n",
              "      <td>57.98%</td>\n",
              "      <td>2,400</td>\n",
              "    </tr>\n",
              "    <tr>\n",
              "      <th>8</th>\n",
              "      <td>遠雄悅來⼤飯店 ,</td>\n",
              "      <td>55.75%</td>\n",
              "      <td>2,656</td>\n",
              "    </tr>\n",
              "    <tr>\n",
              "      <th>9</th>\n",
              "      <td>合尊酒店</td>\n",
              "      <td>55.21%</td>\n",
              "      <td>3,006</td>\n",
              "    </tr>\n",
              "    <tr>\n",
              "      <th>10</th>\n",
              "      <td>雲品溫泉酒店⽇⽉潭</td>\n",
              "      <td>53.849999999999994%</td>\n",
              "      <td>8,937</td>\n",
              "    </tr>\n",
              "    <tr>\n",
              "      <th>11</th>\n",
              "      <td>⼤板根渡假酒店</td>\n",
              "      <td>51.96000000000001%</td>\n",
              "      <td>4,614</td>\n",
              "    </tr>\n",
              "    <tr>\n",
              "      <th>12</th>\n",
              "      <td>⻑榮鳳凰酒店(礁溪)   ()</td>\n",
              "      <td>50.46000000000001%</td>\n",
              "      <td>5,349</td>\n",
              "    </tr>\n",
              "    <tr>\n",
              "      <th>13</th>\n",
              "      <td>台南⼤員皇冠假⽇酒店</td>\n",
              "      <td>50.11%</td>\n",
              "      <td>3,014</td>\n",
              "    </tr>\n",
              "    <tr>\n",
              "      <th>14</th>\n",
              "      <td>⽇勝⽣加賀屋國際溫泉飯店-</td>\n",
              "      <td>49.5%</td>\n",
              "      <td>5,714</td>\n",
              "    </tr>\n",
              "    <tr>\n",
              "      <th>15</th>\n",
              "      <td>瑞穗天合國際觀光酒店   ,</td>\n",
              "      <td>48.57%</td>\n",
              "      <td>7,124</td>\n",
              "    </tr>\n",
              "    <tr>\n",
              "      <th>16</th>\n",
              "      <td>香格⾥拉台南遠東國際⼤飯店-’    ,</td>\n",
              "      <td>48.48%</td>\n",
              "      <td>3,544</td>\n",
              "    </tr>\n",
              "    <tr>\n",
              "      <th>17</th>\n",
              "      <td>趣淘漫旅</td>\n",
              "      <td>47.66%</td>\n",
              "      <td>2,832</td>\n",
              "    </tr>\n",
              "    <tr>\n",
              "      <th>18</th>\n",
              "      <td>台中港酒店</td>\n",
              "      <td>47.33%</td>\n",
              "      <td>2,594</td>\n",
              "    </tr>\n",
              "    <tr>\n",
              "      <th>19</th>\n",
              "      <td>娜路彎⼤酒店   &amp;</td>\n",
              "      <td>46.52%</td>\n",
              "      <td>3,844</td>\n",
              "    </tr>\n",
              "    <tr>\n",
              "      <th>20</th>\n",
              "      <td>台南⼤飯店</td>\n",
              "      <td>44.72%</td>\n",
              "      <td>2,007</td>\n",
              "    </tr>\n",
              "  </tbody>\n",
              "</table>\n",
              "</div>"
            ],
            "text/plain": [
              "                    旅館名稱                  住用率    平均房價\n",
              "1               凱撒⼤飯店                  80.98%   4,270\n",
              "2             知本老爺⼤酒店                  74.14%   4,216\n",
              "3            太魯閣晶英酒店  ,                64.23%   7,941\n",
              "4             礁溪老爺⼤酒店  -               63.55%   7,123\n",
              "5               阿⾥⼭賓館新館    61.25000000000001%   5,212\n",
              "6             涵碧樓⼤飯店                   58.06%  13,917\n",
              "7             花蓮翰品酒店                   57.98%   2,400\n",
              "8             遠雄悅來⼤飯店 ,                55.75%   2,656\n",
              "9                  合尊酒店                55.21%   3,006\n",
              "10          雲品溫泉酒店⽇⽉潭     53.849999999999994%   8,937\n",
              "11           ⼤板根渡假酒店       51.96000000000001%   4,614\n",
              "12       ⻑榮鳳凰酒店(礁溪)   ()   50.46000000000001%   5,349\n",
              "13          台南⼤員皇冠假⽇酒店                 50.11%   3,014\n",
              "14         ⽇勝⽣加賀屋國際溫泉飯店-                49.5%   5,714\n",
              "15        瑞穗天合國際觀光酒店   ,               48.57%   7,124\n",
              "16  香格⾥拉台南遠東國際⼤飯店-’    ,               48.48%   3,544\n",
              "17               趣淘漫旅                  47.66%   2,832\n",
              "18               台中港酒店                 47.33%   2,594\n",
              "19          娜路彎⼤酒店   &                 46.52%   3,844\n",
              "20                台南⼤飯店                44.72%   2,007"
            ]
          },
          "metadata": {
            "tags": []
          },
          "execution_count": 364
        }
      ]
    },
    {
      "cell_type": "code",
      "metadata": {
        "id": "OSXRhO2Uvg7h",
        "outputId": "320682f6-eef9-48ff-8027-9aa310d443d6",
        "colab": {
          "base_uri": "https://localhost:8080/",
          "height": 84
        }
      },
      "source": [
        "df3.dtypes"
      ],
      "execution_count": 365,
      "outputs": [
        {
          "output_type": "execute_result",
          "data": {
            "text/plain": [
              "旅館名稱     object\n",
              "住用率     float64\n",
              "平均房價      int64\n",
              "dtype: object"
            ]
          },
          "metadata": {
            "tags": []
          },
          "execution_count": 365
        }
      ]
    },
    {
      "cell_type": "code",
      "metadata": {
        "id": "9ZjDuMiJDEaa",
        "outputId": "89fc9997-a1bf-4ef0-9909-05f19f2f1cdc",
        "colab": {
          "base_uri": "https://localhost:8080/",
          "height": 639
        }
      },
      "source": [
        "# Sort data by 平均房價\n",
        "df5 = df3.sort_values(by=['平均房價'],ascending=False)\n",
        "\n",
        "# Add a comma into an integer column into 平均房價\n",
        "df5['平均房價'] = df5.apply(lambda x: \"{:,}\".format(x['平均房價']), axis=1)\n",
        "\n",
        "# Add % into 住用率\n",
        "df5['住用率'] = pd.Series([\"{0:.2f}%\".format(val * 1) for val in df5['住用率']], index = df5.index)\n",
        "\n",
        "# reset index\n",
        "df5 = df5.reset_index()\n",
        "\n",
        "# Remove 2nd index\n",
        "df5=df5.drop(df5.columns[[0]],axis=1)\n",
        "\n",
        "# Index to start with 1\n",
        "df5.index = df5.index + 1\n",
        "\n",
        "df5.head(20)"
      ],
      "execution_count": 366,
      "outputs": [
        {
          "output_type": "execute_result",
          "data": {
            "text/html": [
              "<div>\n",
              "<style scoped>\n",
              "    .dataframe tbody tr th:only-of-type {\n",
              "        vertical-align: middle;\n",
              "    }\n",
              "\n",
              "    .dataframe tbody tr th {\n",
              "        vertical-align: top;\n",
              "    }\n",
              "\n",
              "    .dataframe thead th {\n",
              "        text-align: right;\n",
              "    }\n",
              "</style>\n",
              "<table border=\"1\" class=\"dataframe\">\n",
              "  <thead>\n",
              "    <tr style=\"text-align: right;\">\n",
              "      <th></th>\n",
              "      <th>旅館名稱</th>\n",
              "      <th>住用率</th>\n",
              "      <th>平均房價</th>\n",
              "    </tr>\n",
              "  </thead>\n",
              "  <tbody>\n",
              "    <tr>\n",
              "      <th>1</th>\n",
              "      <td>北投麗禧溫泉酒店</td>\n",
              "      <td>30.06%</td>\n",
              "      <td>14,982</td>\n",
              "    </tr>\n",
              "    <tr>\n",
              "      <th>2</th>\n",
              "      <td>涵碧樓⼤飯店</td>\n",
              "      <td>58.06%</td>\n",
              "      <td>13,917</td>\n",
              "    </tr>\n",
              "    <tr>\n",
              "      <th>3</th>\n",
              "      <td>⽇⽉⾏館   &amp;</td>\n",
              "      <td>23.06%</td>\n",
              "      <td>10,947</td>\n",
              "    </tr>\n",
              "    <tr>\n",
              "      <th>4</th>\n",
              "      <td>蘭城晶英酒店</td>\n",
              "      <td>40.50%</td>\n",
              "      <td>9,095</td>\n",
              "    </tr>\n",
              "    <tr>\n",
              "      <th>5</th>\n",
              "      <td>雲品溫泉酒店⽇⽉潭</td>\n",
              "      <td>53.85%</td>\n",
              "      <td>8,937</td>\n",
              "    </tr>\n",
              "    <tr>\n",
              "      <th>6</th>\n",
              "      <td>晶英國際⾏館</td>\n",
              "      <td>16.77%</td>\n",
              "      <td>7,952</td>\n",
              "    </tr>\n",
              "    <tr>\n",
              "      <th>7</th>\n",
              "      <td>太魯閣晶英酒店  ,</td>\n",
              "      <td>64.23%</td>\n",
              "      <td>7,941</td>\n",
              "    </tr>\n",
              "    <tr>\n",
              "      <th>8</th>\n",
              "      <td>台北飯店</td>\n",
              "      <td>24.12%</td>\n",
              "      <td>7,916</td>\n",
              "    </tr>\n",
              "    <tr>\n",
              "      <th>9</th>\n",
              "      <td>瑞穗天合國際觀光酒店   ,</td>\n",
              "      <td>48.57%</td>\n",
              "      <td>7,124</td>\n",
              "    </tr>\n",
              "    <tr>\n",
              "      <th>10</th>\n",
              "      <td>礁溪老爺⼤酒店  -</td>\n",
              "      <td>63.55%</td>\n",
              "      <td>7,123</td>\n",
              "    </tr>\n",
              "    <tr>\n",
              "      <th>11</th>\n",
              "      <td>台北寒舍艾美酒店</td>\n",
              "      <td>28.26%</td>\n",
              "      <td>7,001</td>\n",
              "    </tr>\n",
              "    <tr>\n",
              "      <th>12</th>\n",
              "      <td>北投老爺酒店</td>\n",
              "      <td>36.18%</td>\n",
              "      <td>6,056</td>\n",
              "    </tr>\n",
              "    <tr>\n",
              "      <th>13</th>\n",
              "      <td>⽇勝⽣加賀屋國際溫泉飯店-</td>\n",
              "      <td>49.50%</td>\n",
              "      <td>5,714</td>\n",
              "    </tr>\n",
              "    <tr>\n",
              "      <th>14</th>\n",
              "      <td>台北美福⼤飯店</td>\n",
              "      <td>24.24%</td>\n",
              "      <td>5,622</td>\n",
              "    </tr>\n",
              "    <tr>\n",
              "      <th>15</th>\n",
              "      <td>阿⾥⼭賓館</td>\n",
              "      <td>35.49%</td>\n",
              "      <td>5,612</td>\n",
              "    </tr>\n",
              "    <tr>\n",
              "      <th>16</th>\n",
              "      <td>名⼈堂花園⼤飯店</td>\n",
              "      <td>17.43%</td>\n",
              "      <td>5,594</td>\n",
              "    </tr>\n",
              "    <tr>\n",
              "      <th>17</th>\n",
              "      <td>香格⾥拉台北遠東國際⼤飯店-'    ,</td>\n",
              "      <td>21.60%</td>\n",
              "      <td>5,529</td>\n",
              "    </tr>\n",
              "    <tr>\n",
              "      <th>18</th>\n",
              "      <td>台北君悅酒店</td>\n",
              "      <td>19.65%</td>\n",
              "      <td>5,494</td>\n",
              "    </tr>\n",
              "    <tr>\n",
              "      <th>19</th>\n",
              "      <td>⻑榮鳳凰酒店(礁溪)   ()</td>\n",
              "      <td>50.46%</td>\n",
              "      <td>5,349</td>\n",
              "    </tr>\n",
              "    <tr>\n",
              "      <th>20</th>\n",
              "      <td>台北萬豪酒店</td>\n",
              "      <td>23.26%</td>\n",
              "      <td>5,254</td>\n",
              "    </tr>\n",
              "  </tbody>\n",
              "</table>\n",
              "</div>"
            ],
            "text/plain": [
              "                     旅館名稱     住用率    平均房價\n",
              "1             北投麗禧溫泉酒店     30.06%  14,982\n",
              "2              涵碧樓⼤飯店      58.06%  13,917\n",
              "3               ⽇⽉⾏館   &   23.06%  10,947\n",
              "4                蘭城晶英酒店    40.50%   9,095\n",
              "5            雲品溫泉酒店⽇⽉潭     53.85%   8,937\n",
              "6                 晶英國際⾏館   16.77%   7,952\n",
              "7             太魯閣晶英酒店  ,   64.23%   7,941\n",
              "8                   台北飯店   24.12%   7,916\n",
              "9          瑞穗天合國際觀光酒店   ,  48.57%   7,124\n",
              "10             礁溪老爺⼤酒店  -  63.55%   7,123\n",
              "11            台北寒舍艾美酒店     28.26%   7,001\n",
              "12               北投老爺酒店    36.18%   6,056\n",
              "13          ⽇勝⽣加賀屋國際溫泉飯店-  49.50%   5,714\n",
              "14             台北美福⼤飯店     24.24%   5,622\n",
              "15                 阿⾥⼭賓館   35.49%   5,612\n",
              "16            名⼈堂花園⼤飯店     17.43%   5,594\n",
              "17  香格⾥拉台北遠東國際⼤飯店-'    ,   21.60%   5,529\n",
              "18               台北君悅酒店    19.65%   5,494\n",
              "19        ⻑榮鳳凰酒店(礁溪)   ()  50.46%   5,349\n",
              "20               台北萬豪酒店    23.26%   5,254"
            ]
          },
          "metadata": {
            "tags": []
          },
          "execution_count": 366
        }
      ]
    }
  ]
}