{
  "nbformat": 4,
  "nbformat_minor": 0,
  "metadata": {
    "colab": {
      "name": "LionTry1.ipynb",
      "version": "0.3.2",
      "provenance": [],
      "include_colab_link": true
    },
    "kernelspec": {
      "name": "python3",
      "display_name": "Python 3"
    }
  },
  "cells": [
    {
      "cell_type": "markdown",
      "metadata": {
        "id": "view-in-github",
        "colab_type": "text"
      },
      "source": [
        "<a href=\"https://colab.research.google.com/github/cwcheng0/LionTravel/blob/master/LionTry1.ipynb\" target=\"_parent\"><img src=\"https://colab.research.google.com/assets/colab-badge.svg\" alt=\"Open In Colab\"/></a>"
      ]
    },
    {
      "metadata": {
        "id": "2YBo20dXtWmf",
        "colab_type": "code",
        "colab": {}
      },
      "cell_type": "code",
      "source": [
        "# Lion Travel Try1\n",
        "import pandas as pd\n",
        "import numpy as np\n",
        "from sklearn.model_selection import train_test_split\n",
        "from sklearn.ensemble import RandomForestClassifier\n",
        "from sklearn.metrics import confusion_matrix\n",
        "from sklearn.metrics import roc_curve\n",
        "from sklearn.metrics import mean_absolute_error as MAE\n",
        "import gc\n",
        "import matplotlib\n",
        "import matplotlib.pyplot as plt\n",
        "from IPython.display import display, HTML"
      ],
      "execution_count": 0,
      "outputs": []
    },
    {
      "metadata": {
        "id": "jsHWedtFtayH",
        "colab_type": "code",
        "colab": {
          "base_uri": "https://localhost:8080/",
          "height": 127
        },
        "outputId": "34146d34-54ae-404b-e71b-f0dde4980b3e"
      },
      "cell_type": "code",
      "source": [
        "# Mount Google Drive\n",
        "from google.colab import drive\n",
        "drive.mount('/content/gdrive')"
      ],
      "execution_count": 2,
      "outputs": [
        {
          "output_type": "stream",
          "text": [
            "Go to this URL in a browser: https://accounts.google.com/o/oauth2/auth?client_id=947318989803-6bn6qk8qdgf4n4g3pfee6491hc0brc4i.apps.googleusercontent.com&redirect_uri=urn%3Aietf%3Awg%3Aoauth%3A2.0%3Aoob&scope=email%20https%3A%2F%2Fwww.googleapis.com%2Fauth%2Fdocs.test%20https%3A%2F%2Fwww.googleapis.com%2Fauth%2Fdrive%20https%3A%2F%2Fwww.googleapis.com%2Fauth%2Fdrive.photos.readonly%20https%3A%2F%2Fwww.googleapis.com%2Fauth%2Fpeopleapi.readonly&response_type=code\n",
            "\n",
            "Enter your authorization code:\n",
            "··········\n",
            "Mounted at /content/gdrive\n"
          ],
          "name": "stdout"
        }
      ]
    },
    {
      "metadata": {
        "id": "Ly2Q-QgGteJQ",
        "colab_type": "code",
        "colab": {
          "base_uri": "https://localhost:8080/",
          "height": 35
        },
        "outputId": "ec43d49c-03e7-47bc-8744-fc4a42238a0e"
      },
      "cell_type": "code",
      "source": [
        "# Create a file\n",
        "with open('/content/gdrive/My Drive/LionData/foo.txt', 'w') as f:\n",
        "  f.write('Hello Google Drive!')\n",
        "!cat /content/gdrive/My\\ Drive/LionData/foo.txt"
      ],
      "execution_count": 3,
      "outputs": [
        {
          "output_type": "stream",
          "text": [
            "Hello Google Drive!"
          ],
          "name": "stdout"
        }
      ]
    },
    {
      "metadata": {
        "id": "XqfarUTZ0p2G",
        "colab_type": "code",
        "colab": {}
      },
      "cell_type": "code",
      "source": [
        "# Use PDrive function\n",
        "!pip install -U -q PyDrive\n",
        "\n",
        "from pydrive.auth import GoogleAuth\n",
        "from pydrive.drive import GoogleDrive\n",
        "from google.colab import auth\n",
        "from oauth2client.client import GoogleCredentials\n",
        "\n",
        "# 1. Authenticate and create the PyDrive client.\n",
        "auth.authenticate_user()\n",
        "gauth = GoogleAuth()\n",
        "gauth.credentials = GoogleCredentials.get_application_default()\n",
        "drive = GoogleDrive(gauth)"
      ],
      "execution_count": 0,
      "outputs": []
    },
    {
      "metadata": {
        "id": "Wt642l0qv_Xm",
        "colab_type": "code",
        "colab": {
          "base_uri": "https://localhost:8080/",
          "height": 359
        },
        "outputId": "1ec4be14-e11d-41eb-a8bd-06645782b189"
      },
      "cell_type": "code",
      "source": [
        "# List files\n",
        "file_list = drive.ListFile({'q': \"'root' in parents and trashed=false\"}).GetList()\n",
        "for file1 in file_list:\n",
        "  print('title: %s, id: %s' % (file1['title'], file1['id']))"
      ],
      "execution_count": 13,
      "outputs": [
        {
          "output_type": "stream",
          "text": [
            "title: LionData, id: 1wZoi3A5fUjpmu3y_cCdqsBEbXktRh1_l\n",
            "title: foo.txt, id: 1-1jT1Natx6cyvEUgHdUKg31MywGT3siC\n",
            "title: foo2.txt, id: 18MKglXa8pcI95jBXzMTl42u2AIR99TQu\n",
            "title: 湯桂禎旅行社_20181019, id: 14ntE30_-iR-qc0P4pk31vkaO8OOcjCRGrEh5CxYtj5M\n",
            "title: FINAL Brisbane Tourism Investment Guide, id: 1JdYmuHT19TZyV-uaizPK6PGopPQWu8xC\n",
            "title: 詹宏志：論補貼與蝦皮之役_20180607, id: 1PySk7v0bswrM4-Lo1U8RFT7GcdepmDjeS2eEpfOY9nI\n",
            "title: 創業家兄弟法說會_20180801.pdf, id: 14JhXbgTj-5QE9K4ac_pPlIPJ2iwUo4FK\n",
            "title: submit-sample.json, id: 1s6CjebwO3s9Y3K6vrZhEC3UsaptWdXJD\n",
            "title: 德國合作的药店_201805, id: 1doG5yuzIv6TCW8ENcBsA6P77yGqTxpp09ft9DuYCCaE\n",
            "title: et_20180427 - Chih-wei Cheng.tar, id: 1OU4uMxGY82uFEINjMRFXhjBRFUbublmA\n",
            "title: 東森-新客成交預測與舊客商品偏好預測_20180426 - Chih-wei Cheng.pdf, id: 1Ft6pD5EfRA-KKMeELlqmEPPwtj3aF8DW\n",
            "title: et_20180427.tar, id: 1ydPjPjjZihKBPKM3rLblDHQCvzTo1z-l\n",
            "title: 東森-新客成交預測與舊客商品偏好預測_20180426.pdf, id: 1VLLGTPHvllOoTTiq45f8DGNp4E_WenAD\n",
            "title: ai, id: 1kRULtH-0zQDSu5aL0JGNZEankknAWgpV\n",
            "title: personal, id: 1aWTpM3zv5nf1ehe0fElvIMgL0nnjib27\n",
            "title: bnbdata, id: 1N4KtGq1bwK122mkUS5hGyAkdJmkIbjo7\n",
            "title: Colab Notebooks, id: 1SRIet5D_ShcqHVEsM2uLcwSg78TVmRlx\n",
            "title: HelloFax, id: 0B0PbabVyLQgSV3ZPT1o4ZVdtakU\n",
            "title: Picture, id: 0B0PbabVyLQgSbnJOQktZX3ViNUU\n"
          ],
          "name": "stdout"
        }
      ]
    },
    {
      "metadata": {
        "id": "vJJ79Ofrw9c8",
        "colab_type": "code",
        "colab": {
          "base_uri": "https://localhost:8080/",
          "height": 204
        },
        "outputId": "c0f50645-5c9e-4c1e-97b3-24a438bf3100"
      },
      "cell_type": "code",
      "source": [
        "df = pd.read_csv('/content/gdrive/My Drive/LionData/airline.csv')\n",
        "df.head()"
      ],
      "execution_count": 6,
      "outputs": [
        {
          "output_type": "execute_result",
          "data": {
            "text/html": [
              "<div>\n",
              "<style scoped>\n",
              "    .dataframe tbody tr th:only-of-type {\n",
              "        vertical-align: middle;\n",
              "    }\n",
              "\n",
              "    .dataframe tbody tr th {\n",
              "        vertical-align: top;\n",
              "    }\n",
              "\n",
              "    .dataframe thead th {\n",
              "        text-align: right;\n",
              "    }\n",
              "</style>\n",
              "<table border=\"1\" class=\"dataframe\">\n",
              "  <thead>\n",
              "    <tr style=\"text-align: right;\">\n",
              "      <th></th>\n",
              "      <th>group_id</th>\n",
              "      <th>go_back</th>\n",
              "      <th>fly_time</th>\n",
              "      <th>src_airport</th>\n",
              "      <th>arrive_time</th>\n",
              "      <th>dst_airport</th>\n",
              "    </tr>\n",
              "  </thead>\n",
              "  <tbody>\n",
              "    <tr>\n",
              "      <th>0</th>\n",
              "      <td>63695</td>\n",
              "      <td>去程</td>\n",
              "      <td>2017/3/22 23:30</td>\n",
              "      <td>TPE 桃園機場</td>\n",
              "      <td>2017/3/22 14:15</td>\n",
              "      <td>HNL 檀香山機場</td>\n",
              "    </tr>\n",
              "    <tr>\n",
              "      <th>1</th>\n",
              "      <td>63695</td>\n",
              "      <td>回程</td>\n",
              "      <td>2017/4/1 14:30</td>\n",
              "      <td>LAX 洛杉機機場</td>\n",
              "      <td>2017/4/2 21:00</td>\n",
              "      <td>TPE 桃園機場</td>\n",
              "    </tr>\n",
              "    <tr>\n",
              "      <th>2</th>\n",
              "      <td>53481</td>\n",
              "      <td>去程</td>\n",
              "      <td>2017/5/17 23:00</td>\n",
              "      <td>TPE 桃園機場</td>\n",
              "      <td>2017/5/17 14:45</td>\n",
              "      <td>HNL 檀香山機場</td>\n",
              "    </tr>\n",
              "    <tr>\n",
              "      <th>3</th>\n",
              "      <td>53481</td>\n",
              "      <td>回程</td>\n",
              "      <td>2017/5/27 16:00</td>\n",
              "      <td>LAX 洛杉機機場</td>\n",
              "      <td>2017/5/28 21:05</td>\n",
              "      <td>TPE 桃園機場</td>\n",
              "    </tr>\n",
              "    <tr>\n",
              "      <th>4</th>\n",
              "      <td>54305</td>\n",
              "      <td>去程</td>\n",
              "      <td>2017/6/21 23:30</td>\n",
              "      <td>TPE 桃園機場</td>\n",
              "      <td>2017/6/21 14:15</td>\n",
              "      <td>HNL 檀香山機場</td>\n",
              "    </tr>\n",
              "  </tbody>\n",
              "</table>\n",
              "</div>"
            ],
            "text/plain": [
              "   group_id go_back         fly_time src_airport      arrive_time dst_airport\n",
              "0     63695      去程  2017/3/22 23:30    TPE 桃園機場  2017/3/22 14:15   HNL 檀香山機場\n",
              "1     63695      回程   2017/4/1 14:30   LAX 洛杉機機場   2017/4/2 21:00    TPE 桃園機場\n",
              "2     53481      去程  2017/5/17 23:00    TPE 桃園機場  2017/5/17 14:45   HNL 檀香山機場\n",
              "3     53481      回程  2017/5/27 16:00   LAX 洛杉機機場  2017/5/28 21:05    TPE 桃園機場\n",
              "4     54305      去程  2017/6/21 23:30    TPE 桃園機場  2017/6/21 14:15   HNL 檀香山機場"
            ]
          },
          "metadata": {
            "tags": []
          },
          "execution_count": 6
        }
      ]
    },
    {
      "metadata": {
        "id": "cQX4FQ_i4NR5",
        "colab_type": "code",
        "colab": {
          "base_uri": "https://localhost:8080/",
          "height": 289
        },
        "outputId": "34952960-f2e4-42d8-8fdc-5503e40e0631"
      },
      "cell_type": "code",
      "source": [
        "df = pd.read_csv('/content/gdrive/My Drive/LionData/group.csv')\n",
        "df.head()"
      ],
      "execution_count": 7,
      "outputs": [
        {
          "output_type": "execute_result",
          "data": {
            "text/html": [
              "<div>\n",
              "<style scoped>\n",
              "    .dataframe tbody tr th:only-of-type {\n",
              "        vertical-align: middle;\n",
              "    }\n",
              "\n",
              "    .dataframe tbody tr th {\n",
              "        vertical-align: top;\n",
              "    }\n",
              "\n",
              "    .dataframe thead th {\n",
              "        text-align: right;\n",
              "    }\n",
              "</style>\n",
              "<table border=\"1\" class=\"dataframe\">\n",
              "  <thead>\n",
              "    <tr style=\"text-align: right;\">\n",
              "      <th></th>\n",
              "      <th>group_id</th>\n",
              "      <th>sub_line</th>\n",
              "      <th>area</th>\n",
              "      <th>days</th>\n",
              "      <th>begin_date</th>\n",
              "      <th>price</th>\n",
              "      <th>product_name</th>\n",
              "      <th>promotion_prog</th>\n",
              "    </tr>\n",
              "  </thead>\n",
              "  <tbody>\n",
              "    <tr>\n",
              "      <th>0</th>\n",
              "      <td>63695</td>\n",
              "      <td>subline_value_1</td>\n",
              "      <td>area_value_1</td>\n",
              "      <td>12</td>\n",
              "      <td>22-Mar-17</td>\n",
              "      <td>106900</td>\n",
              "      <td>最高省8000》大美西～夏威夷、優勝美地、西峽天空步道、聖地牙哥、環球影城(哈利波特)12日</td>\n",
              "      <td>&amp;lt;B&amp;gt;[GG]《行銷活動》[//]&amp;lt;/B&amp;gt;&amp;lt;font face...</td>\n",
              "    </tr>\n",
              "    <tr>\n",
              "      <th>1</th>\n",
              "      <td>53481</td>\n",
              "      <td>subline_value_1</td>\n",
              "      <td>area_value_1</td>\n",
              "      <td>12</td>\n",
              "      <td>17-May-17</td>\n",
              "      <td>112900</td>\n",
              "      <td>《玩樂369》旗艦大美西12日～升等五星、優勝美地、西峽天空步道、卡利哥鬼鎮、環球影城大美西12日</td>\n",
              "      <td>&amp;lt;B&amp;gt;[GG]《行銷活動》[//]&amp;lt;/B&amp;gt;&amp;lt;font face...</td>\n",
              "    </tr>\n",
              "    <tr>\n",
              "      <th>2</th>\n",
              "      <td>54305</td>\n",
              "      <td>subline_value_1</td>\n",
              "      <td>area_value_1</td>\n",
              "      <td>12</td>\n",
              "      <td>21-Jun-17</td>\n",
              "      <td>115900</td>\n",
              "      <td>《玩樂369》旗艦大美西12日～升等五星、優勝美地、西峽天空步道、卡利哥鬼鎮、環球影城大美西12日</td>\n",
              "      <td>&amp;lt;B&amp;gt;[GG]《行銷活動》[//]&amp;lt;/B&amp;gt;&amp;lt;font face...</td>\n",
              "    </tr>\n",
              "    <tr>\n",
              "      <th>3</th>\n",
              "      <td>41766</td>\n",
              "      <td>subline_value_1</td>\n",
              "      <td>area_value_1</td>\n",
              "      <td>12</td>\n",
              "      <td>12-Jul-17</td>\n",
              "      <td>126900</td>\n",
              "      <td>《玩樂369》旗艦大美西12日～升等五星、優勝美地、西峽天空步道、卡利哥鬼鎮、環球影城大美西12日</td>\n",
              "      <td>&amp;lt;B&amp;gt;[GG]《行銷活動》[//]&amp;lt;/B&amp;gt;&amp;lt;font face...</td>\n",
              "    </tr>\n",
              "    <tr>\n",
              "      <th>4</th>\n",
              "      <td>32196</td>\n",
              "      <td>subline_value_1</td>\n",
              "      <td>area_value_1</td>\n",
              "      <td>12</td>\n",
              "      <td>9-Aug-17</td>\n",
              "      <td>126900</td>\n",
              "      <td>《玩樂369》旗艦大美西12日～升等五星、優勝美地、西峽天空步道、卡利哥鬼鎮、環球影城大美西12日</td>\n",
              "      <td>&amp;lt;B&amp;gt;[GG]《行銷活動》[//]&amp;lt;/B&amp;gt;&amp;lt;font face...</td>\n",
              "    </tr>\n",
              "  </tbody>\n",
              "</table>\n",
              "</div>"
            ],
            "text/plain": [
              "   group_id         sub_line          area  days begin_date   price  \\\n",
              "0     63695  subline_value_1  area_value_1    12  22-Mar-17  106900   \n",
              "1     53481  subline_value_1  area_value_1    12  17-May-17  112900   \n",
              "2     54305  subline_value_1  area_value_1    12  21-Jun-17  115900   \n",
              "3     41766  subline_value_1  area_value_1    12  12-Jul-17  126900   \n",
              "4     32196  subline_value_1  area_value_1    12   9-Aug-17  126900   \n",
              "\n",
              "                                        product_name  \\\n",
              "0     最高省8000》大美西～夏威夷、優勝美地、西峽天空步道、聖地牙哥、環球影城(哈利波特)12日   \n",
              "1  《玩樂369》旗艦大美西12日～升等五星、優勝美地、西峽天空步道、卡利哥鬼鎮、環球影城大美西12日   \n",
              "2  《玩樂369》旗艦大美西12日～升等五星、優勝美地、西峽天空步道、卡利哥鬼鎮、環球影城大美西12日   \n",
              "3  《玩樂369》旗艦大美西12日～升等五星、優勝美地、西峽天空步道、卡利哥鬼鎮、環球影城大美西12日   \n",
              "4  《玩樂369》旗艦大美西12日～升等五星、優勝美地、西峽天空步道、卡利哥鬼鎮、環球影城大美西12日   \n",
              "\n",
              "                                      promotion_prog  \n",
              "0  &lt;B&gt;[GG]《行銷活動》[//]&lt;/B&gt;&lt;font face...  \n",
              "1  &lt;B&gt;[GG]《行銷活動》[//]&lt;/B&gt;&lt;font face...  \n",
              "2  &lt;B&gt;[GG]《行銷活動》[//]&lt;/B&gt;&lt;font face...  \n",
              "3  &lt;B&gt;[GG]《行銷活動》[//]&lt;/B&gt;&lt;font face...  \n",
              "4  &lt;B&gt;[GG]《行銷活動》[//]&lt;/B&gt;&lt;font face...  "
            ]
          },
          "metadata": {
            "tags": []
          },
          "execution_count": 7
        }
      ]
    },
    {
      "metadata": {
        "id": "mL-ioev14X5k",
        "colab_type": "code",
        "colab": {
          "base_uri": "https://localhost:8080/",
          "height": 204
        },
        "outputId": "63861cc6-f2d8-46ac-8874-55e2c7648270"
      },
      "cell_type": "code",
      "source": [
        "df = pd.read_csv('/content/gdrive/My Drive/LionData/day_schedule.csv')\n",
        "df.head()"
      ],
      "execution_count": 8,
      "outputs": [
        {
          "output_type": "execute_result",
          "data": {
            "text/html": [
              "<div>\n",
              "<style scoped>\n",
              "    .dataframe tbody tr th:only-of-type {\n",
              "        vertical-align: middle;\n",
              "    }\n",
              "\n",
              "    .dataframe tbody tr th {\n",
              "        vertical-align: top;\n",
              "    }\n",
              "\n",
              "    .dataframe thead th {\n",
              "        text-align: right;\n",
              "    }\n",
              "</style>\n",
              "<table border=\"1\" class=\"dataframe\">\n",
              "  <thead>\n",
              "    <tr style=\"text-align: right;\">\n",
              "      <th></th>\n",
              "      <th>group_id</th>\n",
              "      <th>day</th>\n",
              "      <th>title</th>\n",
              "    </tr>\n",
              "  </thead>\n",
              "  <tbody>\n",
              "    <tr>\n",
              "      <th>0</th>\n",
              "      <td>63695</td>\n",
              "      <td>1.0</td>\n",
              "      <td>台北 [AIR]歐胡島市區觀光【州政府．皇宮．國王銅像．中國城】</td>\n",
              "    </tr>\n",
              "    <tr>\n",
              "      <th>1</th>\n",
              "      <td>63695</td>\n",
              "      <td>2.0</td>\n",
              "      <td>夏威夷小環島【鑽石頭山．恐龍灣．噴泉口】－珍珠港[BOATS]豪華愛之船Star of Ho...</td>\n",
              "    </tr>\n",
              "    <tr>\n",
              "      <th>2</th>\n",
              "      <td>63695</td>\n",
              "      <td>3.0</td>\n",
              "      <td>夏威夷 [AIR] 舊金山</td>\n",
              "    </tr>\n",
              "    <tr>\n",
              "      <th>3</th>\n",
              "      <td>63695</td>\n",
              "      <td>4.0</td>\n",
              "      <td>舊金山市區觀光【藝術宮．金門大橋．金門公園．漁人碼頭．金門灣遊船．市政廳．雙子峰．九曲花街】</td>\n",
              "    </tr>\n",
              "    <tr>\n",
              "      <th>4</th>\n",
              "      <td>63695</td>\n",
              "      <td>5.0</td>\n",
              "      <td>舊金山－300KM－優勝美地國家公園－100KM－佛雷斯諾</td>\n",
              "    </tr>\n",
              "  </tbody>\n",
              "</table>\n",
              "</div>"
            ],
            "text/plain": [
              "   group_id  day                                              title\n",
              "0     63695  1.0                   台北 [AIR]歐胡島市區觀光【州政府．皇宮．國王銅像．中國城】\n",
              "1     63695  2.0  夏威夷小環島【鑽石頭山．恐龍灣．噴泉口】－珍珠港[BOATS]豪華愛之船Star of Ho...\n",
              "2     63695  3.0                                      夏威夷 [AIR] 舊金山\n",
              "3     63695  4.0     舊金山市區觀光【藝術宮．金門大橋．金門公園．漁人碼頭．金門灣遊船．市政廳．雙子峰．九曲花街】\n",
              "4     63695  5.0                      舊金山－300KM－優勝美地國家公園－100KM－佛雷斯諾"
            ]
          },
          "metadata": {
            "tags": []
          },
          "execution_count": 8
        }
      ]
    },
    {
      "metadata": {
        "id": "0cIH10Xt4hJi",
        "colab_type": "code",
        "colab": {
          "base_uri": "https://localhost:8080/",
          "height": 204
        },
        "outputId": "19582a8f-c749-4047-f646-17c6ede23fb4"
      },
      "cell_type": "code",
      "source": [
        "df = pd.read_csv('/content/gdrive/My Drive/LionData/order.csv')\n",
        "df.head()"
      ],
      "execution_count": 9,
      "outputs": [
        {
          "output_type": "execute_result",
          "data": {
            "text/html": [
              "<div>\n",
              "<style scoped>\n",
              "    .dataframe tbody tr th:only-of-type {\n",
              "        vertical-align: middle;\n",
              "    }\n",
              "\n",
              "    .dataframe tbody tr th {\n",
              "        vertical-align: top;\n",
              "    }\n",
              "\n",
              "    .dataframe thead th {\n",
              "        text-align: right;\n",
              "    }\n",
              "</style>\n",
              "<table border=\"1\" class=\"dataframe\">\n",
              "  <thead>\n",
              "    <tr style=\"text-align: right;\">\n",
              "      <th></th>\n",
              "      <th>order_id</th>\n",
              "      <th>group_id</th>\n",
              "      <th>order_date</th>\n",
              "      <th>source_1</th>\n",
              "      <th>source_2</th>\n",
              "      <th>unit</th>\n",
              "      <th>people_amount</th>\n",
              "    </tr>\n",
              "  </thead>\n",
              "  <tbody>\n",
              "    <tr>\n",
              "      <th>0</th>\n",
              "      <td>136100</td>\n",
              "      <td>63695</td>\n",
              "      <td>5-Jan-17</td>\n",
              "      <td>src1_value_1</td>\n",
              "      <td>src2_value_1</td>\n",
              "      <td>unit_value_1</td>\n",
              "      <td>2</td>\n",
              "    </tr>\n",
              "    <tr>\n",
              "      <th>1</th>\n",
              "      <td>140370</td>\n",
              "      <td>63695</td>\n",
              "      <td>9-Nov-16</td>\n",
              "      <td>src1_value_1</td>\n",
              "      <td>src2_value_1</td>\n",
              "      <td>unit_value_2</td>\n",
              "      <td>1</td>\n",
              "    </tr>\n",
              "    <tr>\n",
              "      <th>2</th>\n",
              "      <td>211009</td>\n",
              "      <td>63695</td>\n",
              "      <td>20-Jan-17</td>\n",
              "      <td>src1_value_1</td>\n",
              "      <td>src2_value_1</td>\n",
              "      <td>unit_value_3</td>\n",
              "      <td>2</td>\n",
              "    </tr>\n",
              "    <tr>\n",
              "      <th>3</th>\n",
              "      <td>41571</td>\n",
              "      <td>53481</td>\n",
              "      <td>14-Mar-17</td>\n",
              "      <td>src1_value_1</td>\n",
              "      <td>src2_value_1</td>\n",
              "      <td>unit_value_4</td>\n",
              "      <td>4</td>\n",
              "    </tr>\n",
              "    <tr>\n",
              "      <th>4</th>\n",
              "      <td>64125</td>\n",
              "      <td>53481</td>\n",
              "      <td>27-Mar-17</td>\n",
              "      <td>src1_value_2</td>\n",
              "      <td>src2_value_1</td>\n",
              "      <td>unit_value_5</td>\n",
              "      <td>1</td>\n",
              "    </tr>\n",
              "  </tbody>\n",
              "</table>\n",
              "</div>"
            ],
            "text/plain": [
              "   order_id  group_id order_date      source_1      source_2          unit  \\\n",
              "0    136100     63695   5-Jan-17  src1_value_1  src2_value_1  unit_value_1   \n",
              "1    140370     63695   9-Nov-16  src1_value_1  src2_value_1  unit_value_2   \n",
              "2    211009     63695  20-Jan-17  src1_value_1  src2_value_1  unit_value_3   \n",
              "3     41571     53481  14-Mar-17  src1_value_1  src2_value_1  unit_value_4   \n",
              "4     64125     53481  27-Mar-17  src1_value_2  src2_value_1  unit_value_5   \n",
              "\n",
              "   people_amount  \n",
              "0              2  \n",
              "1              1  \n",
              "2              2  \n",
              "3              4  \n",
              "4              1  "
            ]
          },
          "metadata": {
            "tags": []
          },
          "execution_count": 9
        }
      ]
    },
    {
      "metadata": {
        "id": "cB0IDCG44iYo",
        "colab_type": "code",
        "colab": {
          "base_uri": "https://localhost:8080/",
          "height": 204
        },
        "outputId": "0244c474-7a6f-4000-da81-518e01e73e54"
      },
      "cell_type": "code",
      "source": [
        "df = pd.read_csv('/content/gdrive/My Drive/LionData/cache_map.csv')\n",
        "df.head()"
      ],
      "execution_count": 10,
      "outputs": [
        {
          "output_type": "execute_result",
          "data": {
            "text/html": [
              "<div>\n",
              "<style scoped>\n",
              "    .dataframe tbody tr th:only-of-type {\n",
              "        vertical-align: middle;\n",
              "    }\n",
              "\n",
              "    .dataframe tbody tr th {\n",
              "        vertical-align: top;\n",
              "    }\n",
              "\n",
              "    .dataframe thead th {\n",
              "        text-align: right;\n",
              "    }\n",
              "</style>\n",
              "<table border=\"1\" class=\"dataframe\">\n",
              "  <thead>\n",
              "    <tr style=\"text-align: right;\">\n",
              "      <th></th>\n",
              "      <th>file_name</th>\n",
              "      <th>url</th>\n",
              "    </tr>\n",
              "  </thead>\n",
              "  <tbody>\n",
              "    <tr>\n",
              "      <th>0</th>\n",
              "      <td>lion_cache_1.jpg</td>\n",
              "      <td>https://www.liontravel.com/Comm/2TRS/HotSale/p...</td>\n",
              "    </tr>\n",
              "    <tr>\n",
              "      <th>1</th>\n",
              "      <td>lion_cache_2.jpg</td>\n",
              "      <td>https://www.liontravel.com/Comm/2TRS/HotSale/p...</td>\n",
              "    </tr>\n",
              "    <tr>\n",
              "      <th>2</th>\n",
              "      <td>lion_cache_3.jpg</td>\n",
              "      <td>https://www.liontravel.com/Comm/2trs/hotsale/p...</td>\n",
              "    </tr>\n",
              "    <tr>\n",
              "      <th>3</th>\n",
              "      <td>lion_cache_4.jpg</td>\n",
              "      <td>https://www.liontravel.com/Comm/2TRS/HotSale/p...</td>\n",
              "    </tr>\n",
              "    <tr>\n",
              "      <th>4</th>\n",
              "      <td>lion_cache_5.jpg</td>\n",
              "      <td>https://www.liontravel.com/Comm/2TRS/HotSale/p...</td>\n",
              "    </tr>\n",
              "  </tbody>\n",
              "</table>\n",
              "</div>"
            ],
            "text/plain": [
              "          file_name                                                url\n",
              "0  lion_cache_1.jpg  https://www.liontravel.com/Comm/2TRS/HotSale/p...\n",
              "1  lion_cache_2.jpg  https://www.liontravel.com/Comm/2TRS/HotSale/p...\n",
              "2  lion_cache_3.jpg  https://www.liontravel.com/Comm/2trs/hotsale/p...\n",
              "3  lion_cache_4.jpg  https://www.liontravel.com/Comm/2TRS/HotSale/p...\n",
              "4  lion_cache_5.jpg  https://www.liontravel.com/Comm/2TRS/HotSale/p..."
            ]
          },
          "metadata": {
            "tags": []
          },
          "execution_count": 10
        }
      ]
    },
    {
      "metadata": {
        "id": "m221YhXX4ja4",
        "colab_type": "code",
        "colab": {
          "base_uri": "https://localhost:8080/",
          "height": 204
        },
        "outputId": "1152eedd-3a3f-4828-c09a-c0484939ae03"
      },
      "cell_type": "code",
      "source": [
        "df = pd.read_csv('/content/gdrive/My Drive/LionData/testing-set.csv')\n",
        "df.head()"
      ],
      "execution_count": 11,
      "outputs": [
        {
          "output_type": "execute_result",
          "data": {
            "text/html": [
              "<div>\n",
              "<style scoped>\n",
              "    .dataframe tbody tr th:only-of-type {\n",
              "        vertical-align: middle;\n",
              "    }\n",
              "\n",
              "    .dataframe tbody tr th {\n",
              "        vertical-align: top;\n",
              "    }\n",
              "\n",
              "    .dataframe thead th {\n",
              "        text-align: right;\n",
              "    }\n",
              "</style>\n",
              "<table border=\"1\" class=\"dataframe\">\n",
              "  <thead>\n",
              "    <tr style=\"text-align: right;\">\n",
              "      <th></th>\n",
              "      <th>order_id</th>\n",
              "      <th>deal_or_not</th>\n",
              "    </tr>\n",
              "  </thead>\n",
              "  <tbody>\n",
              "    <tr>\n",
              "      <th>0</th>\n",
              "      <td>136100</td>\n",
              "      <td>NaN</td>\n",
              "    </tr>\n",
              "    <tr>\n",
              "      <th>1</th>\n",
              "      <td>140370</td>\n",
              "      <td>NaN</td>\n",
              "    </tr>\n",
              "    <tr>\n",
              "      <th>2</th>\n",
              "      <td>211009</td>\n",
              "      <td>NaN</td>\n",
              "    </tr>\n",
              "    <tr>\n",
              "      <th>3</th>\n",
              "      <td>5045</td>\n",
              "      <td>NaN</td>\n",
              "    </tr>\n",
              "    <tr>\n",
              "      <th>4</th>\n",
              "      <td>37230</td>\n",
              "      <td>NaN</td>\n",
              "    </tr>\n",
              "  </tbody>\n",
              "</table>\n",
              "</div>"
            ],
            "text/plain": [
              "   order_id  deal_or_not\n",
              "0    136100          NaN\n",
              "1    140370          NaN\n",
              "2    211009          NaN\n",
              "3      5045          NaN\n",
              "4     37230          NaN"
            ]
          },
          "metadata": {
            "tags": []
          },
          "execution_count": 11
        }
      ]
    },
    {
      "metadata": {
        "id": "DRnfMobs5gAi",
        "colab_type": "code",
        "colab": {
          "base_uri": "https://localhost:8080/",
          "height": 204
        },
        "outputId": "ddacc6df-b454-45aa-f774-515d864d249b"
      },
      "cell_type": "code",
      "source": [
        "df = pd.read_csv('/content/gdrive/My Drive/LionData/training-set.csv')\n",
        "df.head()"
      ],
      "execution_count": 12,
      "outputs": [
        {
          "output_type": "execute_result",
          "data": {
            "text/html": [
              "<div>\n",
              "<style scoped>\n",
              "    .dataframe tbody tr th:only-of-type {\n",
              "        vertical-align: middle;\n",
              "    }\n",
              "\n",
              "    .dataframe tbody tr th {\n",
              "        vertical-align: top;\n",
              "    }\n",
              "\n",
              "    .dataframe thead th {\n",
              "        text-align: right;\n",
              "    }\n",
              "</style>\n",
              "<table border=\"1\" class=\"dataframe\">\n",
              "  <thead>\n",
              "    <tr style=\"text-align: right;\">\n",
              "      <th></th>\n",
              "      <th>order_id</th>\n",
              "      <th>deal_or_not</th>\n",
              "    </tr>\n",
              "  </thead>\n",
              "  <tbody>\n",
              "    <tr>\n",
              "      <th>0</th>\n",
              "      <td>41571</td>\n",
              "      <td>1</td>\n",
              "    </tr>\n",
              "    <tr>\n",
              "      <th>1</th>\n",
              "      <td>64125</td>\n",
              "      <td>1</td>\n",
              "    </tr>\n",
              "    <tr>\n",
              "      <th>2</th>\n",
              "      <td>76131</td>\n",
              "      <td>0</td>\n",
              "    </tr>\n",
              "    <tr>\n",
              "      <th>3</th>\n",
              "      <td>238671</td>\n",
              "      <td>0</td>\n",
              "    </tr>\n",
              "    <tr>\n",
              "      <th>4</th>\n",
              "      <td>93305</td>\n",
              "      <td>1</td>\n",
              "    </tr>\n",
              "  </tbody>\n",
              "</table>\n",
              "</div>"
            ],
            "text/plain": [
              "   order_id  deal_or_not\n",
              "0     41571            1\n",
              "1     64125            1\n",
              "2     76131            0\n",
              "3    238671            0\n",
              "4     93305            1"
            ]
          },
          "metadata": {
            "tags": []
          },
          "execution_count": 12
        }
      ]
    },
    {
      "metadata": {
        "id": "bFjQ6Ca45jpF",
        "colab_type": "code",
        "colab": {}
      },
      "cell_type": "code",
      "source": [
        ""
      ],
      "execution_count": 0,
      "outputs": []
    }
  ]
}