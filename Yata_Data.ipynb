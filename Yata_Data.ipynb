{
  "nbformat": 4,
  "nbformat_minor": 0,
  "metadata": {
    "colab": {
      "name": "Yata_Data.ipynb",
      "version": "0.3.2",
      "provenance": []
    },
    "kernelspec": {
      "name": "python3",
      "display_name": "Python 3"
    }
  },
  "cells": [
    {
      "cell_type": "code",
      "metadata": {
        "id": "_ei3I_C-GYc1",
        "colab_type": "code",
        "colab": {}
      },
      "source": [
        "import pandas as pd\n",
        "import numpy as np\n",
        "from sklearn.model_selection import train_test_split\n",
        "from sklearn.ensemble import RandomForestClassifier\n",
        "from sklearn.metrics import confusion_matrix\n",
        "from sklearn.metrics import roc_curve\n",
        "from sklearn.metrics import mean_absolute_error as MAE\n",
        "import gc\n",
        "import matplotlib\n",
        "import matplotlib.pyplot as plt\n",
        "from IPython.display import display, HTML"
      ],
      "execution_count": 0,
      "outputs": []
    },
    {
      "cell_type": "code",
      "metadata": {
        "id": "n3SZeKhOGbqQ",
        "colab_type": "code",
        "colab": {
          "base_uri": "https://localhost:8080/",
          "height": 129
        },
        "outputId": "99d6e6e3-cddc-4c2e-ec47-01c5e97d0512"
      },
      "source": [
        "# Mount personal Google Drive; all data files are in personal Google Drive\n",
        "# account: My main account @ Gmail\n",
        "from google.colab import drive\n",
        "drive.mount('/content/gdrive')"
      ],
      "execution_count": 49,
      "outputs": [
        {
          "output_type": "stream",
          "text": [
            "Go to this URL in a browser: https://accounts.google.com/o/oauth2/auth?client_id=947318989803-6bn6qk8qdgf4n4g3pfee6491hc0brc4i.apps.googleusercontent.com&redirect_uri=urn%3Aietf%3Awg%3Aoauth%3A2.0%3Aoob&scope=email%20https%3A%2F%2Fwww.googleapis.com%2Fauth%2Fdocs.test%20https%3A%2F%2Fwww.googleapis.com%2Fauth%2Fdrive%20https%3A%2F%2Fwww.googleapis.com%2Fauth%2Fdrive.photos.readonly%20https%3A%2F%2Fwww.googleapis.com%2Fauth%2Fpeopleapi.readonly&response_type=code\n",
            "\n",
            "Enter your authorization code:\n",
            "··········\n",
            "Mounted at /content/gdrive\n"
          ],
          "name": "stdout"
        }
      ]
    },
    {
      "cell_type": "code",
      "metadata": {
        "id": "jm0nvJ3tGkis",
        "colab_type": "code",
        "colab": {}
      },
      "source": [
        "# Use PDrive function\n",
        "!pip install -U -q PyDrive\n",
        "\n",
        "from pydrive.auth import GoogleAuth\n",
        "from pydrive.drive import GoogleDrive\n",
        "from google.colab import auth\n",
        "from oauth2client.client import GoogleCredentials\n",
        "\n",
        "# Authenticate and create the PyDrive client.\n",
        "auth.authenticate_user()\n",
        "gauth = GoogleAuth()\n",
        "gauth.credentials = GoogleCredentials.get_application_default()\n",
        "drive = GoogleDrive(gauth)"
      ],
      "execution_count": 0,
      "outputs": []
    },
    {
      "cell_type": "code",
      "metadata": {
        "id": "dxXNLtR-Goyb",
        "colab_type": "code",
        "outputId": "7a1c19c3-1ec2-4a32-989b-4ab4902ed6fb",
        "colab": {
          "base_uri": "https://localhost:8080/",
          "height": 262
        }
      },
      "source": [
        "# List files in root directory\n",
        "file_list = drive.ListFile({'q': \"'root' in parents and trashed=false\"}).GetList()\n",
        "for file1 in file_list:\n",
        "  print('title: %s, id: %s' % (file1['title'], file1['id']))"
      ],
      "execution_count": 51,
      "outputs": [
        {
          "output_type": "stream",
          "text": [
            "title: 23.csv, id: 1JKzKvSw9Ym8iJUzl_JEPuRq-N-PsH1Zx\n",
            "title: 98, id: 1Wwfy8TyImvrVRktOa3XIknXqKlQVVvQg3PcsbgKD0Ms\n",
            "title: contacts.csv, id: 1hOS6oFmJDjQQLBY4EnOn9WX1zc-c3xYu\n",
            "title: https://www.goeugo.com, id: 17JhDtBrBDmyi-QUM35jM5TXoJ6_XdTbN\n",
            "title: Colab Notebooks, id: 1kXGE13cjX-yz2222w9qTUyQMGPysUgn_\n",
            "title: 影片集, id: 1cuSzW7boRwQy8nwgxUf_FflAQhmzJhcG\n",
            "title: 照片集, id: 10c5xL8LrPRdsKAi_8Xaa4K1t29paSGCj\n",
            "title: 2018卡通簡介30秒版.mp4, id: 1DNw28LhL555PqUZmstvQQvmfTe8aXgZW\n",
            "title: 2015公司簡介.mp4, id: 1y7yJLy3Bpn919ZIvbmLPOEOBRPgn_9bp\n",
            "title: 小包團需求_空白表格_2019.docx, id: 1Ft1au82vSv8YO8JY5-olEOh1BDT-dpAk\n",
            "title: 2019goeugo專業版介紹-同業版_20190612.pptx, id: 170QhaK9XydIvAlQdpJ4FfVmXFnHpASu2\n",
            "title: 2019歐來歐去循環團.pdf, id: 1mqgf_JBjyXExI5tVKFp55gHGdq7KE_QK\n",
            "title: 2019歐來歐去桃園說明會-線上報名, id: 17G2uclEvxnd6k3ISEXu0KV_z0pHUMv6yQ1owQYhK4Ks\n",
            "title: 歐洲報價訊息一手取得_20190612.jpg, id: 1fE4e7mlNp78FtbXVSuZuz8Kb5JrL7Otl\n"
          ],
          "name": "stdout"
        }
      ]
    },
    {
      "cell_type": "code",
      "metadata": {
        "id": "nCdCKQvRGrAT",
        "colab_type": "code",
        "colab": {
          "base_uri": "https://localhost:8080/",
          "height": 206
        },
        "outputId": "1463f260-e26f-4b77-95c3-38a538f805ee"
      },
      "source": [
        "# Check first 5 rows in the airline file\n",
        "Ydata = pd.read_csv('/content/gdrive/My Drive/23.csv')\n",
        "Ydata.head()"
      ],
      "execution_count": 53,
      "outputs": [
        {
          "output_type": "execute_result",
          "data": {
            "text/html": [
              "<div>\n",
              "<style scoped>\n",
              "    .dataframe tbody tr th:only-of-type {\n",
              "        vertical-align: middle;\n",
              "    }\n",
              "\n",
              "    .dataframe tbody tr th {\n",
              "        vertical-align: top;\n",
              "    }\n",
              "\n",
              "    .dataframe thead th {\n",
              "        text-align: right;\n",
              "    }\n",
              "</style>\n",
              "<table border=\"1\" class=\"dataframe\">\n",
              "  <thead>\n",
              "    <tr style=\"text-align: right;\">\n",
              "      <th></th>\n",
              "      <th>001</th>\n",
              "      <th>一陽旅行社股份有限公司</th>\n",
              "      <th>官文清</th>\n",
              "      <th>官文清.1</th>\n",
              "      <th>董事長</th>\n",
              "      <th>03-3336699</th>\n",
              "      <th>03-3336679</th>\n",
              "      <th>桃園市桃園區復興路389號5樓之1</th>\n",
              "      <th>suntour.taoyuan@gmail.com</th>\n",
              "      <th>Unnamed: 9</th>\n",
              "    </tr>\n",
              "  </thead>\n",
              "  <tbody>\n",
              "    <tr>\n",
              "      <th>0</th>\n",
              "      <td>2</td>\n",
              "      <td>八德旅行社有限公司</td>\n",
              "      <td>游景樂</td>\n",
              "      <td>游象新</td>\n",
              "      <td>經理</td>\n",
              "      <td>03-3611445</td>\n",
              "      <td>03-3615153</td>\n",
              "      <td>桃園市八德區東勇北路168巷10弄6號</td>\n",
              "      <td>yupadetravel@hotmail.com</td>\n",
              "      <td>NaN</td>\n",
              "    </tr>\n",
              "    <tr>\n",
              "      <th>1</th>\n",
              "      <td>3</td>\n",
              "      <td>力泰旅行社股份有限公司</td>\n",
              "      <td>林秋烈</td>\n",
              "      <td>林秋烈</td>\n",
              "      <td>負責人</td>\n",
              "      <td>03-3258699</td>\n",
              "      <td>03-3556568</td>\n",
              "      <td>桃園市桃園區愛八街5號1樓</td>\n",
              "      <td>a5013156@gmail.com</td>\n",
              "      <td>NaN</td>\n",
              "    </tr>\n",
              "    <tr>\n",
              "      <th>2</th>\n",
              "      <td>4</td>\n",
              "      <td>卜鵬國際旅行社有限公司</td>\n",
              "      <td>邱贊因</td>\n",
              "      <td>邱贊因</td>\n",
              "      <td>總經理</td>\n",
              "      <td>03-3588383</td>\n",
              "      <td>03-3170002</td>\n",
              "      <td>桃園市桃園區中正路1003號2樓</td>\n",
              "      <td>cutepei0430@yahoo.com</td>\n",
              "      <td>NaN</td>\n",
              "    </tr>\n",
              "    <tr>\n",
              "      <th>3</th>\n",
              "      <td>5</td>\n",
              "      <td>三信旅行社有限公司</td>\n",
              "      <td>張金球</td>\n",
              "      <td>張金球</td>\n",
              "      <td>總經理</td>\n",
              "      <td>03-4258017</td>\n",
              "      <td>03-4222715</td>\n",
              "      <td>桃園市中壢區中光路49號</td>\n",
              "      <td>sanhsintour@gmail.com</td>\n",
              "      <td>NaN</td>\n",
              "    </tr>\n",
              "    <tr>\n",
              "      <th>4</th>\n",
              "      <td>6</td>\n",
              "      <td>千菘旅行社有限公司</td>\n",
              "      <td>林彩娥</td>\n",
              "      <td>林彩娥</td>\n",
              "      <td>總經理</td>\n",
              "      <td>03-3370527</td>\n",
              "      <td>03-3385164</td>\n",
              "      <td>桃園市桃園區中正路90-4號5樓</td>\n",
              "      <td>yehlinse@yahoo.com.tw</td>\n",
              "      <td>NaN</td>\n",
              "    </tr>\n",
              "  </tbody>\n",
              "</table>\n",
              "</div>"
            ],
            "text/plain": [
              "   001  一陽旅行社股份有限公司  ... suntour.taoyuan@gmail.com Unnamed: 9\n",
              "0    2    八德旅行社有限公司  ...  yupadetravel@hotmail.com        NaN\n",
              "1    3  力泰旅行社股份有限公司  ...        a5013156@gmail.com        NaN\n",
              "2    4  卜鵬國際旅行社有限公司  ...     cutepei0430@yahoo.com        NaN\n",
              "3    5    三信旅行社有限公司  ...     sanhsintour@gmail.com        NaN\n",
              "4    6    千菘旅行社有限公司  ...     yehlinse@yahoo.com.tw        NaN\n",
              "\n",
              "[5 rows x 10 columns]"
            ]
          },
          "metadata": {
            "tags": []
          },
          "execution_count": 53
        }
      ]
    }
  ]
}