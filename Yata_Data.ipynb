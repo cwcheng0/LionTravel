{
  "nbformat": 4,
  "nbformat_minor": 0,
  "metadata": {
    "colab": {
      "name": "Yata_Data.ipynb",
      "version": "0.3.2",
      "provenance": [],
      "collapsed_sections": []
    },
    "kernelspec": {
      "name": "python3",
      "display_name": "Python 3"
    }
  },
  "cells": [
    {
      "cell_type": "code",
      "metadata": {
        "id": "_ei3I_C-GYc1",
        "colab_type": "code",
        "colab": {}
      },
      "source": [
        "import pandas as pd\n",
        "import numpy as np\n",
        "from sklearn.model_selection import train_test_split\n",
        "from sklearn.ensemble import RandomForestClassifier\n",
        "from sklearn.metrics import confusion_matrix\n",
        "from sklearn.metrics import roc_curve\n",
        "from sklearn.metrics import mean_absolute_error as MAE\n",
        "import gc\n",
        "import matplotlib\n",
        "import matplotlib.pyplot as plt\n",
        "from IPython.display import display, HTML"
      ],
      "execution_count": 0,
      "outputs": []
    },
    {
      "cell_type": "code",
      "metadata": {
        "id": "n3SZeKhOGbqQ",
        "colab_type": "code",
        "outputId": "948dbaa3-e174-4669-81c0-be15e951f0ca",
        "colab": {
          "base_uri": "https://localhost:8080/",
          "height": 35
        }
      },
      "source": [
        "# Mount personal Google Drive; all data files are in personal Google Drive\n",
        "# account: My main account @ Gmail\n",
        "from google.colab import drive\n",
        "drive.mount('/content/gdrive')"
      ],
      "execution_count": 21,
      "outputs": [
        {
          "output_type": "stream",
          "text": [
            "Drive already mounted at /content/gdrive; to attempt to forcibly remount, call drive.mount(\"/content/gdrive\", force_remount=True).\n"
          ],
          "name": "stdout"
        }
      ]
    },
    {
      "cell_type": "code",
      "metadata": {
        "id": "jm0nvJ3tGkis",
        "colab_type": "code",
        "colab": {}
      },
      "source": [
        "# Use PDrive function\n",
        "!pip install -U -q PyDrive\n",
        "\n",
        "from pydrive.auth import GoogleAuth\n",
        "from pydrive.drive import GoogleDrive\n",
        "from google.colab import auth\n",
        "from oauth2client.client import GoogleCredentials\n",
        "\n",
        "# Authenticate and create the PyDrive client.\n",
        "auth.authenticate_user()\n",
        "gauth = GoogleAuth()\n",
        "gauth.credentials = GoogleCredentials.get_application_default()\n",
        "drive = GoogleDrive(gauth)"
      ],
      "execution_count": 0,
      "outputs": []
    },
    {
      "cell_type": "code",
      "metadata": {
        "id": "dxXNLtR-Goyb",
        "colab_type": "code",
        "outputId": "377365ac-a199-4d3f-bc17-c4bebeba56e3",
        "colab": {
          "base_uri": "https://localhost:8080/",
          "height": 175
        }
      },
      "source": [
        "# List files in root directory\n",
        "file_list = drive.ListFile({'q': \"'root' in parents and trashed=false\"}).GetList()\n",
        "for file1 in file_list:\n",
        "  print('title: %s, id: %s' % (file1['title'], file1['id']))"
      ],
      "execution_count": 23,
      "outputs": [
        {
          "output_type": "stream",
          "text": [
            "title:  對外說明簡報 , id: 1La_gNgrhH0HezUJGkobo1w3dXWAc3fRt\n",
            "title: 說明會報名相關 , id: 1ZcD1tIxfiAELy7ZLERT6bFOU7i_Ts6r2\n",
            "title: 23.csv, id: 1JKzKvSw9Ym8iJUzl_JEPuRq-N-PsH1Zx\n",
            "title: https://www.goeugo.com, id: 17JhDtBrBDmyi-QUM35jM5TXoJ6_XdTbN\n",
            "title: Colab Notebooks, id: 1kXGE13cjX-yz2222w9qTUyQMGPysUgn_\n",
            "title: 照片集, id: 10c5xL8LrPRdsKAi_8Xaa4K1t29paSGCj\n",
            "title: 小包團需求_空白表格_2019.docx, id: 1Ft1au82vSv8YO8JY5-olEOh1BDT-dpAk\n",
            "title: 2019歐來歐去循環團.pdf, id: 1mqgf_JBjyXExI5tVKFp55gHGdq7KE_QK\n",
            "title: 歐洲報價訊息一手取得_20190612.jpg, id: 1fE4e7mlNp78FtbXVSuZuz8Kb5JrL7Otl\n"
          ],
          "name": "stdout"
        }
      ]
    },
    {
      "cell_type": "code",
      "metadata": {
        "id": "nCdCKQvRGrAT",
        "colab_type": "code",
        "outputId": "ada99bca-ce88-4e05-bcd6-fd8508dfdd45",
        "colab": {
          "base_uri": "https://localhost:8080/",
          "height": 206
        }
      },
      "source": [
        "# Check first 5 rows in the targeted file.\n",
        "Ydata = pd.read_csv('/content/gdrive/My Drive/23.csv', header=None, names=['Company Name', 'Person1', 'Person2', 'Title', 'Tel', 'Fax', 'Address', 'Email', 'Other'])\n",
        "Ydata.head()"
      ],
      "execution_count": 24,
      "outputs": [
        {
          "output_type": "execute_result",
          "data": {
            "text/html": [
              "<div>\n",
              "<style scoped>\n",
              "    .dataframe tbody tr th:only-of-type {\n",
              "        vertical-align: middle;\n",
              "    }\n",
              "\n",
              "    .dataframe tbody tr th {\n",
              "        vertical-align: top;\n",
              "    }\n",
              "\n",
              "    .dataframe thead th {\n",
              "        text-align: right;\n",
              "    }\n",
              "</style>\n",
              "<table border=\"1\" class=\"dataframe\">\n",
              "  <thead>\n",
              "    <tr style=\"text-align: right;\">\n",
              "      <th></th>\n",
              "      <th>Company Name</th>\n",
              "      <th>Person1</th>\n",
              "      <th>Person2</th>\n",
              "      <th>Title</th>\n",
              "      <th>Tel</th>\n",
              "      <th>Fax</th>\n",
              "      <th>Address</th>\n",
              "      <th>Email</th>\n",
              "      <th>Other</th>\n",
              "    </tr>\n",
              "  </thead>\n",
              "  <tbody>\n",
              "    <tr>\n",
              "      <th>1</th>\n",
              "      <td>一陽旅行社股份有限公司</td>\n",
              "      <td>官文清</td>\n",
              "      <td>官文清</td>\n",
              "      <td>董事長</td>\n",
              "      <td>03-3336699</td>\n",
              "      <td>03-3336679</td>\n",
              "      <td>桃園市桃園區復興路389號5樓之1</td>\n",
              "      <td>suntour.taoyuan@gmail.com</td>\n",
              "      <td>NaN</td>\n",
              "    </tr>\n",
              "    <tr>\n",
              "      <th>2</th>\n",
              "      <td>八德旅行社有限公司</td>\n",
              "      <td>游景樂</td>\n",
              "      <td>游象新</td>\n",
              "      <td>經理</td>\n",
              "      <td>03-3611445</td>\n",
              "      <td>03-3615153</td>\n",
              "      <td>桃園市八德區東勇北路168巷10弄6號</td>\n",
              "      <td>yupadetravel@hotmail.com</td>\n",
              "      <td>NaN</td>\n",
              "    </tr>\n",
              "    <tr>\n",
              "      <th>3</th>\n",
              "      <td>力泰旅行社股份有限公司</td>\n",
              "      <td>林秋烈</td>\n",
              "      <td>林秋烈</td>\n",
              "      <td>負責人</td>\n",
              "      <td>03-3258699</td>\n",
              "      <td>03-3556568</td>\n",
              "      <td>桃園市桃園區愛八街5號1樓</td>\n",
              "      <td>a5013156@gmail.com</td>\n",
              "      <td>NaN</td>\n",
              "    </tr>\n",
              "    <tr>\n",
              "      <th>4</th>\n",
              "      <td>卜鵬國際旅行社有限公司</td>\n",
              "      <td>邱贊因</td>\n",
              "      <td>邱贊因</td>\n",
              "      <td>總經理</td>\n",
              "      <td>03-3588383</td>\n",
              "      <td>03-3170002</td>\n",
              "      <td>桃園市桃園區中正路1003號2樓</td>\n",
              "      <td>cutepei0430@yahoo.com</td>\n",
              "      <td>NaN</td>\n",
              "    </tr>\n",
              "    <tr>\n",
              "      <th>5</th>\n",
              "      <td>三信旅行社有限公司</td>\n",
              "      <td>張金球</td>\n",
              "      <td>張金球</td>\n",
              "      <td>總經理</td>\n",
              "      <td>03-4258017</td>\n",
              "      <td>03-4222715</td>\n",
              "      <td>桃園市中壢區中光路49號</td>\n",
              "      <td>sanhsintour@gmail.com</td>\n",
              "      <td>NaN</td>\n",
              "    </tr>\n",
              "  </tbody>\n",
              "</table>\n",
              "</div>"
            ],
            "text/plain": [
              "  Company Name Person1  ...                      Email Other\n",
              "1  一陽旅行社股份有限公司     官文清  ...  suntour.taoyuan@gmail.com   NaN\n",
              "2    八德旅行社有限公司     游景樂  ...   yupadetravel@hotmail.com   NaN\n",
              "3  力泰旅行社股份有限公司     林秋烈  ...         a5013156@gmail.com   NaN\n",
              "4  卜鵬國際旅行社有限公司     邱贊因  ...      cutepei0430@yahoo.com   NaN\n",
              "5    三信旅行社有限公司     張金球  ...      sanhsintour@gmail.com   NaN\n",
              "\n",
              "[5 rows x 9 columns]"
            ]
          },
          "metadata": {
            "tags": []
          },
          "execution_count": 24
        }
      ]
    },
    {
      "cell_type": "code",
      "metadata": {
        "id": "SpVncsCQh_qE",
        "colab_type": "code",
        "colab": {
          "base_uri": "https://localhost:8080/",
          "height": 206
        },
        "outputId": "41ffaa5e-b101-4cc1-fdc1-5f945e8b2015"
      },
      "source": [
        "# Drop laast column\n",
        "Ydata.drop(Ydata.columns[[8]], axis=1, inplace=True)\n",
        "Ydata.head()"
      ],
      "execution_count": 25,
      "outputs": [
        {
          "output_type": "execute_result",
          "data": {
            "text/html": [
              "<div>\n",
              "<style scoped>\n",
              "    .dataframe tbody tr th:only-of-type {\n",
              "        vertical-align: middle;\n",
              "    }\n",
              "\n",
              "    .dataframe tbody tr th {\n",
              "        vertical-align: top;\n",
              "    }\n",
              "\n",
              "    .dataframe thead th {\n",
              "        text-align: right;\n",
              "    }\n",
              "</style>\n",
              "<table border=\"1\" class=\"dataframe\">\n",
              "  <thead>\n",
              "    <tr style=\"text-align: right;\">\n",
              "      <th></th>\n",
              "      <th>Company Name</th>\n",
              "      <th>Person1</th>\n",
              "      <th>Person2</th>\n",
              "      <th>Title</th>\n",
              "      <th>Tel</th>\n",
              "      <th>Fax</th>\n",
              "      <th>Address</th>\n",
              "      <th>Email</th>\n",
              "    </tr>\n",
              "  </thead>\n",
              "  <tbody>\n",
              "    <tr>\n",
              "      <th>1</th>\n",
              "      <td>一陽旅行社股份有限公司</td>\n",
              "      <td>官文清</td>\n",
              "      <td>官文清</td>\n",
              "      <td>董事長</td>\n",
              "      <td>03-3336699</td>\n",
              "      <td>03-3336679</td>\n",
              "      <td>桃園市桃園區復興路389號5樓之1</td>\n",
              "      <td>suntour.taoyuan@gmail.com</td>\n",
              "    </tr>\n",
              "    <tr>\n",
              "      <th>2</th>\n",
              "      <td>八德旅行社有限公司</td>\n",
              "      <td>游景樂</td>\n",
              "      <td>游象新</td>\n",
              "      <td>經理</td>\n",
              "      <td>03-3611445</td>\n",
              "      <td>03-3615153</td>\n",
              "      <td>桃園市八德區東勇北路168巷10弄6號</td>\n",
              "      <td>yupadetravel@hotmail.com</td>\n",
              "    </tr>\n",
              "    <tr>\n",
              "      <th>3</th>\n",
              "      <td>力泰旅行社股份有限公司</td>\n",
              "      <td>林秋烈</td>\n",
              "      <td>林秋烈</td>\n",
              "      <td>負責人</td>\n",
              "      <td>03-3258699</td>\n",
              "      <td>03-3556568</td>\n",
              "      <td>桃園市桃園區愛八街5號1樓</td>\n",
              "      <td>a5013156@gmail.com</td>\n",
              "    </tr>\n",
              "    <tr>\n",
              "      <th>4</th>\n",
              "      <td>卜鵬國際旅行社有限公司</td>\n",
              "      <td>邱贊因</td>\n",
              "      <td>邱贊因</td>\n",
              "      <td>總經理</td>\n",
              "      <td>03-3588383</td>\n",
              "      <td>03-3170002</td>\n",
              "      <td>桃園市桃園區中正路1003號2樓</td>\n",
              "      <td>cutepei0430@yahoo.com</td>\n",
              "    </tr>\n",
              "    <tr>\n",
              "      <th>5</th>\n",
              "      <td>三信旅行社有限公司</td>\n",
              "      <td>張金球</td>\n",
              "      <td>張金球</td>\n",
              "      <td>總經理</td>\n",
              "      <td>03-4258017</td>\n",
              "      <td>03-4222715</td>\n",
              "      <td>桃園市中壢區中光路49號</td>\n",
              "      <td>sanhsintour@gmail.com</td>\n",
              "    </tr>\n",
              "  </tbody>\n",
              "</table>\n",
              "</div>"
            ],
            "text/plain": [
              "  Company Name Person1  ...              Address                      Email\n",
              "1  一陽旅行社股份有限公司     官文清  ...    桃園市桃園區復興路389號5樓之1  suntour.taoyuan@gmail.com\n",
              "2    八德旅行社有限公司     游景樂  ...  桃園市八德區東勇北路168巷10弄6號   yupadetravel@hotmail.com\n",
              "3  力泰旅行社股份有限公司     林秋烈  ...        桃園市桃園區愛八街5號1樓         a5013156@gmail.com\n",
              "4  卜鵬國際旅行社有限公司     邱贊因  ...     桃園市桃園區中正路1003號2樓      cutepei0430@yahoo.com\n",
              "5    三信旅行社有限公司     張金球  ...         桃園市中壢區中光路49號      sanhsintour@gmail.com\n",
              "\n",
              "[5 rows x 8 columns]"
            ]
          },
          "metadata": {
            "tags": []
          },
          "execution_count": 25
        }
      ]
    },
    {
      "cell_type": "code",
      "metadata": {
        "id": "1xfDI3Jqklx_",
        "colab_type": "code",
        "colab": {}
      },
      "source": [
        "#　Ｏutput to a csv file.\n",
        "Ydata.to_csv(\"/content/gdrive/My Drive/Colab Notebooks/Ydata.csv\")"
      ],
      "execution_count": 0,
      "outputs": []
    }
  ]
}