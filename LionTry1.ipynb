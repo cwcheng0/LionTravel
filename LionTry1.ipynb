{
  "nbformat": 4,
  "nbformat_minor": 0,
  "metadata": {
    "colab": {
      "name": "LionTry1.ipynb",
      "version": "0.3.2",
      "provenance": [],
      "include_colab_link": true
    },
    "kernelspec": {
      "name": "python3",
      "display_name": "Python 3"
    }
  },
  "cells": [
    {
      "cell_type": "markdown",
      "metadata": {
        "id": "view-in-github",
        "colab_type": "text"
      },
      "source": [
        "<a href=\"https://colab.research.google.com/github/cwcheng0/LionTravel/blob/master/LionTry1.ipynb\" target=\"_parent\"><img src=\"https://colab.research.google.com/assets/colab-badge.svg\" alt=\"Open In Colab\"/></a>"
      ]
    },
    {
      "metadata": {
        "id": "2YBo20dXtWmf",
        "colab_type": "code",
        "colab": {}
      },
      "cell_type": "code",
      "source": [
        "# 旅遊訂單成行預測\n",
        "# Source https://tbrain.trendmicro.com.tw/Competitions/Details/4\n",
        "# Filename: Lion Travel Try1\n",
        "# Load basic libraries\n",
        "# Reference Kaggle競賽-鐵達尼號生存預測 https://bit.ly/2EJubnu\n",
        "import pandas as pd\n",
        "import numpy as np\n",
        "from sklearn.model_selection import train_test_split\n",
        "from sklearn.ensemble import RandomForestClassifier\n",
        "from sklearn.metrics import confusion_matrix\n",
        "from sklearn.metrics import roc_curve\n",
        "from sklearn.metrics import mean_absolute_error as MAE\n",
        "import gc\n",
        "import matplotlib\n",
        "import matplotlib.pyplot as plt\n",
        "from IPython.display import display, HTML"
      ],
      "execution_count": 0,
      "outputs": []
    },
    {
      "metadata": {
        "id": "jsHWedtFtayH",
        "colab_type": "code",
        "outputId": "a3f98731-c261-4505-efb7-20aee3ac69d9",
        "colab": {
          "base_uri": "https://localhost:8080/",
          "height": 121
        }
      },
      "cell_type": "code",
      "source": [
        "# Mount personal Google Drive; all data files are in personal Google Drive\n",
        "# account: My main account @ Gmail\n",
        "from google.colab import drive\n",
        "drive.mount('/content/gdrive')"
      ],
      "execution_count": 2,
      "outputs": [
        {
          "output_type": "stream",
          "text": [
            "Go to this URL in a browser: https://accounts.google.com/o/oauth2/auth?client_id=947318989803-6bn6qk8qdgf4n4g3pfee6491hc0brc4i.apps.googleusercontent.com&redirect_uri=urn%3Aietf%3Awg%3Aoauth%3A2.0%3Aoob&scope=email%20https%3A%2F%2Fwww.googleapis.com%2Fauth%2Fdocs.test%20https%3A%2F%2Fwww.googleapis.com%2Fauth%2Fdrive%20https%3A%2F%2Fwww.googleapis.com%2Fauth%2Fdrive.photos.readonly%20https%3A%2F%2Fwww.googleapis.com%2Fauth%2Fpeopleapi.readonly&response_type=code\n",
            "\n",
            "Enter your authorization code:\n",
            "··········\n",
            "Mounted at /content/gdrive\n"
          ],
          "name": "stdout"
        }
      ]
    },
    {
      "metadata": {
        "id": "Ly2Q-QgGteJQ",
        "colab_type": "code",
        "outputId": "b161a326-ce27-4e63-e5c4-19cda43e9cd8",
        "colab": {
          "base_uri": "https://localhost:8080/",
          "height": 34
        }
      },
      "cell_type": "code",
      "source": [
        "# Create a file to see if it works\n",
        "with open('/content/gdrive/My Drive/LionData/foo.txt', 'w') as f:\n",
        "  f.write('Hello Google Drive!')\n",
        "!cat /content/gdrive/My\\ Drive/LionData/foo.txt"
      ],
      "execution_count": 3,
      "outputs": [
        {
          "output_type": "stream",
          "text": [
            "Hello Google Drive!"
          ],
          "name": "stdout"
        }
      ]
    },
    {
      "metadata": {
        "id": "XqfarUTZ0p2G",
        "colab_type": "code",
        "colab": {}
      },
      "cell_type": "code",
      "source": [
        "# Use PDrive function\n",
        "!pip install -U -q PyDrive\n",
        "\n",
        "from pydrive.auth import GoogleAuth\n",
        "from pydrive.drive import GoogleDrive\n",
        "from google.colab import auth\n",
        "from oauth2client.client import GoogleCredentials\n",
        "\n",
        "# Authenticate and create the PyDrive client.\n",
        "auth.authenticate_user()\n",
        "gauth = GoogleAuth()\n",
        "gauth.credentials = GoogleCredentials.get_application_default()\n",
        "drive = GoogleDrive(gauth)"
      ],
      "execution_count": 0,
      "outputs": []
    },
    {
      "metadata": {
        "id": "Wt642l0qv_Xm",
        "colab_type": "code",
        "outputId": "d21802cd-d1c7-4e6b-ff74-a6ec6d369e16",
        "colab": {
          "base_uri": "https://localhost:8080/",
          "height": 269
        }
      },
      "cell_type": "code",
      "source": [
        "# List files in root directory\n",
        "file_list = drive.ListFile({'q': \"'root' in parents and trashed=false\"}).GetList()\n",
        "for file1 in file_list:\n",
        "  print('title: %s, id: %s' % (file1['title'], file1['id']))"
      ],
      "execution_count": 5,
      "outputs": [
        {
          "output_type": "stream",
          "text": [
            "title: LionData, id: 1wZoi3A5fUjpmu3y_cCdqsBEbXktRh1_l\n",
            "title: 湯桂禎旅行社_20181019, id: 14ntE30_-iR-qc0P4pk31vkaO8OOcjCRGrEh5CxYtj5M\n",
            "title: FINAL Brisbane Tourism Investment Guide, id: 1JdYmuHT19TZyV-uaizPK6PGopPQWu8xC\n",
            "title: 詹宏志：論補貼與蝦皮之役_20180607, id: 1PySk7v0bswrM4-Lo1U8RFT7GcdepmDjeS2eEpfOY9nI\n",
            "title: 創業家兄弟法說會_20180801.pdf, id: 14JhXbgTj-5QE9K4ac_pPlIPJ2iwUo4FK\n",
            "title: submit-sample.json, id: 1s6CjebwO3s9Y3K6vrZhEC3UsaptWdXJD\n",
            "title: 德國合作的药店_201805, id: 1doG5yuzIv6TCW8ENcBsA6P77yGqTxpp09ft9DuYCCaE\n",
            "title: et_20180427.tar, id: 1ydPjPjjZihKBPKM3rLblDHQCvzTo1z-l\n",
            "title: 東森-新客成交預測與舊客商品偏好預測_20180426.pdf, id: 1VLLGTPHvllOoTTiq45f8DGNp4E_WenAD\n",
            "title: ai, id: 1kRULtH-0zQDSu5aL0JGNZEankknAWgpV\n",
            "title: personal, id: 1aWTpM3zv5nf1ehe0fElvIMgL0nnjib27\n",
            "title: bnbdata, id: 1N4KtGq1bwK122mkUS5hGyAkdJmkIbjo7\n",
            "title: Colab Notebooks, id: 1SRIet5D_ShcqHVEsM2uLcwSg78TVmRlx\n",
            "title: HelloFax, id: 0B0PbabVyLQgSV3ZPT1o4ZVdtakU\n",
            "title: Picture, id: 0B0PbabVyLQgSbnJOQktZX3ViNUU\n"
          ],
          "name": "stdout"
        }
      ]
    },
    {
      "metadata": {
        "id": "vJJ79Ofrw9c8",
        "colab_type": "code",
        "outputId": "0d6685b5-65f9-412c-e361-84181b307e5d",
        "colab": {
          "base_uri": "https://localhost:8080/",
          "height": 195
        }
      },
      "cell_type": "code",
      "source": [
        "# Check first 5 rows in the airline file\n",
        "airline = pd.read_csv('/content/gdrive/My Drive/LionData/airline.csv')\n",
        "airline.head()"
      ],
      "execution_count": 24,
      "outputs": [
        {
          "output_type": "execute_result",
          "data": {
            "text/html": [
              "<div>\n",
              "<style scoped>\n",
              "    .dataframe tbody tr th:only-of-type {\n",
              "        vertical-align: middle;\n",
              "    }\n",
              "\n",
              "    .dataframe tbody tr th {\n",
              "        vertical-align: top;\n",
              "    }\n",
              "\n",
              "    .dataframe thead th {\n",
              "        text-align: right;\n",
              "    }\n",
              "</style>\n",
              "<table border=\"1\" class=\"dataframe\">\n",
              "  <thead>\n",
              "    <tr style=\"text-align: right;\">\n",
              "      <th></th>\n",
              "      <th>group_id</th>\n",
              "      <th>go_back</th>\n",
              "      <th>fly_time</th>\n",
              "      <th>src_airport</th>\n",
              "      <th>arrive_time</th>\n",
              "      <th>dst_airport</th>\n",
              "    </tr>\n",
              "  </thead>\n",
              "  <tbody>\n",
              "    <tr>\n",
              "      <th>0</th>\n",
              "      <td>63695</td>\n",
              "      <td>去程</td>\n",
              "      <td>2017/3/22 23:30</td>\n",
              "      <td>TPE 桃園機場</td>\n",
              "      <td>2017/3/22 14:15</td>\n",
              "      <td>HNL 檀香山機場</td>\n",
              "    </tr>\n",
              "    <tr>\n",
              "      <th>1</th>\n",
              "      <td>63695</td>\n",
              "      <td>回程</td>\n",
              "      <td>2017/4/1 14:30</td>\n",
              "      <td>LAX 洛杉機機場</td>\n",
              "      <td>2017/4/2 21:00</td>\n",
              "      <td>TPE 桃園機場</td>\n",
              "    </tr>\n",
              "    <tr>\n",
              "      <th>2</th>\n",
              "      <td>53481</td>\n",
              "      <td>去程</td>\n",
              "      <td>2017/5/17 23:00</td>\n",
              "      <td>TPE 桃園機場</td>\n",
              "      <td>2017/5/17 14:45</td>\n",
              "      <td>HNL 檀香山機場</td>\n",
              "    </tr>\n",
              "    <tr>\n",
              "      <th>3</th>\n",
              "      <td>53481</td>\n",
              "      <td>回程</td>\n",
              "      <td>2017/5/27 16:00</td>\n",
              "      <td>LAX 洛杉機機場</td>\n",
              "      <td>2017/5/28 21:05</td>\n",
              "      <td>TPE 桃園機場</td>\n",
              "    </tr>\n",
              "    <tr>\n",
              "      <th>4</th>\n",
              "      <td>54305</td>\n",
              "      <td>去程</td>\n",
              "      <td>2017/6/21 23:30</td>\n",
              "      <td>TPE 桃園機場</td>\n",
              "      <td>2017/6/21 14:15</td>\n",
              "      <td>HNL 檀香山機場</td>\n",
              "    </tr>\n",
              "  </tbody>\n",
              "</table>\n",
              "</div>"
            ],
            "text/plain": [
              "   group_id go_back         fly_time src_airport      arrive_time dst_airport\n",
              "0     63695      去程  2017/3/22 23:30    TPE 桃園機場  2017/3/22 14:15   HNL 檀香山機場\n",
              "1     63695      回程   2017/4/1 14:30   LAX 洛杉機機場   2017/4/2 21:00    TPE 桃園機場\n",
              "2     53481      去程  2017/5/17 23:00    TPE 桃園機場  2017/5/17 14:45   HNL 檀香山機場\n",
              "3     53481      回程  2017/5/27 16:00   LAX 洛杉機機場  2017/5/28 21:05    TPE 桃園機場\n",
              "4     54305      去程  2017/6/21 23:30    TPE 桃園機場  2017/6/21 14:15   HNL 檀香山機場"
            ]
          },
          "metadata": {
            "tags": []
          },
          "execution_count": 24
        }
      ]
    },
    {
      "metadata": {
        "id": "JWL-vsVeoTRc",
        "colab_type": "code",
        "colab": {
          "base_uri": "https://localhost:8080/",
          "height": 284
        },
        "outputId": "0475a716-2860-4206-c2df-177839bcdb54"
      },
      "cell_type": "code",
      "source": [
        "# Check the data in describe\n",
        "airline.describe()"
      ],
      "execution_count": 25,
      "outputs": [
        {
          "output_type": "execute_result",
          "data": {
            "text/html": [
              "<div>\n",
              "<style scoped>\n",
              "    .dataframe tbody tr th:only-of-type {\n",
              "        vertical-align: middle;\n",
              "    }\n",
              "\n",
              "    .dataframe tbody tr th {\n",
              "        vertical-align: top;\n",
              "    }\n",
              "\n",
              "    .dataframe thead th {\n",
              "        text-align: right;\n",
              "    }\n",
              "</style>\n",
              "<table border=\"1\" class=\"dataframe\">\n",
              "  <thead>\n",
              "    <tr style=\"text-align: right;\">\n",
              "      <th></th>\n",
              "      <th>group_id</th>\n",
              "    </tr>\n",
              "  </thead>\n",
              "  <tbody>\n",
              "    <tr>\n",
              "      <th>count</th>\n",
              "      <td>74659.000000</td>\n",
              "    </tr>\n",
              "    <tr>\n",
              "      <th>mean</th>\n",
              "      <td>34267.785130</td>\n",
              "    </tr>\n",
              "    <tr>\n",
              "      <th>std</th>\n",
              "      <td>19835.756501</td>\n",
              "    </tr>\n",
              "    <tr>\n",
              "      <th>min</th>\n",
              "      <td>2.000000</td>\n",
              "    </tr>\n",
              "    <tr>\n",
              "      <th>25%</th>\n",
              "      <td>17203.000000</td>\n",
              "    </tr>\n",
              "    <tr>\n",
              "      <th>50%</th>\n",
              "      <td>34253.000000</td>\n",
              "    </tr>\n",
              "    <tr>\n",
              "      <th>75%</th>\n",
              "      <td>51432.000000</td>\n",
              "    </tr>\n",
              "    <tr>\n",
              "      <th>max</th>\n",
              "      <td>68572.000000</td>\n",
              "    </tr>\n",
              "  </tbody>\n",
              "</table>\n",
              "</div>"
            ],
            "text/plain": [
              "           group_id\n",
              "count  74659.000000\n",
              "mean   34267.785130\n",
              "std    19835.756501\n",
              "min        2.000000\n",
              "25%    17203.000000\n",
              "50%    34253.000000\n",
              "75%    51432.000000\n",
              "max    68572.000000"
            ]
          },
          "metadata": {
            "tags": []
          },
          "execution_count": 25
        }
      ]
    },
    {
      "metadata": {
        "id": "cQX4FQ_i4NR5",
        "colab_type": "code",
        "outputId": "6b82c8b7-b613-47ea-96d2-37b97476acaf",
        "colab": {
          "base_uri": "https://localhost:8080/",
          "height": 279
        }
      },
      "cell_type": "code",
      "source": [
        "# Check first 5 rows in the group file\n",
        "group = pd.read_csv('/content/gdrive/My Drive/LionData/group.csv')\n",
        "group.head()"
      ],
      "execution_count": 7,
      "outputs": [
        {
          "output_type": "execute_result",
          "data": {
            "text/html": [
              "<div>\n",
              "<style scoped>\n",
              "    .dataframe tbody tr th:only-of-type {\n",
              "        vertical-align: middle;\n",
              "    }\n",
              "\n",
              "    .dataframe tbody tr th {\n",
              "        vertical-align: top;\n",
              "    }\n",
              "\n",
              "    .dataframe thead th {\n",
              "        text-align: right;\n",
              "    }\n",
              "</style>\n",
              "<table border=\"1\" class=\"dataframe\">\n",
              "  <thead>\n",
              "    <tr style=\"text-align: right;\">\n",
              "      <th></th>\n",
              "      <th>group_id</th>\n",
              "      <th>sub_line</th>\n",
              "      <th>area</th>\n",
              "      <th>days</th>\n",
              "      <th>begin_date</th>\n",
              "      <th>price</th>\n",
              "      <th>product_name</th>\n",
              "      <th>promotion_prog</th>\n",
              "    </tr>\n",
              "  </thead>\n",
              "  <tbody>\n",
              "    <tr>\n",
              "      <th>0</th>\n",
              "      <td>63695</td>\n",
              "      <td>subline_value_1</td>\n",
              "      <td>area_value_1</td>\n",
              "      <td>12</td>\n",
              "      <td>22-Mar-17</td>\n",
              "      <td>106900</td>\n",
              "      <td>最高省8000》大美西～夏威夷、優勝美地、西峽天空步道、聖地牙哥、環球影城(哈利波特)12日</td>\n",
              "      <td>&amp;lt;B&amp;gt;[GG]《行銷活動》[//]&amp;lt;/B&amp;gt;&amp;lt;font face...</td>\n",
              "    </tr>\n",
              "    <tr>\n",
              "      <th>1</th>\n",
              "      <td>53481</td>\n",
              "      <td>subline_value_1</td>\n",
              "      <td>area_value_1</td>\n",
              "      <td>12</td>\n",
              "      <td>17-May-17</td>\n",
              "      <td>112900</td>\n",
              "      <td>《玩樂369》旗艦大美西12日～升等五星、優勝美地、西峽天空步道、卡利哥鬼鎮、環球影城大美西12日</td>\n",
              "      <td>&amp;lt;B&amp;gt;[GG]《行銷活動》[//]&amp;lt;/B&amp;gt;&amp;lt;font face...</td>\n",
              "    </tr>\n",
              "    <tr>\n",
              "      <th>2</th>\n",
              "      <td>54305</td>\n",
              "      <td>subline_value_1</td>\n",
              "      <td>area_value_1</td>\n",
              "      <td>12</td>\n",
              "      <td>21-Jun-17</td>\n",
              "      <td>115900</td>\n",
              "      <td>《玩樂369》旗艦大美西12日～升等五星、優勝美地、西峽天空步道、卡利哥鬼鎮、環球影城大美西12日</td>\n",
              "      <td>&amp;lt;B&amp;gt;[GG]《行銷活動》[//]&amp;lt;/B&amp;gt;&amp;lt;font face...</td>\n",
              "    </tr>\n",
              "    <tr>\n",
              "      <th>3</th>\n",
              "      <td>41766</td>\n",
              "      <td>subline_value_1</td>\n",
              "      <td>area_value_1</td>\n",
              "      <td>12</td>\n",
              "      <td>12-Jul-17</td>\n",
              "      <td>126900</td>\n",
              "      <td>《玩樂369》旗艦大美西12日～升等五星、優勝美地、西峽天空步道、卡利哥鬼鎮、環球影城大美西12日</td>\n",
              "      <td>&amp;lt;B&amp;gt;[GG]《行銷活動》[//]&amp;lt;/B&amp;gt;&amp;lt;font face...</td>\n",
              "    </tr>\n",
              "    <tr>\n",
              "      <th>4</th>\n",
              "      <td>32196</td>\n",
              "      <td>subline_value_1</td>\n",
              "      <td>area_value_1</td>\n",
              "      <td>12</td>\n",
              "      <td>9-Aug-17</td>\n",
              "      <td>126900</td>\n",
              "      <td>《玩樂369》旗艦大美西12日～升等五星、優勝美地、西峽天空步道、卡利哥鬼鎮、環球影城大美西12日</td>\n",
              "      <td>&amp;lt;B&amp;gt;[GG]《行銷活動》[//]&amp;lt;/B&amp;gt;&amp;lt;font face...</td>\n",
              "    </tr>\n",
              "  </tbody>\n",
              "</table>\n",
              "</div>"
            ],
            "text/plain": [
              "   group_id         sub_line          area  days begin_date   price  \\\n",
              "0     63695  subline_value_1  area_value_1    12  22-Mar-17  106900   \n",
              "1     53481  subline_value_1  area_value_1    12  17-May-17  112900   \n",
              "2     54305  subline_value_1  area_value_1    12  21-Jun-17  115900   \n",
              "3     41766  subline_value_1  area_value_1    12  12-Jul-17  126900   \n",
              "4     32196  subline_value_1  area_value_1    12   9-Aug-17  126900   \n",
              "\n",
              "                                        product_name  \\\n",
              "0     最高省8000》大美西～夏威夷、優勝美地、西峽天空步道、聖地牙哥、環球影城(哈利波特)12日   \n",
              "1  《玩樂369》旗艦大美西12日～升等五星、優勝美地、西峽天空步道、卡利哥鬼鎮、環球影城大美西12日   \n",
              "2  《玩樂369》旗艦大美西12日～升等五星、優勝美地、西峽天空步道、卡利哥鬼鎮、環球影城大美西12日   \n",
              "3  《玩樂369》旗艦大美西12日～升等五星、優勝美地、西峽天空步道、卡利哥鬼鎮、環球影城大美西12日   \n",
              "4  《玩樂369》旗艦大美西12日～升等五星、優勝美地、西峽天空步道、卡利哥鬼鎮、環球影城大美西12日   \n",
              "\n",
              "                                      promotion_prog  \n",
              "0  &lt;B&gt;[GG]《行銷活動》[//]&lt;/B&gt;&lt;font face...  \n",
              "1  &lt;B&gt;[GG]《行銷活動》[//]&lt;/B&gt;&lt;font face...  \n",
              "2  &lt;B&gt;[GG]《行銷活動》[//]&lt;/B&gt;&lt;font face...  \n",
              "3  &lt;B&gt;[GG]《行銷活動》[//]&lt;/B&gt;&lt;font face...  \n",
              "4  &lt;B&gt;[GG]《行銷活動》[//]&lt;/B&gt;&lt;font face...  "
            ]
          },
          "metadata": {
            "tags": []
          },
          "execution_count": 7
        }
      ]
    },
    {
      "metadata": {
        "colab_type": "code",
        "outputId": "665ca133-b80e-40f3-e715-e71600e93ba7",
        "id": "OalO6-67o2tH",
        "colab": {
          "base_uri": "https://localhost:8080/",
          "height": 284
        }
      },
      "cell_type": "code",
      "source": [
        "# Check the data in describe\n",
        "group.describe()"
      ],
      "execution_count": 26,
      "outputs": [
        {
          "output_type": "execute_result",
          "data": {
            "text/html": [
              "<div>\n",
              "<style scoped>\n",
              "    .dataframe tbody tr th:only-of-type {\n",
              "        vertical-align: middle;\n",
              "    }\n",
              "\n",
              "    .dataframe tbody tr th {\n",
              "        vertical-align: top;\n",
              "    }\n",
              "\n",
              "    .dataframe thead th {\n",
              "        text-align: right;\n",
              "    }\n",
              "</style>\n",
              "<table border=\"1\" class=\"dataframe\">\n",
              "  <thead>\n",
              "    <tr style=\"text-align: right;\">\n",
              "      <th></th>\n",
              "      <th>group_id</th>\n",
              "      <th>days</th>\n",
              "      <th>price</th>\n",
              "    </tr>\n",
              "  </thead>\n",
              "  <tbody>\n",
              "    <tr>\n",
              "      <th>count</th>\n",
              "      <td>35292.000000</td>\n",
              "      <td>35292.000000</td>\n",
              "      <td>35292.000000</td>\n",
              "    </tr>\n",
              "    <tr>\n",
              "      <th>mean</th>\n",
              "      <td>34264.717075</td>\n",
              "      <td>6.189561</td>\n",
              "      <td>34508.904143</td>\n",
              "    </tr>\n",
              "    <tr>\n",
              "      <th>std</th>\n",
              "      <td>19833.398105</td>\n",
              "      <td>2.009243</td>\n",
              "      <td>20081.610913</td>\n",
              "    </tr>\n",
              "    <tr>\n",
              "      <th>min</th>\n",
              "      <td>2.000000</td>\n",
              "      <td>2.000000</td>\n",
              "      <td>3000.000000</td>\n",
              "    </tr>\n",
              "    <tr>\n",
              "      <th>25%</th>\n",
              "      <td>17199.750000</td>\n",
              "      <td>5.000000</td>\n",
              "      <td>20900.000000</td>\n",
              "    </tr>\n",
              "    <tr>\n",
              "      <th>50%</th>\n",
              "      <td>34264.500000</td>\n",
              "      <td>5.000000</td>\n",
              "      <td>29900.000000</td>\n",
              "    </tr>\n",
              "    <tr>\n",
              "      <th>75%</th>\n",
              "      <td>51403.750000</td>\n",
              "      <td>8.000000</td>\n",
              "      <td>38900.000000</td>\n",
              "    </tr>\n",
              "    <tr>\n",
              "      <th>max</th>\n",
              "      <td>68572.000000</td>\n",
              "      <td>17.000000</td>\n",
              "      <td>222900.000000</td>\n",
              "    </tr>\n",
              "  </tbody>\n",
              "</table>\n",
              "</div>"
            ],
            "text/plain": [
              "           group_id          days          price\n",
              "count  35292.000000  35292.000000   35292.000000\n",
              "mean   34264.717075      6.189561   34508.904143\n",
              "std    19833.398105      2.009243   20081.610913\n",
              "min        2.000000      2.000000    3000.000000\n",
              "25%    17199.750000      5.000000   20900.000000\n",
              "50%    34264.500000      5.000000   29900.000000\n",
              "75%    51403.750000      8.000000   38900.000000\n",
              "max    68572.000000     17.000000  222900.000000"
            ]
          },
          "metadata": {
            "tags": []
          },
          "execution_count": 26
        }
      ]
    },
    {
      "metadata": {
        "id": "mL-ioev14X5k",
        "colab_type": "code",
        "outputId": "f5bca97e-a036-47aa-9e88-8bf21c29e0f6",
        "colab": {
          "base_uri": "https://localhost:8080/",
          "height": 195
        }
      },
      "cell_type": "code",
      "source": [
        "# Check first 5 rows in te day schedule file\n",
        "schedule = pd.read_csv('/content/gdrive/My Drive/LionData/day_schedule.csv')\n",
        "schedule.head()"
      ],
      "execution_count": 27,
      "outputs": [
        {
          "output_type": "execute_result",
          "data": {
            "text/html": [
              "<div>\n",
              "<style scoped>\n",
              "    .dataframe tbody tr th:only-of-type {\n",
              "        vertical-align: middle;\n",
              "    }\n",
              "\n",
              "    .dataframe tbody tr th {\n",
              "        vertical-align: top;\n",
              "    }\n",
              "\n",
              "    .dataframe thead th {\n",
              "        text-align: right;\n",
              "    }\n",
              "</style>\n",
              "<table border=\"1\" class=\"dataframe\">\n",
              "  <thead>\n",
              "    <tr style=\"text-align: right;\">\n",
              "      <th></th>\n",
              "      <th>group_id</th>\n",
              "      <th>day</th>\n",
              "      <th>title</th>\n",
              "    </tr>\n",
              "  </thead>\n",
              "  <tbody>\n",
              "    <tr>\n",
              "      <th>0</th>\n",
              "      <td>63695</td>\n",
              "      <td>1.0</td>\n",
              "      <td>台北 [AIR]歐胡島市區觀光【州政府．皇宮．國王銅像．中國城】</td>\n",
              "    </tr>\n",
              "    <tr>\n",
              "      <th>1</th>\n",
              "      <td>63695</td>\n",
              "      <td>2.0</td>\n",
              "      <td>夏威夷小環島【鑽石頭山．恐龍灣．噴泉口】－珍珠港[BOATS]豪華愛之船Star of Ho...</td>\n",
              "    </tr>\n",
              "    <tr>\n",
              "      <th>2</th>\n",
              "      <td>63695</td>\n",
              "      <td>3.0</td>\n",
              "      <td>夏威夷 [AIR] 舊金山</td>\n",
              "    </tr>\n",
              "    <tr>\n",
              "      <th>3</th>\n",
              "      <td>63695</td>\n",
              "      <td>4.0</td>\n",
              "      <td>舊金山市區觀光【藝術宮．金門大橋．金門公園．漁人碼頭．金門灣遊船．市政廳．雙子峰．九曲花街】</td>\n",
              "    </tr>\n",
              "    <tr>\n",
              "      <th>4</th>\n",
              "      <td>63695</td>\n",
              "      <td>5.0</td>\n",
              "      <td>舊金山－300KM－優勝美地國家公園－100KM－佛雷斯諾</td>\n",
              "    </tr>\n",
              "  </tbody>\n",
              "</table>\n",
              "</div>"
            ],
            "text/plain": [
              "   group_id  day                                              title\n",
              "0     63695  1.0                   台北 [AIR]歐胡島市區觀光【州政府．皇宮．國王銅像．中國城】\n",
              "1     63695  2.0  夏威夷小環島【鑽石頭山．恐龍灣．噴泉口】－珍珠港[BOATS]豪華愛之船Star of Ho...\n",
              "2     63695  3.0                                      夏威夷 [AIR] 舊金山\n",
              "3     63695  4.0     舊金山市區觀光【藝術宮．金門大橋．金門公園．漁人碼頭．金門灣遊船．市政廳．雙子峰．九曲花街】\n",
              "4     63695  5.0                      舊金山－300KM－優勝美地國家公園－100KM－佛雷斯諾"
            ]
          },
          "metadata": {
            "tags": []
          },
          "execution_count": 27
        }
      ]
    },
    {
      "metadata": {
        "id": "YChptVMho_3o",
        "colab_type": "code",
        "colab": {
          "base_uri": "https://localhost:8080/",
          "height": 284
        },
        "outputId": "c63896ed-dbcf-4485-cdde-5e9d288def86"
      },
      "cell_type": "code",
      "source": [
        "# Check the data in describe\n",
        "schedule.describe()"
      ],
      "execution_count": 28,
      "outputs": [
        {
          "output_type": "execute_result",
          "data": {
            "text/html": [
              "<div>\n",
              "<style scoped>\n",
              "    .dataframe tbody tr th:only-of-type {\n",
              "        vertical-align: middle;\n",
              "    }\n",
              "\n",
              "    .dataframe tbody tr th {\n",
              "        vertical-align: top;\n",
              "    }\n",
              "\n",
              "    .dataframe thead th {\n",
              "        text-align: right;\n",
              "    }\n",
              "</style>\n",
              "<table border=\"1\" class=\"dataframe\">\n",
              "  <thead>\n",
              "    <tr style=\"text-align: right;\">\n",
              "      <th></th>\n",
              "      <th>group_id</th>\n",
              "      <th>day</th>\n",
              "    </tr>\n",
              "  </thead>\n",
              "  <tbody>\n",
              "    <tr>\n",
              "      <th>count</th>\n",
              "      <td>218251.000000</td>\n",
              "      <td>218251.000000</td>\n",
              "    </tr>\n",
              "    <tr>\n",
              "      <th>mean</th>\n",
              "      <td>34246.612112</td>\n",
              "      <td>4.220191</td>\n",
              "    </tr>\n",
              "    <tr>\n",
              "      <th>std</th>\n",
              "      <td>19842.068634</td>\n",
              "      <td>2.647288</td>\n",
              "    </tr>\n",
              "    <tr>\n",
              "      <th>min</th>\n",
              "      <td>2.000000</td>\n",
              "      <td>1.000000</td>\n",
              "    </tr>\n",
              "    <tr>\n",
              "      <th>25%</th>\n",
              "      <td>17196.000000</td>\n",
              "      <td>2.000000</td>\n",
              "    </tr>\n",
              "    <tr>\n",
              "      <th>50%</th>\n",
              "      <td>34293.000000</td>\n",
              "      <td>4.000000</td>\n",
              "    </tr>\n",
              "    <tr>\n",
              "      <th>75%</th>\n",
              "      <td>51402.000000</td>\n",
              "      <td>6.000000</td>\n",
              "    </tr>\n",
              "    <tr>\n",
              "      <th>max</th>\n",
              "      <td>68572.000000</td>\n",
              "      <td>17.000000</td>\n",
              "    </tr>\n",
              "  </tbody>\n",
              "</table>\n",
              "</div>"
            ],
            "text/plain": [
              "            group_id            day\n",
              "count  218251.000000  218251.000000\n",
              "mean    34246.612112       4.220191\n",
              "std     19842.068634       2.647288\n",
              "min         2.000000       1.000000\n",
              "25%     17196.000000       2.000000\n",
              "50%     34293.000000       4.000000\n",
              "75%     51402.000000       6.000000\n",
              "max     68572.000000      17.000000"
            ]
          },
          "metadata": {
            "tags": []
          },
          "execution_count": 28
        }
      ]
    },
    {
      "metadata": {
        "id": "0cIH10Xt4hJi",
        "colab_type": "code",
        "outputId": "d962239d-e7b8-440a-eadd-8b7f8ba70634",
        "colab": {
          "base_uri": "https://localhost:8080/",
          "height": 195
        }
      },
      "cell_type": "code",
      "source": [
        "# Check first 5 rows in the order file\n",
        "order = pd.read_csv('/content/gdrive/My Drive/LionData/order.csv')\n",
        "order.head()"
      ],
      "execution_count": 9,
      "outputs": [
        {
          "output_type": "execute_result",
          "data": {
            "text/html": [
              "<div>\n",
              "<style scoped>\n",
              "    .dataframe tbody tr th:only-of-type {\n",
              "        vertical-align: middle;\n",
              "    }\n",
              "\n",
              "    .dataframe tbody tr th {\n",
              "        vertical-align: top;\n",
              "    }\n",
              "\n",
              "    .dataframe thead th {\n",
              "        text-align: right;\n",
              "    }\n",
              "</style>\n",
              "<table border=\"1\" class=\"dataframe\">\n",
              "  <thead>\n",
              "    <tr style=\"text-align: right;\">\n",
              "      <th></th>\n",
              "      <th>order_id</th>\n",
              "      <th>group_id</th>\n",
              "      <th>order_date</th>\n",
              "      <th>source_1</th>\n",
              "      <th>source_2</th>\n",
              "      <th>unit</th>\n",
              "      <th>people_amount</th>\n",
              "    </tr>\n",
              "  </thead>\n",
              "  <tbody>\n",
              "    <tr>\n",
              "      <th>0</th>\n",
              "      <td>136100</td>\n",
              "      <td>63695</td>\n",
              "      <td>5-Jan-17</td>\n",
              "      <td>src1_value_1</td>\n",
              "      <td>src2_value_1</td>\n",
              "      <td>unit_value_1</td>\n",
              "      <td>2</td>\n",
              "    </tr>\n",
              "    <tr>\n",
              "      <th>1</th>\n",
              "      <td>140370</td>\n",
              "      <td>63695</td>\n",
              "      <td>9-Nov-16</td>\n",
              "      <td>src1_value_1</td>\n",
              "      <td>src2_value_1</td>\n",
              "      <td>unit_value_2</td>\n",
              "      <td>1</td>\n",
              "    </tr>\n",
              "    <tr>\n",
              "      <th>2</th>\n",
              "      <td>211009</td>\n",
              "      <td>63695</td>\n",
              "      <td>20-Jan-17</td>\n",
              "      <td>src1_value_1</td>\n",
              "      <td>src2_value_1</td>\n",
              "      <td>unit_value_3</td>\n",
              "      <td>2</td>\n",
              "    </tr>\n",
              "    <tr>\n",
              "      <th>3</th>\n",
              "      <td>41571</td>\n",
              "      <td>53481</td>\n",
              "      <td>14-Mar-17</td>\n",
              "      <td>src1_value_1</td>\n",
              "      <td>src2_value_1</td>\n",
              "      <td>unit_value_4</td>\n",
              "      <td>4</td>\n",
              "    </tr>\n",
              "    <tr>\n",
              "      <th>4</th>\n",
              "      <td>64125</td>\n",
              "      <td>53481</td>\n",
              "      <td>27-Mar-17</td>\n",
              "      <td>src1_value_2</td>\n",
              "      <td>src2_value_1</td>\n",
              "      <td>unit_value_5</td>\n",
              "      <td>1</td>\n",
              "    </tr>\n",
              "  </tbody>\n",
              "</table>\n",
              "</div>"
            ],
            "text/plain": [
              "   order_id  group_id order_date      source_1      source_2          unit  \\\n",
              "0    136100     63695   5-Jan-17  src1_value_1  src2_value_1  unit_value_1   \n",
              "1    140370     63695   9-Nov-16  src1_value_1  src2_value_1  unit_value_2   \n",
              "2    211009     63695  20-Jan-17  src1_value_1  src2_value_1  unit_value_3   \n",
              "3     41571     53481  14-Mar-17  src1_value_1  src2_value_1  unit_value_4   \n",
              "4     64125     53481  27-Mar-17  src1_value_2  src2_value_1  unit_value_5   \n",
              "\n",
              "   people_amount  \n",
              "0              2  \n",
              "1              1  \n",
              "2              2  \n",
              "3              4  \n",
              "4              1  "
            ]
          },
          "metadata": {
            "tags": []
          },
          "execution_count": 9
        }
      ]
    },
    {
      "metadata": {
        "id": "cB0IDCG44iYo",
        "colab_type": "code",
        "outputId": "f43b6fd1-ce60-49ed-8728-e5f2a76f6eb5",
        "colab": {
          "base_uri": "https://localhost:8080/",
          "height": 195
        }
      },
      "cell_type": "code",
      "source": [
        "# Check first 5 rows in the map file\n",
        "cache = pd.read_csv('/content/gdrive/My Drive/LionData/cache_map.csv')\n",
        "cache.head()"
      ],
      "execution_count": 10,
      "outputs": [
        {
          "output_type": "execute_result",
          "data": {
            "text/html": [
              "<div>\n",
              "<style scoped>\n",
              "    .dataframe tbody tr th:only-of-type {\n",
              "        vertical-align: middle;\n",
              "    }\n",
              "\n",
              "    .dataframe tbody tr th {\n",
              "        vertical-align: top;\n",
              "    }\n",
              "\n",
              "    .dataframe thead th {\n",
              "        text-align: right;\n",
              "    }\n",
              "</style>\n",
              "<table border=\"1\" class=\"dataframe\">\n",
              "  <thead>\n",
              "    <tr style=\"text-align: right;\">\n",
              "      <th></th>\n",
              "      <th>file_name</th>\n",
              "      <th>url</th>\n",
              "    </tr>\n",
              "  </thead>\n",
              "  <tbody>\n",
              "    <tr>\n",
              "      <th>0</th>\n",
              "      <td>lion_cache_1.jpg</td>\n",
              "      <td>https://www.liontravel.com/Comm/2TRS/HotSale/p...</td>\n",
              "    </tr>\n",
              "    <tr>\n",
              "      <th>1</th>\n",
              "      <td>lion_cache_2.jpg</td>\n",
              "      <td>https://www.liontravel.com/Comm/2TRS/HotSale/p...</td>\n",
              "    </tr>\n",
              "    <tr>\n",
              "      <th>2</th>\n",
              "      <td>lion_cache_3.jpg</td>\n",
              "      <td>https://www.liontravel.com/Comm/2trs/hotsale/p...</td>\n",
              "    </tr>\n",
              "    <tr>\n",
              "      <th>3</th>\n",
              "      <td>lion_cache_4.jpg</td>\n",
              "      <td>https://www.liontravel.com/Comm/2TRS/HotSale/p...</td>\n",
              "    </tr>\n",
              "    <tr>\n",
              "      <th>4</th>\n",
              "      <td>lion_cache_5.jpg</td>\n",
              "      <td>https://www.liontravel.com/Comm/2TRS/HotSale/p...</td>\n",
              "    </tr>\n",
              "  </tbody>\n",
              "</table>\n",
              "</div>"
            ],
            "text/plain": [
              "          file_name                                                url\n",
              "0  lion_cache_1.jpg  https://www.liontravel.com/Comm/2TRS/HotSale/p...\n",
              "1  lion_cache_2.jpg  https://www.liontravel.com/Comm/2TRS/HotSale/p...\n",
              "2  lion_cache_3.jpg  https://www.liontravel.com/Comm/2trs/hotsale/p...\n",
              "3  lion_cache_4.jpg  https://www.liontravel.com/Comm/2TRS/HotSale/p...\n",
              "4  lion_cache_5.jpg  https://www.liontravel.com/Comm/2TRS/HotSale/p..."
            ]
          },
          "metadata": {
            "tags": []
          },
          "execution_count": 10
        }
      ]
    },
    {
      "metadata": {
        "id": "TrEad2aNpMEu",
        "colab_type": "code",
        "colab": {
          "base_uri": "https://localhost:8080/",
          "height": 166
        },
        "outputId": "6ea9a106-45c9-4959-eea0-65c282a66c35"
      },
      "cell_type": "code",
      "source": [
        "# Check the data in describe\n",
        "cache.describe()"
      ],
      "execution_count": 29,
      "outputs": [
        {
          "output_type": "execute_result",
          "data": {
            "text/html": [
              "<div>\n",
              "<style scoped>\n",
              "    .dataframe tbody tr th:only-of-type {\n",
              "        vertical-align: middle;\n",
              "    }\n",
              "\n",
              "    .dataframe tbody tr th {\n",
              "        vertical-align: top;\n",
              "    }\n",
              "\n",
              "    .dataframe thead th {\n",
              "        text-align: right;\n",
              "    }\n",
              "</style>\n",
              "<table border=\"1\" class=\"dataframe\">\n",
              "  <thead>\n",
              "    <tr style=\"text-align: right;\">\n",
              "      <th></th>\n",
              "      <th>file_name</th>\n",
              "      <th>url</th>\n",
              "    </tr>\n",
              "  </thead>\n",
              "  <tbody>\n",
              "    <tr>\n",
              "      <th>count</th>\n",
              "      <td>321</td>\n",
              "      <td>321</td>\n",
              "    </tr>\n",
              "    <tr>\n",
              "      <th>unique</th>\n",
              "      <td>321</td>\n",
              "      <td>321</td>\n",
              "    </tr>\n",
              "    <tr>\n",
              "      <th>top</th>\n",
              "      <td>lion_cache_241.gif</td>\n",
              "      <td>https://www.liontravel.com/Comm/2TRS/HotSale/p...</td>\n",
              "    </tr>\n",
              "    <tr>\n",
              "      <th>freq</th>\n",
              "      <td>1</td>\n",
              "      <td>1</td>\n",
              "    </tr>\n",
              "  </tbody>\n",
              "</table>\n",
              "</div>"
            ],
            "text/plain": [
              "                 file_name                                                url\n",
              "count                  321                                                321\n",
              "unique                 321                                                321\n",
              "top     lion_cache_241.gif  https://www.liontravel.com/Comm/2TRS/HotSale/p...\n",
              "freq                     1                                                  1"
            ]
          },
          "metadata": {
            "tags": []
          },
          "execution_count": 29
        }
      ]
    },
    {
      "metadata": {
        "id": "m221YhXX4ja4",
        "colab_type": "code",
        "outputId": "a779179e-db9a-4287-b726-5230d2b388ea",
        "colab": {
          "base_uri": "https://localhost:8080/",
          "height": 195
        }
      },
      "cell_type": "code",
      "source": [
        "# Check first 5 rows in the test data\n",
        "# Second column is the target we want to predict\n",
        "test = pd.read_csv('/content/gdrive/My Drive/LionData/testing-set.csv')\n",
        "test.head()"
      ],
      "execution_count": 11,
      "outputs": [
        {
          "output_type": "execute_result",
          "data": {
            "text/html": [
              "<div>\n",
              "<style scoped>\n",
              "    .dataframe tbody tr th:only-of-type {\n",
              "        vertical-align: middle;\n",
              "    }\n",
              "\n",
              "    .dataframe tbody tr th {\n",
              "        vertical-align: top;\n",
              "    }\n",
              "\n",
              "    .dataframe thead th {\n",
              "        text-align: right;\n",
              "    }\n",
              "</style>\n",
              "<table border=\"1\" class=\"dataframe\">\n",
              "  <thead>\n",
              "    <tr style=\"text-align: right;\">\n",
              "      <th></th>\n",
              "      <th>order_id</th>\n",
              "      <th>deal_or_not</th>\n",
              "    </tr>\n",
              "  </thead>\n",
              "  <tbody>\n",
              "    <tr>\n",
              "      <th>0</th>\n",
              "      <td>136100</td>\n",
              "      <td>NaN</td>\n",
              "    </tr>\n",
              "    <tr>\n",
              "      <th>1</th>\n",
              "      <td>140370</td>\n",
              "      <td>NaN</td>\n",
              "    </tr>\n",
              "    <tr>\n",
              "      <th>2</th>\n",
              "      <td>211009</td>\n",
              "      <td>NaN</td>\n",
              "    </tr>\n",
              "    <tr>\n",
              "      <th>3</th>\n",
              "      <td>5045</td>\n",
              "      <td>NaN</td>\n",
              "    </tr>\n",
              "    <tr>\n",
              "      <th>4</th>\n",
              "      <td>37230</td>\n",
              "      <td>NaN</td>\n",
              "    </tr>\n",
              "  </tbody>\n",
              "</table>\n",
              "</div>"
            ],
            "text/plain": [
              "   order_id  deal_or_not\n",
              "0    136100          NaN\n",
              "1    140370          NaN\n",
              "2    211009          NaN\n",
              "3      5045          NaN\n",
              "4     37230          NaN"
            ]
          },
          "metadata": {
            "tags": []
          },
          "execution_count": 11
        }
      ]
    },
    {
      "metadata": {
        "id": "LKUUvO6JL9JS",
        "colab_type": "code",
        "outputId": "ad6e1530-8a42-4a40-95bd-50d69a42e0ba",
        "colab": {
          "base_uri": "https://localhost:8080/",
          "height": 134
        }
      },
      "cell_type": "code",
      "source": [
        "# 使用info()函式觀察 test 資料是否有空值\n",
        "test.info()"
      ],
      "execution_count": 12,
      "outputs": [
        {
          "output_type": "stream",
          "text": [
            "<class 'pandas.core.frame.DataFrame'>\n",
            "RangeIndex: 150400 entries, 0 to 150399\n",
            "Data columns (total 2 columns):\n",
            "order_id       150400 non-null int64\n",
            "deal_or_not    0 non-null float64\n",
            "dtypes: float64(1), int64(1)\n",
            "memory usage: 2.3 MB\n"
          ],
          "name": "stdout"
        }
      ]
    },
    {
      "metadata": {
        "id": "RWa42mcypqys",
        "colab_type": "code",
        "colab": {
          "base_uri": "https://localhost:8080/",
          "height": 134
        },
        "outputId": "46d7bee8-f617-49c6-db2a-3882b838fda2"
      },
      "cell_type": "code",
      "source": [
        "# 使用info()函式觀察 training 資料是否有空值\n",
        "train.info()"
      ],
      "execution_count": 33,
      "outputs": [
        {
          "output_type": "stream",
          "text": [
            "<class 'pandas.core.frame.DataFrame'>\n",
            "RangeIndex: 146620 entries, 0 to 146619\n",
            "Data columns (total 2 columns):\n",
            "order_id       146620 non-null int64\n",
            "deal_or_not    146620 non-null int64\n",
            "dtypes: int64(2)\n",
            "memory usage: 2.2 MB\n"
          ],
          "name": "stdout"
        }
      ]
    },
    {
      "metadata": {
        "id": "M5FPi0VypuZC",
        "colab_type": "code",
        "colab": {
          "base_uri": "https://localhost:8080/",
          "height": 284
        },
        "outputId": "6e34873d-c625-4bfe-c9e0-1302baadfc2c"
      },
      "cell_type": "code",
      "source": [
        "# 使用 Describe 來觀察 train 資料分布\n",
        "train.describe()"
      ],
      "execution_count": 34,
      "outputs": [
        {
          "output_type": "execute_result",
          "data": {
            "text/html": [
              "<div>\n",
              "<style scoped>\n",
              "    .dataframe tbody tr th:only-of-type {\n",
              "        vertical-align: middle;\n",
              "    }\n",
              "\n",
              "    .dataframe tbody tr th {\n",
              "        vertical-align: top;\n",
              "    }\n",
              "\n",
              "    .dataframe thead th {\n",
              "        text-align: right;\n",
              "    }\n",
              "</style>\n",
              "<table border=\"1\" class=\"dataframe\">\n",
              "  <thead>\n",
              "    <tr style=\"text-align: right;\">\n",
              "      <th></th>\n",
              "      <th>order_id</th>\n",
              "      <th>deal_or_not</th>\n",
              "    </tr>\n",
              "  </thead>\n",
              "  <tbody>\n",
              "    <tr>\n",
              "      <th>count</th>\n",
              "      <td>146620.000000</td>\n",
              "      <td>146620.000000</td>\n",
              "    </tr>\n",
              "    <tr>\n",
              "      <th>mean</th>\n",
              "      <td>156364.018067</td>\n",
              "      <td>0.199182</td>\n",
              "    </tr>\n",
              "    <tr>\n",
              "      <th>std</th>\n",
              "      <td>95558.835525</td>\n",
              "      <td>0.399386</td>\n",
              "    </tr>\n",
              "    <tr>\n",
              "      <th>min</th>\n",
              "      <td>1.000000</td>\n",
              "      <td>0.000000</td>\n",
              "    </tr>\n",
              "    <tr>\n",
              "      <th>25%</th>\n",
              "      <td>74837.750000</td>\n",
              "      <td>0.000000</td>\n",
              "    </tr>\n",
              "    <tr>\n",
              "      <th>50%</th>\n",
              "      <td>150172.000000</td>\n",
              "      <td>0.000000</td>\n",
              "    </tr>\n",
              "    <tr>\n",
              "      <th>75%</th>\n",
              "      <td>233551.000000</td>\n",
              "      <td>0.000000</td>\n",
              "    </tr>\n",
              "    <tr>\n",
              "      <th>max</th>\n",
              "      <td>340111.000000</td>\n",
              "      <td>1.000000</td>\n",
              "    </tr>\n",
              "  </tbody>\n",
              "</table>\n",
              "</div>"
            ],
            "text/plain": [
              "            order_id    deal_or_not\n",
              "count  146620.000000  146620.000000\n",
              "mean   156364.018067       0.199182\n",
              "std     95558.835525       0.399386\n",
              "min         1.000000       0.000000\n",
              "25%     74837.750000       0.000000\n",
              "50%    150172.000000       0.000000\n",
              "75%    233551.000000       0.000000\n",
              "max    340111.000000       1.000000"
            ]
          },
          "metadata": {
            "tags": []
          },
          "execution_count": 34
        }
      ]
    },
    {
      "metadata": {
        "id": "DRnfMobs5gAi",
        "colab_type": "code",
        "outputId": "83193ebc-ef00-45c0-9298-b81180a6bfbc",
        "colab": {
          "base_uri": "https://localhost:8080/",
          "height": 195
        }
      },
      "cell_type": "code",
      "source": [
        "# Check first 5 rows in the training data\n",
        "# This is the training file\n",
        "train = pd.read_csv('/content/gdrive/My Drive/LionData/training-set.csv')\n",
        "train.head()"
      ],
      "execution_count": 32,
      "outputs": [
        {
          "output_type": "execute_result",
          "data": {
            "text/html": [
              "<div>\n",
              "<style scoped>\n",
              "    .dataframe tbody tr th:only-of-type {\n",
              "        vertical-align: middle;\n",
              "    }\n",
              "\n",
              "    .dataframe tbody tr th {\n",
              "        vertical-align: top;\n",
              "    }\n",
              "\n",
              "    .dataframe thead th {\n",
              "        text-align: right;\n",
              "    }\n",
              "</style>\n",
              "<table border=\"1\" class=\"dataframe\">\n",
              "  <thead>\n",
              "    <tr style=\"text-align: right;\">\n",
              "      <th></th>\n",
              "      <th>order_id</th>\n",
              "      <th>deal_or_not</th>\n",
              "    </tr>\n",
              "  </thead>\n",
              "  <tbody>\n",
              "    <tr>\n",
              "      <th>0</th>\n",
              "      <td>41571</td>\n",
              "      <td>1</td>\n",
              "    </tr>\n",
              "    <tr>\n",
              "      <th>1</th>\n",
              "      <td>64125</td>\n",
              "      <td>1</td>\n",
              "    </tr>\n",
              "    <tr>\n",
              "      <th>2</th>\n",
              "      <td>76131</td>\n",
              "      <td>0</td>\n",
              "    </tr>\n",
              "    <tr>\n",
              "      <th>3</th>\n",
              "      <td>238671</td>\n",
              "      <td>0</td>\n",
              "    </tr>\n",
              "    <tr>\n",
              "      <th>4</th>\n",
              "      <td>93305</td>\n",
              "      <td>1</td>\n",
              "    </tr>\n",
              "  </tbody>\n",
              "</table>\n",
              "</div>"
            ],
            "text/plain": [
              "   order_id  deal_or_not\n",
              "0     41571            1\n",
              "1     64125            1\n",
              "2     76131            0\n",
              "3    238671            0\n",
              "4     93305            1"
            ]
          },
          "metadata": {
            "tags": []
          },
          "execution_count": 32
        }
      ]
    },
    {
      "metadata": {
        "id": "WHgeDebXmmQV",
        "colab_type": "code",
        "colab": {
          "base_uri": "https://localhost:8080/",
          "height": 411
        },
        "outputId": "617f2f3c-2028-4e5a-d211-fc0c802a631a"
      },
      "cell_type": "code",
      "source": [
        "# Visual the data; from describe(), it shows about 19.9% to have a group.\n",
        "import seaborn as sns\n",
        "sns.countplot(train['deal_or_not'])"
      ],
      "execution_count": 20,
      "outputs": [
        {
          "output_type": "stream",
          "text": [
            "/usr/local/lib/python3.6/dist-packages/seaborn/categorical.py:1428: FutureWarning: remove_na is deprecated and is a private function. Do not use.\n",
            "  stat_data = remove_na(group_data)\n"
          ],
          "name": "stderr"
        },
        {
          "output_type": "execute_result",
          "data": {
            "text/plain": [
              "<matplotlib.axes._subplots.AxesSubplot at 0x7f2c56db8860>"
            ]
          },
          "metadata": {
            "tags": []
          },
          "execution_count": 20
        },
        {
          "output_type": "display_data",
          "data": {
            "image/png": "[encoded data removed]",
            "text/plain": [
              "<matplotlib.figure.Figure at 0x7f2c5a0c4668>"
            ]
          },
          "metadata": {
            "tags": []
          }
        }
      ]
    },
    {
      "metadata": {
        "id": "MCNUZ5M5Ncvt",
        "colab_type": "code",
        "colab": {}
      },
      "cell_type": "code",
      "source": [
        "# Data merge: merge data in the provided files\n",
        "# 查詢以下資料特徵:是否容易成團\n",
        "# 價錢高低/資料來源1或2/出團時間是否假日/出發機場/目的地area/天數/標題/圖片/目的地機場/團費\n",
        "# Airbnb Expreience: 切割目的地:亞洲/歐洲/美洲,以提高準確率\n"
      ],
      "execution_count": 0,
      "outputs": []
    },
    {
      "metadata": {
        "id": "5v_jtOv7y_j1",
        "colab_type": "code",
        "outputId": "479640f2-4a32-4887-81ea-f64c856404bf",
        "colab": {
          "base_uri": "https://localhost:8080/",
          "height": 168
        }
      },
      "cell_type": "code",
      "source": [
        "group.iloc[0]"
      ],
      "execution_count": 16,
      "outputs": [
        {
          "output_type": "execute_result",
          "data": {
            "text/plain": [
              "group_id                                                      63695\n",
              "sub_line                                            subline_value_1\n",
              "area                                                   area_value_1\n",
              "days                                                             12\n",
              "begin_date                                                22-Mar-17\n",
              "price                                                        106900\n",
              "product_name         最高省8000》大美西～夏威夷、優勝美地、西峽天空步道、聖地牙哥、環球影城(哈利波特)12日\n",
              "promotion_prog    &lt;B&gt;[GG]《行銷活動》[//]&lt;/B&gt;&lt;font face...\n",
              "Name: 0, dtype: object"
            ]
          },
          "metadata": {
            "tags": []
          },
          "execution_count": 16
        }
      ]
    },
    {
      "metadata": {
        "id": "Oo7fNph_zALN",
        "colab_type": "code",
        "colab": {
          "base_uri": "https://localhost:8080/",
          "height": 1067
        },
        "outputId": "276b5ec7-8969-4944-8d74-361a165fb009"
      },
      "cell_type": "code",
      "source": [
        "# Merge all data\n",
        "\n",
        "result1 = pd.merge(ariline, group, on='group_id')\n",
        "\n",
        "result2 = pd.merge(result1, schedule, on='group_id')\n",
        "\n",
        "result3 = pd.merge(result2, order, on='group_id')\n",
        "\n",
        "# Combine training data and all usefule data\n",
        "result4 = pd.merge(result3, train, on='order_id')\n",
        "\n",
        "# Show first 5 results\n",
        "result4.head()"
      ],
      "execution_count": 47,
      "outputs": [
        {
          "output_type": "execute_result",
          "data": {
            "text/html": [
              "<div>\n",
              "<style scoped>\n",
              "    .dataframe tbody tr th:only-of-type {\n",
              "        vertical-align: middle;\n",
              "    }\n",
              "\n",
              "    .dataframe tbody tr th {\n",
              "        vertical-align: top;\n",
              "    }\n",
              "\n",
              "    .dataframe thead th {\n",
              "        text-align: right;\n",
              "    }\n",
              "</style>\n",
              "<table border=\"1\" class=\"dataframe\">\n",
              "  <thead>\n",
              "    <tr style=\"text-align: right;\">\n",
              "      <th></th>\n",
              "      <th>group_id</th>\n",
              "      <th>go_back</th>\n",
              "      <th>fly_time</th>\n",
              "      <th>src_airport</th>\n",
              "      <th>arrive_time</th>\n",
              "      <th>dst_airport</th>\n",
              "      <th>sub_line</th>\n",
              "      <th>area</th>\n",
              "      <th>days</th>\n",
              "      <th>begin_date</th>\n",
              "      <th>...</th>\n",
              "      <th>promotion_prog</th>\n",
              "      <th>day</th>\n",
              "      <th>title</th>\n",
              "      <th>order_id</th>\n",
              "      <th>order_date</th>\n",
              "      <th>source_1</th>\n",
              "      <th>source_2</th>\n",
              "      <th>unit</th>\n",
              "      <th>people_amount</th>\n",
              "      <th>deal_or_not</th>\n",
              "    </tr>\n",
              "  </thead>\n",
              "  <tbody>\n",
              "    <tr>\n",
              "      <th>0</th>\n",
              "      <td>53481</td>\n",
              "      <td>去程</td>\n",
              "      <td>2017/5/17 23:00</td>\n",
              "      <td>TPE 桃園機場</td>\n",
              "      <td>2017/5/17 14:45</td>\n",
              "      <td>HNL 檀香山機場</td>\n",
              "      <td>subline_value_1</td>\n",
              "      <td>area_value_1</td>\n",
              "      <td>12</td>\n",
              "      <td>17-May-17</td>\n",
              "      <td>...</td>\n",
              "      <td>&amp;lt;B&amp;gt;[GG]《行銷活動》[//]&amp;lt;/B&amp;gt;&amp;lt;font face...</td>\n",
              "      <td>1.0</td>\n",
              "      <td>台北 [AIR]歐胡島市區觀光【州政府．皇宮．國王銅像．中國城】</td>\n",
              "      <td>41571</td>\n",
              "      <td>14-Mar-17</td>\n",
              "      <td>src1_value_1</td>\n",
              "      <td>src2_value_1</td>\n",
              "      <td>unit_value_4</td>\n",
              "      <td>4</td>\n",
              "      <td>1</td>\n",
              "    </tr>\n",
              "    <tr>\n",
              "      <th>1</th>\n",
              "      <td>53481</td>\n",
              "      <td>去程</td>\n",
              "      <td>2017/5/17 23:00</td>\n",
              "      <td>TPE 桃園機場</td>\n",
              "      <td>2017/5/17 14:45</td>\n",
              "      <td>HNL 檀香山機場</td>\n",
              "      <td>subline_value_1</td>\n",
              "      <td>area_value_1</td>\n",
              "      <td>12</td>\n",
              "      <td>17-May-17</td>\n",
              "      <td>...</td>\n",
              "      <td>&amp;lt;B&amp;gt;[GG]《行銷活動》[//]&amp;lt;/B&amp;gt;&amp;lt;font face...</td>\n",
              "      <td>2.0</td>\n",
              "      <td>夏威夷小環島【鑽石頭山．恐龍灣．噴泉口】－珍珠港[BOATS]豪華愛之船Star of Ho...</td>\n",
              "      <td>41571</td>\n",
              "      <td>14-Mar-17</td>\n",
              "      <td>src1_value_1</td>\n",
              "      <td>src2_value_1</td>\n",
              "      <td>unit_value_4</td>\n",
              "      <td>4</td>\n",
              "      <td>1</td>\n",
              "    </tr>\n",
              "    <tr>\n",
              "      <th>2</th>\n",
              "      <td>53481</td>\n",
              "      <td>去程</td>\n",
              "      <td>2017/5/17 23:00</td>\n",
              "      <td>TPE 桃園機場</td>\n",
              "      <td>2017/5/17 14:45</td>\n",
              "      <td>HNL 檀香山機場</td>\n",
              "      <td>subline_value_1</td>\n",
              "      <td>area_value_1</td>\n",
              "      <td>12</td>\n",
              "      <td>17-May-17</td>\n",
              "      <td>...</td>\n",
              "      <td>&amp;lt;B&amp;gt;[GG]《行銷活動》[//]&amp;lt;/B&amp;gt;&amp;lt;font face...</td>\n",
              "      <td>3.0</td>\n",
              "      <td>夏威夷 [AIR] 舊金山</td>\n",
              "      <td>41571</td>\n",
              "      <td>14-Mar-17</td>\n",
              "      <td>src1_value_1</td>\n",
              "      <td>src2_value_1</td>\n",
              "      <td>unit_value_4</td>\n",
              "      <td>4</td>\n",
              "      <td>1</td>\n",
              "    </tr>\n",
              "    <tr>\n",
              "      <th>3</th>\n",
              "      <td>53481</td>\n",
              "      <td>去程</td>\n",
              "      <td>2017/5/17 23:00</td>\n",
              "      <td>TPE 桃園機場</td>\n",
              "      <td>2017/5/17 14:45</td>\n",
              "      <td>HNL 檀香山機場</td>\n",
              "      <td>subline_value_1</td>\n",
              "      <td>area_value_1</td>\n",
              "      <td>12</td>\n",
              "      <td>17-May-17</td>\n",
              "      <td>...</td>\n",
              "      <td>&amp;lt;B&amp;gt;[GG]《行銷活動》[//]&amp;lt;/B&amp;gt;&amp;lt;font face...</td>\n",
              "      <td>4.0</td>\n",
              "      <td>舊金山市區觀光【藝術宮．金門大橋．金門公園．漁人碼頭．金門灣遊船．市政廳．雙子峰．九曲花街】</td>\n",
              "      <td>41571</td>\n",
              "      <td>14-Mar-17</td>\n",
              "      <td>src1_value_1</td>\n",
              "      <td>src2_value_1</td>\n",
              "      <td>unit_value_4</td>\n",
              "      <td>4</td>\n",
              "      <td>1</td>\n",
              "    </tr>\n",
              "    <tr>\n",
              "      <th>4</th>\n",
              "      <td>53481</td>\n",
              "      <td>去程</td>\n",
              "      <td>2017/5/17 23:00</td>\n",
              "      <td>TPE 桃園機場</td>\n",
              "      <td>2017/5/17 14:45</td>\n",
              "      <td>HNL 檀香山機場</td>\n",
              "      <td>subline_value_1</td>\n",
              "      <td>area_value_1</td>\n",
              "      <td>12</td>\n",
              "      <td>17-May-17</td>\n",
              "      <td>...</td>\n",
              "      <td>&amp;lt;B&amp;gt;[GG]《行銷活動》[//]&amp;lt;/B&amp;gt;&amp;lt;font face...</td>\n",
              "      <td>5.0</td>\n",
              "      <td>舊金山－300KM－優勝美地國家公園－100KM－佛雷斯諾</td>\n",
              "      <td>41571</td>\n",
              "      <td>14-Mar-17</td>\n",
              "      <td>src1_value_1</td>\n",
              "      <td>src2_value_1</td>\n",
              "      <td>unit_value_4</td>\n",
              "      <td>4</td>\n",
              "      <td>1</td>\n",
              "    </tr>\n",
              "  </tbody>\n",
              "</table>\n",
              "<p>5 rows × 22 columns</p>\n",
              "</div>"
            ],
            "text/plain": [
              "   group_id go_back         fly_time src_airport      arrive_time dst_airport  \\\n",
              "0     53481      去程  2017/5/17 23:00    TPE 桃園機場  2017/5/17 14:45   HNL 檀香山機場   \n",
              "1     53481      去程  2017/5/17 23:00    TPE 桃園機場  2017/5/17 14:45   HNL 檀香山機場   \n",
              "2     53481      去程  2017/5/17 23:00    TPE 桃園機場  2017/5/17 14:45   HNL 檀香山機場   \n",
              "3     53481      去程  2017/5/17 23:00    TPE 桃園機場  2017/5/17 14:45   HNL 檀香山機場   \n",
              "4     53481      去程  2017/5/17 23:00    TPE 桃園機場  2017/5/17 14:45   HNL 檀香山機場   \n",
              "\n",
              "          sub_line          area  days begin_date     ...      \\\n",
              "0  subline_value_1  area_value_1    12  17-May-17     ...       \n",
              "1  subline_value_1  area_value_1    12  17-May-17     ...       \n",
              "2  subline_value_1  area_value_1    12  17-May-17     ...       \n",
              "3  subline_value_1  area_value_1    12  17-May-17     ...       \n",
              "4  subline_value_1  area_value_1    12  17-May-17     ...       \n",
              "\n",
              "                                      promotion_prog  day  \\\n",
              "0  &lt;B&gt;[GG]《行銷活動》[//]&lt;/B&gt;&lt;font face...  1.0   \n",
              "1  &lt;B&gt;[GG]《行銷活動》[//]&lt;/B&gt;&lt;font face...  2.0   \n",
              "2  &lt;B&gt;[GG]《行銷活動》[//]&lt;/B&gt;&lt;font face...  3.0   \n",
              "3  &lt;B&gt;[GG]《行銷活動》[//]&lt;/B&gt;&lt;font face...  4.0   \n",
              "4  &lt;B&gt;[GG]《行銷活動》[//]&lt;/B&gt;&lt;font face...  5.0   \n",
              "\n",
              "                                               title  order_id order_date  \\\n",
              "0                   台北 [AIR]歐胡島市區觀光【州政府．皇宮．國王銅像．中國城】     41571  14-Mar-17   \n",
              "1  夏威夷小環島【鑽石頭山．恐龍灣．噴泉口】－珍珠港[BOATS]豪華愛之船Star of Ho...     41571  14-Mar-17   \n",
              "2                                      夏威夷 [AIR] 舊金山     41571  14-Mar-17   \n",
              "3     舊金山市區觀光【藝術宮．金門大橋．金門公園．漁人碼頭．金門灣遊船．市政廳．雙子峰．九曲花街】     41571  14-Mar-17   \n",
              "4                      舊金山－300KM－優勝美地國家公園－100KM－佛雷斯諾     41571  14-Mar-17   \n",
              "\n",
              "       source_1      source_2          unit people_amount deal_or_not  \n",
              "0  src1_value_1  src2_value_1  unit_value_4             4           1  \n",
              "1  src1_value_1  src2_value_1  unit_value_4             4           1  \n",
              "2  src1_value_1  src2_value_1  unit_value_4             4           1  \n",
              "3  src1_value_1  src2_value_1  unit_value_4             4           1  \n",
              "4  src1_value_1  src2_value_1  unit_value_4             4           1  \n",
              "\n",
              "[5 rows x 22 columns]"
            ]
          },
          "metadata": {
            "tags": []
          },
          "execution_count": 47
        }
      ]
    },
    {
      "metadata": {
        "id": "SxXZsT6stGfb",
        "colab_type": "code",
        "colab": {
          "base_uri": "https://localhost:8080/",
          "height": 470
        },
        "outputId": "28eff8bf-93fa-48eb-d6fd-41bdb0000ab1"
      },
      "cell_type": "code",
      "source": [
        "# check data type\n",
        "result4.info()"
      ],
      "execution_count": 48,
      "outputs": [
        {
          "output_type": "stream",
          "text": [
            "<class 'pandas.core.frame.DataFrame'>\n",
            "Int64Index: 2133031 entries, 0 to 2133030\n",
            "Data columns (total 22 columns):\n",
            "group_id          int64\n",
            "go_back           object\n",
            "fly_time          object\n",
            "src_airport       object\n",
            "arrive_time       object\n",
            "dst_airport       object\n",
            "sub_line          object\n",
            "area              object\n",
            "days              int64\n",
            "begin_date        object\n",
            "price             int64\n",
            "product_name      object\n",
            "promotion_prog    object\n",
            "day               float64\n",
            "title             object\n",
            "order_id          int64\n",
            "order_date        object\n",
            "source_1          object\n",
            "source_2          object\n",
            "unit              object\n",
            "people_amount     int64\n",
            "deal_or_not       int64\n",
            "dtypes: float64(1), int64(6), object(15)\n",
            "memory usage: 374.3+ MB\n"
          ],
          "name": "stdout"
        }
      ]
    },
    {
      "metadata": {
        "id": "fjaH-WoU59Og",
        "colab_type": "code",
        "colab": {
          "base_uri": "https://localhost:8080/",
          "height": 284
        },
        "outputId": "b083e3fa-a413-49cc-fee1-a066f85d1d64"
      },
      "cell_type": "code",
      "source": [
        "# Check data\n",
        "result4.describe()"
      ],
      "execution_count": 49,
      "outputs": [
        {
          "output_type": "execute_result",
          "data": {
            "text/html": [
              "<div>\n",
              "<style scoped>\n",
              "    .dataframe tbody tr th:only-of-type {\n",
              "        vertical-align: middle;\n",
              "    }\n",
              "\n",
              "    .dataframe tbody tr th {\n",
              "        vertical-align: top;\n",
              "    }\n",
              "\n",
              "    .dataframe thead th {\n",
              "        text-align: right;\n",
              "    }\n",
              "</style>\n",
              "<table border=\"1\" class=\"dataframe\">\n",
              "  <thead>\n",
              "    <tr style=\"text-align: right;\">\n",
              "      <th></th>\n",
              "      <th>group_id</th>\n",
              "      <th>days</th>\n",
              "      <th>price</th>\n",
              "      <th>day</th>\n",
              "      <th>order_id</th>\n",
              "      <th>people_amount</th>\n",
              "      <th>deal_or_not</th>\n",
              "    </tr>\n",
              "  </thead>\n",
              "  <tbody>\n",
              "    <tr>\n",
              "      <th>count</th>\n",
              "      <td>2.133031e+06</td>\n",
              "      <td>2.133031e+06</td>\n",
              "      <td>2.133031e+06</td>\n",
              "      <td>2.133031e+06</td>\n",
              "      <td>2.133031e+06</td>\n",
              "      <td>2.133031e+06</td>\n",
              "      <td>2.133031e+06</td>\n",
              "    </tr>\n",
              "    <tr>\n",
              "      <th>mean</th>\n",
              "      <td>3.430939e+04</td>\n",
              "      <td>7.561916e+00</td>\n",
              "      <td>4.552123e+04</td>\n",
              "      <td>4.606551e+00</td>\n",
              "      <td>1.563276e+05</td>\n",
              "      <td>3.018747e+00</td>\n",
              "      <td>1.958757e-01</td>\n",
              "    </tr>\n",
              "    <tr>\n",
              "      <th>std</th>\n",
              "      <td>1.979476e+04</td>\n",
              "      <td>2.463420e+00</td>\n",
              "      <td>2.476587e+04</td>\n",
              "      <td>2.894103e+00</td>\n",
              "      <td>9.559520e+04</td>\n",
              "      <td>2.940316e+00</td>\n",
              "      <td>3.968734e-01</td>\n",
              "    </tr>\n",
              "    <tr>\n",
              "      <th>min</th>\n",
              "      <td>2.000000e+00</td>\n",
              "      <td>3.000000e+00</td>\n",
              "      <td>7.500000e+03</td>\n",
              "      <td>1.000000e+00</td>\n",
              "      <td>1.000000e+00</td>\n",
              "      <td>1.000000e+00</td>\n",
              "      <td>0.000000e+00</td>\n",
              "    </tr>\n",
              "    <tr>\n",
              "      <th>25%</th>\n",
              "      <td>1.753400e+04</td>\n",
              "      <td>5.000000e+00</td>\n",
              "      <td>2.790000e+04</td>\n",
              "      <td>2.000000e+00</td>\n",
              "      <td>7.475500e+04</td>\n",
              "      <td>2.000000e+00</td>\n",
              "      <td>0.000000e+00</td>\n",
              "    </tr>\n",
              "    <tr>\n",
              "      <th>50%</th>\n",
              "      <td>3.411000e+04</td>\n",
              "      <td>8.000000e+00</td>\n",
              "      <td>3.890000e+04</td>\n",
              "      <td>4.000000e+00</td>\n",
              "      <td>1.502820e+05</td>\n",
              "      <td>2.000000e+00</td>\n",
              "      <td>0.000000e+00</td>\n",
              "    </tr>\n",
              "    <tr>\n",
              "      <th>75%</th>\n",
              "      <td>5.147300e+04</td>\n",
              "      <td>1.000000e+01</td>\n",
              "      <td>6.090000e+04</td>\n",
              "      <td>6.000000e+00</td>\n",
              "      <td>2.334620e+05</td>\n",
              "      <td>4.000000e+00</td>\n",
              "      <td>0.000000e+00</td>\n",
              "    </tr>\n",
              "    <tr>\n",
              "      <th>max</th>\n",
              "      <td>6.856900e+04</td>\n",
              "      <td>1.600000e+01</td>\n",
              "      <td>2.229000e+05</td>\n",
              "      <td>1.700000e+01</td>\n",
              "      <td>3.401110e+05</td>\n",
              "      <td>5.000000e+01</td>\n",
              "      <td>1.000000e+00</td>\n",
              "    </tr>\n",
              "  </tbody>\n",
              "</table>\n",
              "</div>"
            ],
            "text/plain": [
              "           group_id          days         price           day      order_id  \\\n",
              "count  2.133031e+06  2.133031e+06  2.133031e+06  2.133031e+06  2.133031e+06   \n",
              "mean   3.430939e+04  7.561916e+00  4.552123e+04  4.606551e+00  1.563276e+05   \n",
              "std    1.979476e+04  2.463420e+00  2.476587e+04  2.894103e+00  9.559520e+04   \n",
              "min    2.000000e+00  3.000000e+00  7.500000e+03  1.000000e+00  1.000000e+00   \n",
              "25%    1.753400e+04  5.000000e+00  2.790000e+04  2.000000e+00  7.475500e+04   \n",
              "50%    3.411000e+04  8.000000e+00  3.890000e+04  4.000000e+00  1.502820e+05   \n",
              "75%    5.147300e+04  1.000000e+01  6.090000e+04  6.000000e+00  2.334620e+05   \n",
              "max    6.856900e+04  1.600000e+01  2.229000e+05  1.700000e+01  3.401110e+05   \n",
              "\n",
              "       people_amount   deal_or_not  \n",
              "count   2.133031e+06  2.133031e+06  \n",
              "mean    3.018747e+00  1.958757e-01  \n",
              "std     2.940316e+00  3.968734e-01  \n",
              "min     1.000000e+00  0.000000e+00  \n",
              "25%     2.000000e+00  0.000000e+00  \n",
              "50%     2.000000e+00  0.000000e+00  \n",
              "75%     4.000000e+00  0.000000e+00  \n",
              "max     5.000000e+01  1.000000e+00  "
            ]
          },
          "metadata": {
            "tags": []
          },
          "execution_count": 49
        }
      ]
    },
    {
      "metadata": {
        "id": "rMMABm-_6DkD",
        "colab_type": "code",
        "colab": {
          "base_uri": "https://localhost:8080/",
          "height": 470
        },
        "outputId": "26e116f8-a8c5-4782-d5b6-68528e546fd9"
      },
      "cell_type": "code",
      "source": [
        "# how to fill items into empty items\n",
        "# in different columns, it should have different ways.\n"
      ],
      "execution_count": 51,
      "outputs": [
        {
          "output_type": "stream",
          "text": [
            "<class 'pandas.core.frame.DataFrame'>\n",
            "Int64Index: 2133031 entries, 0 to 2133030\n",
            "Data columns (total 22 columns):\n",
            "group_id          int64\n",
            "go_back           object\n",
            "fly_time          object\n",
            "src_airport       object\n",
            "arrive_time       object\n",
            "dst_airport       object\n",
            "sub_line          object\n",
            "area              object\n",
            "days              int64\n",
            "begin_date        object\n",
            "price             int64\n",
            "product_name      object\n",
            "promotion_prog    object\n",
            "day               float64\n",
            "title             object\n",
            "order_id          int64\n",
            "order_date        object\n",
            "source_1          object\n",
            "source_2          object\n",
            "unit              object\n",
            "people_amount     int64\n",
            "deal_or_not       int64\n",
            "dtypes: float64(1), int64(6), object(15)\n",
            "memory usage: 374.3+ MB\n"
          ],
          "name": "stdout"
        }
      ]
    },
    {
      "metadata": {
        "id": "BZZnrZvH8Ixo",
        "colab_type": "code",
        "colab": {}
      },
      "cell_type": "code",
      "source": [
        ""
      ],
      "execution_count": 0,
      "outputs": []
    }
  ]
}